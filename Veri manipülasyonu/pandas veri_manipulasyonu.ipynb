{
 "cells": [
  {
   "cell_type": "markdown",
   "metadata": {},
   "source": [
    "# Pandas Serisi Oluşturmak"
   ]
  },
  {
   "cell_type": "code",
   "execution_count": 29,
   "metadata": {},
   "outputs": [
    {
     "name": "stdout",
     "output_type": "stream",
     "text": [
      " seri: \n",
      "0    10\n",
      "1    88\n",
      "2     3\n",
      "3     4\n",
      "4     5\n",
      "dtype: int64 \n",
      "İlk Değer: 10 \n",
      "İkinci Değer: 88 \n",
      "\n"
     ]
    }
   ],
   "source": [
    "import pandas as pd \n",
    "\n",
    "\n",
    "# pd.Series() fonksiyonu ile yeni bir Series veri yapısı oluşturuyoruz ve içine [10, 88, 3, 4, 5] verilerini ekliyoruz.\n",
    "seri = pd.Series([10, 88, 3, 4, 5])\n",
    "\n",
    "# Oluşturduğumuz Series veri yapısını ekrana yazdırıyoruz.\n",
    "print(\" seri: \\n{} \\nİlk Değer: {} \\nİkinci Değer: {} \\n\".format(seri,data[0],data[1]))\n"
   ]
  },
  {
   "cell_type": "code",
   "execution_count": 2,
   "metadata": {},
   "outputs": [
    {
     "name": "stdout",
     "output_type": "stream",
     "text": [
      "<class 'pandas.core.series.Series'>\n",
      "[RangeIndex(start=0, stop=5, step=1)]\n",
      "int64\n",
      "5\n",
      "1\n",
      "[10 88  3  4  5]\n",
      "0    10\n",
      "1    88\n",
      "2     3\n",
      "dtype: int64\n",
      "2    3\n",
      "3    4\n",
      "4    5\n",
      "dtype: int64\n"
     ]
    }
   ],
   "source": [
    "import pandas as pd\n",
    "\n",
    "seri = pd.Series([10, 88, 3, 4, 5])\n",
    "\n",
    "print(type(seri))\n",
    "# \"type()\" fonksiyonu, verilen nesnenin tipini (sınıfını) ekrana yazdırır.\n",
    "print(seri.axes)\n",
    "# \"axes\" özelliği, veri yapısının indekslerini (etiketlerini) döndürür.\n",
    "print(seri.dtype)\n",
    "# \"dtype\" özelliği, veri yapısındaki elemanların veri tipini döndürür.\n",
    "print(seri.size)\n",
    "# \"size\" özelliği, veri yapısındaki eleman sayısını döndürür.\n",
    "print(seri.ndim)\n",
    "# \"ndim\" özelliği, veri yapısının boyut sayısını döndürür. Series veri yapısı tek boyutludur, bu yüzden sonuç 1 olur.\n",
    "print(seri.values)\n",
    "# \"values\" özelliği, veri yapısındaki elemanları bir NumPy dizisi olarak döndürür.\n",
    "print(seri.head(3))\n",
    "# \"head()\" metodu, veri yapısının ilk N elemanını döndürür. Burada N değeri 3 olarak belirtilmiştir.\n",
    "print(seri.tail(3))\n",
    "# \"tail()\" metodu, veri yapısının son N elemanını döndürür. Burada N değeri 3 olarak belirtilmiştir.\n",
    "\n"
   ]
  },
  {
   "cell_type": "code",
   "execution_count": 22,
   "metadata": {},
   "outputs": [
    {
     "name": "stdout",
     "output_type": "stream",
     "text": [
      "a1:\n",
      "1     99\n",
      "3     22\n",
      "5    332\n",
      "7     94\n",
      "9      5\n",
      "dtype: int64\n",
      "\n",
      "a2: \n",
      "a     99\n",
      "b     22\n",
      "c    332\n",
      "d     94\n",
      "e      5\n",
      "dtype: int64 \n"
     ]
    }
   ],
   "source": [
    "#index isimlendirmesi\n",
    "# Veri ve indeks listelerini belirliyoruz.\n",
    "a1 = pd.Series([99,22,332,94,5], index = [1,3,5,7,9])\n",
    "a2 = pd.Series([99,22,332,94,5], index = [\"a\",\"b\",\"c\",\"d\",\"e\"])\n",
    "print(\"a1:\\n{}\\n\\na2: \\n{} \".format(a1,a2))\n"
   ]
  },
  {
   "cell_type": "code",
   "execution_count": 21,
   "metadata": {},
   "outputs": [
    {
     "name": "stdout",
     "output_type": "stream",
     "text": [
      "a2['a']: 99 \n",
      "\n",
      "a2['a':'c']: \n",
      "a     99\n",
      "b     22\n",
      "c    332\n",
      "dtype: int64 \n"
     ]
    }
   ],
   "source": [
    "print( \"a2['a']: {} \\n\\na2['a':'c']: \\n{} \".format(a2[\"a\"],a2[\"a\":\"c\"]))"
   ]
  },
  {
   "cell_type": "code",
   "execution_count": 2,
   "metadata": {},
   "outputs": [],
   "source": [
    "#sozluk uzerinden liste olusturmak\n",
    "import pandas as pd\n",
    "# Bir sözlük oluşturuyoruz. Anahtarlar ve değerler arasında ilişki bulunuyor.\n",
    "sozluk = {\"reg\": 10, \"log\": 11, \"cart\": 12}\n",
    "\n",
    "# Oluşturduğumuz sözlüğü pandas Serisi'ne dönüştürüyoruz.\n",
    "seri = pd.Series(sozluk)\n",
    "\n",
    "# Oluşturduğumuz Seri'yi iki kez birleştiriyoruz.\n",
    "# Sonuç olarak, aynı Seri iki kez birleştirildiğinden tüm veriler iki kez görünecektir.\n",
    "birlesmis_seri = pd.concat([seri, seri])\n",
    "\n",
    "\n",
    "\n"
   ]
  },
  {
   "cell_type": "markdown",
   "metadata": {},
   "source": [
    "# Eleman İşlemleri"
   ]
  },
  {
   "cell_type": "code",
   "execution_count": 3,
   "metadata": {},
   "outputs": [
    {
     "data": {
      "text/plain": [
       "0      1\n",
       "1      2\n",
       "2     33\n",
       "3    444\n",
       "4     75\n",
       "dtype: int32"
      ]
     },
     "execution_count": 3,
     "metadata": {},
     "output_type": "execute_result"
    }
   ],
   "source": [
    "import numpy as np\n",
    "# Bir numpy dizisi oluşturuyoruz.\n",
    "a = np.array([1, 2, 33, 444, 75])\n",
    "\n",
    "# Oluşturduğumuz numpy dizisini pandas Serisi'ne dönüştürüyoruz.\n",
    "seri = pd.Series(a)\n",
    "\n",
    "# Elde ettiğimiz Seri'yi ekrana yazdırıyoruz.\n",
    "seri"
   ]
  },
  {
   "cell_type": "code",
   "execution_count": 8,
   "metadata": {},
   "outputs": [
    {
     "name": "stdout",
     "output_type": "stream",
     "text": [
      "seri[0] 1 \n",
      "seri[0:3] \n",
      "0     1\n",
      "1     2\n",
      "2    33\n",
      "dtype: int32\n"
     ]
    }
   ],
   "source": [
    "print(\"seri[0] {} \\nseri[0:3] \\n{}\".format(seri[0],seri[0:3]))"
   ]
  },
  {
   "cell_type": "code",
   "execution_count": 9,
   "metadata": {},
   "outputs": [
    {
     "data": {
      "text/plain": [
       "reg     121\n",
       "loj     200\n",
       "cart    150\n",
       "rf       99\n",
       "dtype: int64"
      ]
     },
     "execution_count": 9,
     "metadata": {},
     "output_type": "execute_result"
    }
   ],
   "source": [
    "seri = pd.Series([121,200,150,99], \n",
    "                 index = [\"reg\",\"loj\",\"cart\",\"rf\"])\n",
    "\n",
    "seri"
   ]
  },
  {
   "cell_type": "code",
   "execution_count": 11,
   "metadata": {},
   "outputs": [
    {
     "name": "stdout",
     "output_type": "stream",
     "text": [
      "indeksler: Index(['reg', 'loj', 'cart', 'rf'], dtype='object') \n",
      " degerler: [121 200 150  99]\n"
     ]
    }
   ],
   "source": [
    "# Seri'nin indekslerini elde ediyoruz.\n",
    "indeksler = seri.index\n",
    "# Seri'nin değerlerini elde ediyoruz.\n",
    "degerler = seri.values\n",
    "\n",
    "\n",
    "print(\" indeksler: {} \\n degerler: {}\".format(indeksler,degerler))"
   ]
  },
  {
   "cell_type": "code",
   "execution_count": 21,
   "metadata": {},
   "outputs": [
    {
     "name": "stdout",
     "output_type": "stream",
     "text": [
      " reg: True \n",
      " a: False \n",
      " seri[reg]: 121 \n",
      "\n",
      "seri[[rf, reg]]:\n",
      " rf      99\n",
      "reg    121\n",
      "dtype: int64 \n"
     ]
    }
   ],
   "source": [
    "#eleman sorgulama\n",
    "print( \" reg: {} \\n a: {} \\n seri[reg]: {} \\n\\nseri[[rf, reg]]:\\n {} \".format(\"reg\" in seri,\"a\" in seri,seri[\"reg\"],seri[[\"rf\", \"reg\"]]))"
   ]
  },
  {
   "cell_type": "code",
   "execution_count": 23,
   "metadata": {},
   "outputs": [
    {
     "name": "stdout",
     "output_type": "stream",
     "text": [
      "seri[reg]: 130 \n",
      " seri[reg:loj]: \n",
      " reg    130\n",
      "loj    200\n",
      "dtype: int64 \n"
     ]
    }
   ],
   "source": [
    "seri[\"reg\"] = 130\n",
    "\n",
    "print(\"seri[reg]: {} \\n seri[reg:loj]: \\n {} \".format(seri[\"reg\"],seri[\"reg\":\"loj\"]))\n"
   ]
  },
  {
   "cell_type": "markdown",
   "metadata": {},
   "source": [
    "# Pandas DataFrame Oluşturma"
   ]
  },
  {
   "cell_type": "code",
   "execution_count": 2,
   "metadata": {},
   "outputs": [
    {
     "name": "stdout",
     "output_type": "stream",
     "text": [
      "df:    degisken_ismi\n",
      "0              1\n",
      "1              2\n",
      "2             39\n",
      "3             67\n",
      "4             90\n"
     ]
    }
   ],
   "source": [
    "import pandas as pd\n",
    "\n",
    "# Bir liste oluşturuyoruz.\n",
    "l = [1, 2, 39, 67, 90]\n",
    "\n",
    "# Oluşturduğumuz listeyi pandas DataFrame'e dönüştürüyoruz.\n",
    "# \"columns\" parametresi ile sütun adını belirtiyoruz.\n",
    "df = pd.DataFrame(l, columns=[\"degisken_ismi\"])\n",
    "print(\"df: {}\".format(df))"
   ]
  },
  {
   "cell_type": "code",
   "execution_count": 3,
   "metadata": {},
   "outputs": [
    {
     "name": "stdout",
     "output_type": "stream",
     "text": [
      "   var1  var2  var3\n",
      "0     1     2     3\n",
      "1     4     5     6\n",
      "2     7     8     9\n"
     ]
    }
   ],
   "source": [
    "import numpy as np\n",
    "import pandas as pd\n",
    "\n",
    "# numpy kütüphanesini \"np\" adıyla içe aktarıyoruz.\n",
    "import numpy as np\n",
    "\n",
    "# 1 ile 9 arasındaki değerleri içeren ve 3x3 boyutlu bir numpy dizisi oluşturuyoruz.\n",
    "m = np.arange(1, 10).reshape((3, 3))\n",
    "\n",
    "# Oluşturduğumuz numpy dizisini pandas DataFrame'e dönüştürüyoruz.\n",
    "# Sütun adlarını \"var1\", \"var2\", \"var3\" olarak belirtiyoruz.\n",
    "df = pd.DataFrame(m, columns=[\"var1\", \"var2\", \"var3\"])\n",
    "\n",
    "# DataFrame'in ilk 5 satırını ekrana yazdırıyoruz.\n",
    "print(df.head())\n"
   ]
  },
  {
   "cell_type": "code",
   "execution_count": 4,
   "metadata": {},
   "outputs": [
    {
     "name": "stdout",
     "output_type": "stream",
     "text": [
      " tip: <class 'pandas.core.frame.DataFrame'> \n",
      " indeks_ve_sutunlar: [RangeIndex(start=0, stop=3, step=1), Index(['deg1', 'deg2', 'deg3'], dtype='object')] \n",
      " sekil: (3, 3) \n",
      " boyut_sayisi: 2 \n",
      " eleman_sayisi: 9 \n",
      " degerler: \n",
      " degerler_tipi: [[1 2 3]\n",
      " [4 5 6]\n",
      " [7 8 9]] son_satir: <class 'numpy.ndarray'>\n"
     ]
    }
   ],
   "source": [
    "# 1 ile 9 arasındaki değerleri içeren ve 3x3 boyutlu bir numpy dizisi oluşturuyoruz.\n",
    "m = np.arange(1, 10).reshape((3, 3))\n",
    "\n",
    "# Oluşturduğumuz numpy dizisini pandas DataFrame'e dönüştürüyoruz.\n",
    "# Sütun adlarını \"var1\", \"var2\", \"var3\" olarak belirtiyoruz.\n",
    "df = pd.DataFrame(m, columns=[\"var1\", \"var2\", \"var3\"])\n",
    "\n",
    "# DataFrame'in sütun adlarını değiştiriyoruz.\n",
    "df.columns = [\"deg1\", \"deg2\", \"deg3\"]\n",
    "\n",
    "# DataFrame'in tipini kontrol ediyoruz.\n",
    "tip = type(df)\n",
    "\n",
    "# DataFrame'in indeks ve sütunlarına erişiyoruz.\n",
    "indeks_ve_sutunlar = df.axes\n",
    "\n",
    "# DataFrame'in şeklini (satır ve sütun sayısı) alıyoruz.\n",
    "sekil = df.shape\n",
    "\n",
    "# DataFrame'in boyut sayısını (2 boyutlu olduğu için) alıyoruz.\n",
    "boyut_sayisi = df.ndim\n",
    "\n",
    "# DataFrame'in toplam eleman sayısını alıyoruz.\n",
    "eleman_sayisi = df.size\n",
    "\n",
    "# DataFrame'in içindeki değerleri numpy dizisi olarak alıyoruz.\n",
    "degerler = df.values\n",
    "\n",
    "# DataFrame'in içindeki değerlerin tipini kontrol ediyoruz.\n",
    "degerler_tipi = type(df.values)\n",
    "\n",
    "# DataFrame'in son 1 satırını alıyoruz.\n",
    "son_satir = df.tail(1)\n",
    "print(\" tip: {} \\n indeks_ve_sutunlar: {} \\n sekil: {} \\n boyut_sayisi: {} \\n eleman_sayisi: {} \\n degerler: \\n degerler_tipi: {} son_satir: {}\".format(tip,indeks_ve_sutunlar,sekil,boyut_sayisi,eleman_sayisi,degerler,degerler_tipi,son_satir))\n"
   ]
  },
  {
   "cell_type": "code",
   "execution_count": 5,
   "metadata": {},
   "outputs": [
    {
     "name": "stdout",
     "output_type": "stream",
     "text": [
      "   deg1\n",
      "0     1\n",
      "1     2\n",
      "2     3\n",
      "3     4\n",
      "4     5\n"
     ]
    }
   ],
   "source": [
    "# Bir numpy dizisi oluşturuyoruz.\n",
    "a = np.array([1, 2, 3, 4, 5])\n",
    "\n",
    "# Oluşturduğumuz numpy dizisini pandas DataFrame'e dönüştürüyoruz.\n",
    "# Sütun adını \"deg1\" olarak belirtiyoruz.\n",
    "df = pd.DataFrame(a, columns=[\"deg1\"])\n",
    "\n",
    "# Oluşturduğumuz DataFrame'i ekrana yazdırıyoruz.\n",
    "print(df)"
   ]
  },
  {
   "cell_type": "markdown",
   "metadata": {},
   "source": [
    "# Eleman İşlemleri"
   ]
  },
  {
   "cell_type": "code",
   "execution_count": 10,
   "metadata": {},
   "outputs": [
    {
     "name": "stdout",
     "output_type": "stream",
     "text": [
      "sozluk: \n",
      " {'var1': array([1, 2, 0, 4, 1]), 'var2': array([5, 7, 6, 4, 8]), 'var3': array([4, 7, 0, 8, 2])} \n",
      " df: \n",
      "    var1  var2  var3\n",
      "0     1     5     4\n",
      "1     2     7     7\n",
      "2     0     6     0\n",
      "3     4     4     8\n",
      "4     1     8     2\n"
     ]
    }
   ],
   "source": [
    "import numpy as np\n",
    "import pandas as pd\n",
    "\n",
    "# numpy kütüphanesini \"np\" adıyla içe aktarıyoruz.\n",
    "import numpy as np\n",
    "\n",
    "# Rastgele 10'dan küçük tam sayılardan oluşan 5 elemanlı bir numpy dizisi oluşturuyoruz.\n",
    "s1 = np.random.randint(10, size=5)\n",
    "\n",
    "# Yine rastgele 10'dan küçük tam sayılardan oluşan bir numpy dizisi oluşturuyoruz.\n",
    "s2 = np.random.randint(10, size=5)\n",
    "\n",
    "# Bir diğer rastgele 10'dan küçük tam sayılardan oluşan bir numpy dizisi oluşturuyoruz.\n",
    "s3 = np.random.randint(10, size=5)\n",
    "\n",
    "# Oluşturduğumuz numpy dizilerini bir sözlüğe atıyoruz.\n",
    "sozluk = {\"var1\": s1, \"var2\": s2, \"var3\": s3}\n",
    "\n",
    "# Oluşturduğumuz sözlüğü pandas DataFrame'e dönüştürüyoruz.\n",
    "df = pd.DataFrame(sozluk)\n",
    "\n",
    "# Oluşturduğumuz DataFrame'i ekrana yazdırıyoruz.\n",
    "print(\"sozluk: \\n {} \\n df: \\n {}\".format(sozluk,df))\n"
   ]
  },
  {
   "cell_type": "code",
   "execution_count": 11,
   "metadata": {},
   "outputs": [
    {
     "name": "stdout",
     "output_type": "stream",
     "text": [
      "df[0:1]: \n",
      "   var1  var2  var3\n",
      "0     1     5     4 \n",
      "\n",
      "index:\n",
      "RangeIndex(start=0, stop=5, step=1) \n",
      "\n"
     ]
    }
   ],
   "source": [
    "print(\"df[0:1]: \\n{} \\n\\nindex:\\n{} \\n\".format(df[0:1],df.index  ))"
   ]
  },
  {
   "cell_type": "code",
   "execution_count": 12,
   "metadata": {},
   "outputs": [
    {
     "name": "stdout",
     "output_type": "stream",
     "text": [
      " df: \n",
      "    var1  var2  var3\n",
      "b     2     7     7\n",
      "c     0     6     0\n",
      "d     4     4     8\n",
      "e     1     8     2 \n",
      " df[c:e]: \n",
      "    var1  var2  var3\n",
      "c     0     6     0\n",
      "d     4     4     8\n",
      "e     1     8     2 \n",
      "\n",
      " yeni_df:\n",
      "   var1  var2  var3\n",
      "b     2     7     7\n",
      "c     0     6     0\n",
      "d     4     4     8\n",
      "e     1     8     2\n"
     ]
    }
   ],
   "source": [
    "import numpy as np\n",
    "import pandas as pd\n",
    "\n",
    "# DataFrame'in indekslerini atıyoruz.\n",
    "df.index = [\"a\",\"b\",\"c\",\"d\",\"e\"]\n",
    "# \"c\" ile \"e\" arasındaki satırları seçiyoruz.\n",
    "df[\"c\":\"e\"]\n",
    "# \"a\" indeksine sahip satırı veri çerçevesinden kaldırıyoruz.\n",
    "# \"axis=0\" ile satırı kaldırdığımızı belirtiyoruz.\n",
    "# Yeni bir DataFrame döndürülür, orijinal DataFrame değişmez.\n",
    "yeni_df = df.drop(\"a\", axis=0)\n",
    "\n",
    "# \"a\" indeksine sahip satırı veri çerçevesinden kaldırıyoruz.\n",
    "# \"axis=0\" ile satırı kaldırdığımızı belirtiyoruz.\n",
    "# \"inplace=True\" ile işlemi DataFrame üzerinde gerçekleştiriyoruz.\n",
    "df.drop(\"a\", axis=0, inplace=True)\n",
    "print(\" df: \\n {} \\n df[c:e]: \\n {} \\n\\n yeni_df:\\n{}\".format( df ,df[\"c\":\"e\"],yeni_df,))"
   ]
  },
  {
   "cell_type": "code",
   "execution_count": 13,
   "metadata": {},
   "outputs": [
    {
     "data": {
      "text/html": [
       "<div>\n",
       "<style scoped>\n",
       "    .dataframe tbody tr th:only-of-type {\n",
       "        vertical-align: middle;\n",
       "    }\n",
       "\n",
       "    .dataframe tbody tr th {\n",
       "        vertical-align: top;\n",
       "    }\n",
       "\n",
       "    .dataframe thead th {\n",
       "        text-align: right;\n",
       "    }\n",
       "</style>\n",
       "<table border=\"1\" class=\"dataframe\">\n",
       "  <thead>\n",
       "    <tr style=\"text-align: right;\">\n",
       "      <th></th>\n",
       "      <th>var1</th>\n",
       "      <th>var2</th>\n",
       "      <th>var3</th>\n",
       "    </tr>\n",
       "  </thead>\n",
       "  <tbody>\n",
       "    <tr>\n",
       "      <th>b</th>\n",
       "      <td>2</td>\n",
       "      <td>7</td>\n",
       "      <td>7</td>\n",
       "    </tr>\n",
       "    <tr>\n",
       "      <th>d</th>\n",
       "      <td>4</td>\n",
       "      <td>4</td>\n",
       "      <td>8</td>\n",
       "    </tr>\n",
       "  </tbody>\n",
       "</table>\n",
       "</div>"
      ],
      "text/plain": [
       "   var1  var2  var3\n",
       "b     2     7     7\n",
       "d     4     4     8"
      ]
     },
     "execution_count": 13,
     "metadata": {},
     "output_type": "execute_result"
    }
   ],
   "source": [
    "# Bir liste oluşturuyoruz ve içine \"c\" ve \"e\" isimli iki string ekliyoruz.\n",
    "l = [\"c\", \"e\"]\n",
    "\n",
    "# DataFrame üzerinde satırları kaldırmak için drop fonksiyonunu kullanıyoruz.\n",
    "# axis=0 parametresi ile satırlar üzerinde işlem yapacağımızı belirtiyoruz.\n",
    "# l listesindeki etiketlere sahip satırlar bu komutla kaldırılacak.\n",
    "df.drop(l, axis=0)\n"
   ]
  },
  {
   "cell_type": "code",
   "execution_count": 14,
   "metadata": {},
   "outputs": [
    {
     "name": "stdout",
     "output_type": "stream",
     "text": [
      "True\n",
      "False\n",
      "True\n"
     ]
    }
   ],
   "source": [
    "# Kontrol edilecek sütun adları listesi oluşturuluyor.\n",
    "l = [\"var1\", \"var4\", \"var2\"]\n",
    "\n",
    "# l listesindeki her bir sütun adını kontrol ediyoruz.\n",
    "for i in l:\n",
    "    # Sütun adının DataFrame'de bulunup bulunmadığını kontrol ediyoruz.\n",
    "    # \"in\" anahtar kelimesi, bir değerin bir koleksiyon içinde bulunup bulunmadığını kontrol eder.\n",
    "    # Eğer sütun adı DataFrame içinde bulunuyorsa True, bulunmuyorsa False yazdırılır.\n",
    "    print(i in df)\n"
   ]
  },
  {
   "cell_type": "code",
   "execution_count": 17,
   "metadata": {},
   "outputs": [
    {
     "name": "stdout",
     "output_type": "stream",
     "text": [
      " var1: \n",
      "b    2\n",
      "c    0\n",
      "d    4\n",
      "e    1\n",
      "Name: var1, dtype: int32 \n",
      " var2: \n",
      "b    7\n",
      "c    6\n",
      "d    4\n",
      "e    8\n",
      "Name: var2, dtype: int32 \n",
      " df[var4]: \n",
      "b    0.285714\n",
      "c    0.000000\n",
      "d    1.000000\n",
      "e    0.125000\n",
      "Name: var4, dtype: float64\n"
     ]
    }
   ],
   "source": [
    "df[\"var4\"] = df[\"var1\"] / df[\"var2\"]\n",
    "print(\" var1: \\n{} \\n var2: \\n{} \\n df[var4]: \\n{}\".format(df[\"var1\"],df[\"var2\"],df[\"var4\"]))"
   ]
  },
  {
   "cell_type": "code",
   "execution_count": 18,
   "metadata": {},
   "outputs": [
    {
     "data": {
      "text/html": [
       "<div>\n",
       "<style scoped>\n",
       "    .dataframe tbody tr th:only-of-type {\n",
       "        vertical-align: middle;\n",
       "    }\n",
       "\n",
       "    .dataframe tbody tr th {\n",
       "        vertical-align: top;\n",
       "    }\n",
       "\n",
       "    .dataframe thead th {\n",
       "        text-align: right;\n",
       "    }\n",
       "</style>\n",
       "<table border=\"1\" class=\"dataframe\">\n",
       "  <thead>\n",
       "    <tr style=\"text-align: right;\">\n",
       "      <th></th>\n",
       "      <th>var3</th>\n",
       "    </tr>\n",
       "  </thead>\n",
       "  <tbody>\n",
       "    <tr>\n",
       "      <th>b</th>\n",
       "      <td>7</td>\n",
       "    </tr>\n",
       "    <tr>\n",
       "      <th>c</th>\n",
       "      <td>0</td>\n",
       "    </tr>\n",
       "    <tr>\n",
       "      <th>d</th>\n",
       "      <td>8</td>\n",
       "    </tr>\n",
       "    <tr>\n",
       "      <th>e</th>\n",
       "      <td>2</td>\n",
       "    </tr>\n",
       "  </tbody>\n",
       "</table>\n",
       "</div>"
      ],
      "text/plain": [
       "   var3\n",
       "b     7\n",
       "c     0\n",
       "d     8\n",
       "e     2"
      ]
     },
     "execution_count": 18,
     "metadata": {},
     "output_type": "execute_result"
    }
   ],
   "source": [
    "# \"var4\" adlı sütunu kaldırır, ancak değişiklik orijinal DataFrame'e uygulanmaz.\n",
    "df.drop(\"var4\", axis=1)\n",
    "# \"var4\" adlı sütunu kaldırır ve değişikliği orijinal DataFrame'e uygular.\n",
    "df.drop(\"var4\", axis=1, inplace=True)\n",
    "# \"var1\" ve \"var2\" adlı sütunları kaldırır, ancak değişiklik orijinal DataFrame'e uygulanmaz.\n",
    "l = [\"var1\", \"var2\"]\n",
    "df.drop(l, axis=1)\n"
   ]
  },
  {
   "cell_type": "markdown",
   "metadata": {},
   "source": [
    "# Gözlem ve Değişken Seçimi: loc & iloc"
   ]
  },
  {
   "cell_type": "code",
   "execution_count": 23,
   "metadata": {},
   "outputs": [
    {
     "name": "stdout",
     "output_type": "stream",
     "text": [
      "df: \n",
      "   var1  var2  var3\n",
      "0     6     8    15\n",
      "1    21    29    25\n",
      "2    24     1    14\n",
      "3    16    21     4\n",
      "4    20     5     7\n",
      "5    25     5     5\n",
      "6     2     5     8\n",
      "7    21     5    25\n",
      "8    21    29     2\n",
      "9    26    29    25 \n"
     ]
    }
   ],
   "source": [
    "import numpy as np\n",
    "import pandas as pd\n",
    "\n",
    "# 1 ile 30 arasında rastgele sayılardan (10,3) boyutunda bir matris oluşturulur.\n",
    "# Bu matris, bir DataFrame içine dönüştürülecek.\n",
    "m = np.random.randint(1, 30, size=(10, 3))\n",
    "\n",
    "# Oluşturulan matris, sütun adları \"var1\", \"var2\", \"var3\" olan bir DataFrame'e dönüştürülür.\n",
    "df = pd.DataFrame(m, columns=[\"var1\", \"var2\", \"var3\"])\n",
    "print(\"df: \\n{} \".format(df))"
   ]
  },
  {
   "cell_type": "code",
   "execution_count": 25,
   "metadata": {},
   "outputs": [
    {
     "name": "stdout",
     "output_type": "stream",
     "text": [
      "df_loc_0_to_3: \n",
      "   var1  var2  var3\n",
      "0     6     8    15\n",
      "1    21    29    25\n",
      "2    24     1    14\n",
      "3    16    21     4\n",
      "df_iloc_0_to_3: \n",
      "   var1  var2  var3\n",
      "0     6     8    15\n",
      "1    21    29    25\n",
      "2    24     1    14\n",
      "first_cell_value: 6\n",
      "df_iloc_first_3_rows_first_2_columns: \n",
      "   var1  var2\n",
      "0     6     8\n",
      "1    21    29\n",
      "2    24     1\n",
      "df_loc_first_4_rows_var3: \n",
      "0    15\n",
      "1    25\n",
      "2    14\n",
      "3     4\n",
      "Name: var3, dtype: int32\n",
      "df_loc_first_4_rows_var3_again: \n",
      "0    15\n",
      "1    25\n",
      "2    14\n",
      "3     4\n",
      "Name: var3, dtype: int32\n",
      "df_iloc_first_3_rows_var3: \n",
      "0    15\n",
      "1    25\n",
      "2    14\n",
      "Name: var3, dtype: int32\n"
     ]
    }
   ],
   "source": [
    "# DataFrame'deki ilk 4 satırı (0'dan 3'e kadar olan satırlar) seçer.\n",
    "df_loc_0_to_3 = df.loc[0:3]\n",
    "\n",
    "# DataFrame'deki ilk 3 satırı (0'dan 2'ye kadar olan satırlar) seçer.\n",
    "df_iloc_0_to_3 = df.iloc[0:3]\n",
    "# İlk satırın, ilk sütunundaki değeri döndürür.\n",
    "first_cell_value = df.iloc[0, 0]\n",
    "# İlk üç satırı ve ilk iki sütunu seçer.\n",
    "df_iloc_first_3_rows_first_2_columns = df.iloc[:3, :2]\n",
    "# İlk 4 satırın \"var3\" sütununu seçer.\n",
    "df_loc_first_4_rows_var3 = df.loc[0:3, \"var3\"]\n",
    "# İlk 4 satırın \"var3\" sütununu tekrar seçer. (Yukarıdaki satırla aynı)\n",
    "df_loc_first_4_rows_var3_again = df.loc[0:3, \"var3\"]\n",
    "# İlk 3 satırın \"var3\" sütununu seçer.\n",
    "df_iloc_first_3_rows_var3 = df.iloc[0:3][\"var3\"]\n",
    "\n",
    "# Değişkenleri kullanarak DataFrame'i formatlı olarak görüntüleyelim\n",
    "print(\"df_loc_0_to_3: \\n{}\".format(df_loc_0_to_3))\n",
    "print(\"df_iloc_0_to_3: \\n{}\".format(df_iloc_0_to_3))\n",
    "print(\"first_cell_value: {}\".format(first_cell_value))\n",
    "print(\"df_iloc_first_3_rows_first_2_columns: \\n{}\".format(df_iloc_first_3_rows_first_2_columns))\n",
    "print(\"df_loc_first_4_rows_var3: \\n{}\".format(df_loc_first_4_rows_var3))\n",
    "print(\"df_loc_first_4_rows_var3_again: \\n{}\".format(df_loc_first_4_rows_var3_again))\n",
    "print(\"df_iloc_first_3_rows_var3: \\n{}\".format(df_iloc_first_3_rows_var3))\n"
   ]
  },
  {
   "cell_type": "markdown",
   "metadata": {},
   "source": [
    "# Koşullu Eleman İşlemleri"
   ]
  },
  {
   "cell_type": "code",
   "execution_count": 26,
   "metadata": {},
   "outputs": [],
   "source": [
    "# (10, 3) boyutunda rastgele sayılardan oluşan bir matris oluşturulur.\n",
    "# Sayılar 1 ile 29 arasında olur (1 dahil, 30 hariç).\n",
    "m = np.random.randint(1, 30, size=(10, 3))\n",
    "\n",
    "# Oluşturulan matrisi \"var1\", \"var2\" ve \"var3\" adlarına sahip sütunlarla bir DataFrame'e dönüştürür.\n",
    "df = pd.DataFrame(m, columns=[\"var1\", \"var2\", \"var3\"])"
   ]
  },
  {
   "cell_type": "code",
   "execution_count": 2,
   "metadata": {},
   "outputs": [
    {
     "name": "stdout",
     "output_type": "stream",
     "text": [
      "\n",
      "df: \n",
      "   var1  var2  var3\n",
      "0    19     5    25\n",
      "1     5     5    19\n",
      "2    17    16     2\n",
      "3    17     2    25\n",
      "4    16    17    26\n",
      "5     9    18    25\n",
      "6    26    20    12\n",
      "7     7    11    17\n",
      "8     2    16     1\n",
      "9    13    24    11 \n",
      "\n",
      "var1_column: \n",
      "0    19\n",
      "1     5\n",
      "2    17\n",
      "3    17\n",
      "4    16\n",
      "5     9\n",
      "6    26\n",
      "7     7\n",
      "8     2\n",
      "9    13\n",
      "Name: var1, dtype: int32 \n",
      "\n",
      "first_2_rows_var1_var2: \n",
      "   var1  var2\n",
      "0    19     5\n",
      "1     5     5 \n",
      "\n",
      "var1_column_alt: \n",
      "0    19\n",
      "1     5\n",
      "2    17\n",
      "3    17\n",
      "4    16\n",
      "5     9\n",
      "6    26\n",
      "7     7\n",
      "8     2\n",
      "9    13\n",
      "Name: var1, dtype: int32 \n",
      "\n",
      "var1_gt_15: \n",
      "   var1  var2  var3\n",
      "0    19     5    25\n",
      "2    17    16     2\n",
      "3    17     2    25\n",
      "4    16    17    26\n",
      "6    26    20    12 \n",
      "\n",
      "var1_gt_15_var3_lt_5: \n",
      "   var1  var2  var3\n",
      "2    17    16     2 \n",
      "\n",
      "var1_gt_15_var1_var2: \n",
      "   var1  var2\n",
      "0    19     5\n",
      "2    17    16\n",
      "3    17     2\n",
      "4    16    17\n",
      "6    26    20 \n",
      "\n",
      "var1_gt_15_var1_var2_alt: \n",
      "   var1  var2\n",
      "0    19     5\n",
      "2    17    16\n",
      "3    17     2\n",
      "4    16    17\n",
      "6    26    20 \n"
     ]
    }
   ],
   "source": [
    "import numpy as np\n",
    "import pandas as pd\n",
    "\n",
    "# Rastgele verilerle bir DataFrame oluşturalım\n",
    "m = np.random.randint(1, 30, size=(10, 3))\n",
    "df = pd.DataFrame(m, columns=[\"var1\", \"var2\", \"var3\"])\n",
    "\n",
    "\n",
    "# Sütunları seçme işlemleri:\n",
    "\n",
    "# \"var1\" sütununu seçer\n",
    "var1_column = df[\"var1\"]\n",
    "\n",
    "# İlk 2 satırın \"var1\" ve \"var2\" sütunlarını seçer\n",
    "first_2_rows_var1_var2 = df[0:2][[\"var1\", \"var2\"]]\n",
    "\n",
    "# \"var1\" sütununu seçer (alternatif yöntem)\n",
    "var1_column_alt = df.var1\n",
    "\n",
    "# \"var1\" sütununda değeri 15'ten büyük olan satırları seçer\n",
    "var1_gt_15 = df[df.var1 > 15]\n",
    "\n",
    "# \"var1\" sütununda değeri 15'ten büyük VE \"var3\" sütununda değeri 5'ten küçük olan satırları seçer\n",
    "var1_gt_15_var3_lt_5 = df[(df.var1 > 15) & (df.var3 < 5)]\n",
    "\n",
    "# \"var1\" ve \"var2\" sütunlarını, \"var1\" sütununda değeri 15'ten büyük olan satırları seçer (loc yöntemi)\n",
    "var1_gt_15_var1_var2 = df.loc[df.var1 > 15, [\"var1\", \"var2\"]]\n",
    "\n",
    "# \"var1\" ve \"var2\" sütunlarını, \"var1\" sütununda değeri 15'ten büyük olan satırları seçer (alternatif yöntem)\n",
    "var1_gt_15_var1_var2_alt = df[(df.var1 > 15)][[\"var1\", \"var2\"]]\n",
    "\n",
    "# DataFrame'i formatlı olarak görüntüleme\n",
    "print(\"\\ndf: \\n{} \".format(df))\n",
    "print(\"\\nvar1_column: \\n{} \".format(var1_column))\n",
    "print(\"\\nfirst_2_rows_var1_var2: \\n{} \".format(first_2_rows_var1_var2))\n",
    "print(\"\\nvar1_column_alt: \\n{} \".format(var1_column_alt))\n",
    "print(\"\\nvar1_gt_15: \\n{} \".format(var1_gt_15))\n",
    "print(\"\\nvar1_gt_15_var3_lt_5: \\n{} \".format(var1_gt_15_var3_lt_5))\n",
    "print(\"\\nvar1_gt_15_var1_var2: \\n{} \".format(var1_gt_15_var1_var2))\n",
    "print(\"\\nvar1_gt_15_var1_var2_alt: \\n{} \".format(var1_gt_15_var1_var2_alt))\n"
   ]
  },
  {
   "cell_type": "markdown",
   "metadata": {},
   "source": [
    "# Birleştirme (Join) İşlemleri"
   ]
  },
  {
   "cell_type": "code",
   "execution_count": 3,
   "metadata": {},
   "outputs": [],
   "source": [
    "import numpy as np\n",
    "import pandas as pd\n",
    "\n",
    "# (1, 30) aralığında rastgele tamsayılardan (5, 3) boyutunda bir matris oluşturulur.\n",
    "m = np.random.randint(1, 30, size=(5, 3))\n",
    "\n",
    "# Oluşturulan matrisi \"var1\", \"var2\" ve \"var3\" adlarına sahip sütunlarla bir DataFrame'e dönüştürür.\n",
    "df1 = pd.DataFrame(m, columns=[\"var1\", \"var2\", \"var3\"])"
   ]
  },
  {
   "cell_type": "code",
   "execution_count": 9,
   "metadata": {},
   "outputs": [
    {
     "name": "stdout",
     "output_type": "stream",
     "text": [
      "\n",
      "concatenated_df: \n",
      "   var1  var2  var3\n",
      "0     2    18    28\n",
      "1    23    24    20\n",
      "2     2    16    23\n",
      "3     2    22     4\n",
      "4    27    20    14\n",
      "0   101   117   127\n",
      "1   122   123   119\n",
      "2   101   115   122\n",
      "3   101   121   103\n",
      "4   126   119   113 \n",
      "\n",
      "concatenated_ignore_index: \n",
      "   var1  var2  var3\n",
      "0     2    18    28\n",
      "1    23    24    20\n",
      "2     2    16    23\n",
      "3     2    22     4\n",
      "4    27    20    14\n",
      "5   101   117   127\n",
      "6   122   123   119\n",
      "7   101   115   122\n",
      "8   101   121   103\n",
      "9   126   119   113 \n",
      "\n",
      "df1_columns: \n",
      "Index(['var1', 'var2', 'var3'], dtype='object') \n",
      "\n",
      "df1_columns: \n",
      "Index(['var1', 'var2', 'deg3'], dtype='object') \n",
      "\n",
      "df1: \n",
      "   var1  var2  var3\n",
      "0     2    18    28\n",
      "1    23    24    20\n",
      "2     2    16    23\n",
      "3     2    22     4\n",
      "4    27    20    14 \n",
      "\n",
      "df2: \n",
      "   var1  var2  deg3\n",
      "0   101   117   127\n",
      "1   122   123   119\n",
      "2   101   115   122\n",
      "3   101   121   103\n",
      "4   126   119   113 \n",
      "\n",
      "concatenated_inner: \n",
      "   var1  var2\n",
      "0     2    18\n",
      "1    23    24\n",
      "2     2    16\n",
      "3     2    22\n",
      "4    27    20\n",
      "0   101   117\n",
      "1   122   123\n",
      "2   101   115\n",
      "3   101   121\n",
      "4   126   119 \n",
      "\n",
      "concatenated_join_axes: \n",
      "   var1  var2  var3   deg3\n",
      "0     2    18  28.0    NaN\n",
      "1    23    24  20.0    NaN\n",
      "2     2    16  23.0    NaN\n",
      "3     2    22   4.0    NaN\n",
      "4    27    20  14.0    NaN\n",
      "0   101   117   NaN  127.0\n",
      "1   122   123   NaN  119.0\n",
      "2   101   115   NaN  122.0\n",
      "3   101   121   NaN  103.0\n",
      "4   126   119   NaN  113.0 \n"
     ]
    }
   ],
   "source": [
    "import pandas as pd\n",
    "import numpy as np\n",
    "\n",
    "# İlk DataFrame'i oluşturalım\n",
    "m = np.random.randint(1, 30, size=(5, 3))\n",
    "df1 = pd.DataFrame(m, columns=[\"var1\", \"var2\", \"var3\"])\n",
    "\n",
    "# İkinci DataFrame'i, df1 üzerine 99 ekleyerek oluşturalım\n",
    "df2 = df1 + 99\n",
    "\n",
    "# df1 ve df2 DataFrame'lerini birleştirelim (alt alta)\n",
    "concatenated_df = pd.concat([df1, df2])\n",
    "\n",
    "# pd.concat() fonksiyonunun belge sayfasına göz atalım\n",
    "# ?pd.concat\n",
    "\n",
    "# ignore_index parametresini kullanarak df1 ve df2'yi birleştirelim\n",
    "concatenated_ignore_index = pd.concat([df1, df2], ignore_index=True)\n",
    "\n",
    "# df1'in sütun adlarını görüntüleyelim\n",
    "df1_columns = df1.columns\n",
    "\n",
    "# df2'nin sütun adlarını \"var1\", \"var2\" ve \"deg3\" olarak değiştirelim\n",
    "df2.columns = [\"var1\", \"var2\", \"deg3\"]\n",
    "\n",
    "# df2 DataFrame'i\n",
    "df2\n",
    "\n",
    "# df1 DataFrame'i\n",
    "df1\n",
    "\n",
    "# df1 ve df2'yi birleştirelim (alt alta)\n",
    "concatenated_inner = pd.concat([df1, df2], join=\"inner\")\n",
    "\n",
    "# df1 ve df2'yi birleştirirken join_axes parametresini kullanarak df2'nin sütunlarına göre birleştirelim\n",
    "concatenated_join = pd.concat([df1, df2])\n",
    "\n",
    "# Değişkenlere atanan sonuçları görüntüleyelim\n",
    "print(\"\\nconcatenated_df: \\n{} \".format(concatenated_df))\n",
    "print(\"\\nconcatenated_ignore_index: \\n{} \".format(concatenated_ignore_index))\n",
    "print(\"\\ndf1_columns: \\n{} \".format(df1_columns))\n",
    "print(\"\\ndf1_columns: \\n{} \".format(df2.columns))\n",
    "print(\"\\ndf1: \\n{} \".format(df1))\n",
    "print(\"\\ndf2: \\n{} \".format(df2))\n",
    "print(\"\\nconcatenated_inner: \\n{} \".format(concatenated_inner))\n",
    "print(\"\\nconcatenated_join_axes: \\n{} \".format(concatenated_join))\n"
   ]
  },
  {
   "cell_type": "markdown",
   "metadata": {},
   "source": [
    "# İleri Birleştirme İşlemleri"
   ]
  },
  {
   "cell_type": "code",
   "execution_count": 10,
   "metadata": {},
   "outputs": [
    {
     "data": {
      "text/html": [
       "<div>\n",
       "<style scoped>\n",
       "    .dataframe tbody tr th:only-of-type {\n",
       "        vertical-align: middle;\n",
       "    }\n",
       "\n",
       "    .dataframe tbody tr th {\n",
       "        vertical-align: top;\n",
       "    }\n",
       "\n",
       "    .dataframe thead th {\n",
       "        text-align: right;\n",
       "    }\n",
       "</style>\n",
       "<table border=\"1\" class=\"dataframe\">\n",
       "  <thead>\n",
       "    <tr style=\"text-align: right;\">\n",
       "      <th></th>\n",
       "      <th>calisanlar</th>\n",
       "      <th>grup</th>\n",
       "    </tr>\n",
       "  </thead>\n",
       "  <tbody>\n",
       "    <tr>\n",
       "      <th>0</th>\n",
       "      <td>Ali</td>\n",
       "      <td>Muhasebe</td>\n",
       "    </tr>\n",
       "    <tr>\n",
       "      <th>1</th>\n",
       "      <td>Veli</td>\n",
       "      <td>Muhendislik</td>\n",
       "    </tr>\n",
       "    <tr>\n",
       "      <th>2</th>\n",
       "      <td>Ayse</td>\n",
       "      <td>Muhendislik</td>\n",
       "    </tr>\n",
       "    <tr>\n",
       "      <th>3</th>\n",
       "      <td>Fatma</td>\n",
       "      <td>İK</td>\n",
       "    </tr>\n",
       "  </tbody>\n",
       "</table>\n",
       "</div>"
      ],
      "text/plain": [
       "  calisanlar         grup\n",
       "0        Ali     Muhasebe\n",
       "1       Veli  Muhendislik\n",
       "2       Ayse  Muhendislik\n",
       "3      Fatma           İK"
      ]
     },
     "execution_count": 10,
     "metadata": {},
     "output_type": "execute_result"
    }
   ],
   "source": [
    "import pandas as pd\n",
    "df1 = pd.DataFrame({'calisanlar': ['Ali', 'Veli', 'Ayse', 'Fatma'],\n",
    "                    'grup': ['Muhasebe', 'Muhendislik', 'Muhendislik', 'İK']})\n",
    "\n",
    "df1"
   ]
  },
  {
   "cell_type": "code",
   "execution_count": 11,
   "metadata": {},
   "outputs": [
    {
     "data": {
      "text/html": [
       "<div>\n",
       "<style scoped>\n",
       "    .dataframe tbody tr th:only-of-type {\n",
       "        vertical-align: middle;\n",
       "    }\n",
       "\n",
       "    .dataframe tbody tr th {\n",
       "        vertical-align: top;\n",
       "    }\n",
       "\n",
       "    .dataframe thead th {\n",
       "        text-align: right;\n",
       "    }\n",
       "</style>\n",
       "<table border=\"1\" class=\"dataframe\">\n",
       "  <thead>\n",
       "    <tr style=\"text-align: right;\">\n",
       "      <th></th>\n",
       "      <th>calisanlar</th>\n",
       "      <th>ilk_giris</th>\n",
       "    </tr>\n",
       "  </thead>\n",
       "  <tbody>\n",
       "    <tr>\n",
       "      <th>0</th>\n",
       "      <td>Ayse</td>\n",
       "      <td>2010</td>\n",
       "    </tr>\n",
       "    <tr>\n",
       "      <th>1</th>\n",
       "      <td>Ali</td>\n",
       "      <td>2009</td>\n",
       "    </tr>\n",
       "    <tr>\n",
       "      <th>2</th>\n",
       "      <td>Veli</td>\n",
       "      <td>2014</td>\n",
       "    </tr>\n",
       "    <tr>\n",
       "      <th>3</th>\n",
       "      <td>Fatma</td>\n",
       "      <td>2019</td>\n",
       "    </tr>\n",
       "  </tbody>\n",
       "</table>\n",
       "</div>"
      ],
      "text/plain": [
       "  calisanlar  ilk_giris\n",
       "0       Ayse       2010\n",
       "1        Ali       2009\n",
       "2       Veli       2014\n",
       "3      Fatma       2019"
      ]
     },
     "execution_count": 11,
     "metadata": {},
     "output_type": "execute_result"
    }
   ],
   "source": [
    "df2 = pd.DataFrame({'calisanlar': ['Ayse', 'Ali', 'Veli', 'Fatma'],\n",
    "                    'ilk_giris': [2010, 2009, 2014, 2019]})\n",
    "\n",
    "df2"
   ]
  },
  {
   "cell_type": "code",
   "execution_count": 12,
   "metadata": {},
   "outputs": [
    {
     "data": {
      "text/html": [
       "<div>\n",
       "<style scoped>\n",
       "    .dataframe tbody tr th:only-of-type {\n",
       "        vertical-align: middle;\n",
       "    }\n",
       "\n",
       "    .dataframe tbody tr th {\n",
       "        vertical-align: top;\n",
       "    }\n",
       "\n",
       "    .dataframe thead th {\n",
       "        text-align: right;\n",
       "    }\n",
       "</style>\n",
       "<table border=\"1\" class=\"dataframe\">\n",
       "  <thead>\n",
       "    <tr style=\"text-align: right;\">\n",
       "      <th></th>\n",
       "      <th>grup</th>\n",
       "      <th>mudur</th>\n",
       "    </tr>\n",
       "  </thead>\n",
       "  <tbody>\n",
       "    <tr>\n",
       "      <th>0</th>\n",
       "      <td>Muhasebe</td>\n",
       "      <td>Caner</td>\n",
       "    </tr>\n",
       "    <tr>\n",
       "      <th>1</th>\n",
       "      <td>Muhendislik</td>\n",
       "      <td>Mustafa</td>\n",
       "    </tr>\n",
       "    <tr>\n",
       "      <th>2</th>\n",
       "      <td>İK</td>\n",
       "      <td>Berkcan</td>\n",
       "    </tr>\n",
       "  </tbody>\n",
       "</table>\n",
       "</div>"
      ],
      "text/plain": [
       "          grup    mudur\n",
       "0     Muhasebe    Caner\n",
       "1  Muhendislik  Mustafa\n",
       "2           İK  Berkcan"
      ]
     },
     "execution_count": 12,
     "metadata": {},
     "output_type": "execute_result"
    }
   ],
   "source": [
    "df4 = pd.DataFrame({'grup': ['Muhasebe', 'Muhendislik', 'İK'],\n",
    "                    'mudur': ['Caner', 'Mustafa', 'Berkcan']})\n",
    "\n",
    "df4"
   ]
  },
  {
   "cell_type": "code",
   "execution_count": 13,
   "metadata": {},
   "outputs": [
    {
     "data": {
      "text/html": [
       "<div>\n",
       "<style scoped>\n",
       "    .dataframe tbody tr th:only-of-type {\n",
       "        vertical-align: middle;\n",
       "    }\n",
       "\n",
       "    .dataframe tbody tr th {\n",
       "        vertical-align: top;\n",
       "    }\n",
       "\n",
       "    .dataframe thead th {\n",
       "        text-align: right;\n",
       "    }\n",
       "</style>\n",
       "<table border=\"1\" class=\"dataframe\">\n",
       "  <thead>\n",
       "    <tr style=\"text-align: right;\">\n",
       "      <th></th>\n",
       "      <th>grup</th>\n",
       "      <th>yetenekler</th>\n",
       "    </tr>\n",
       "  </thead>\n",
       "  <tbody>\n",
       "    <tr>\n",
       "      <th>0</th>\n",
       "      <td>Muhasebe</td>\n",
       "      <td>matematik</td>\n",
       "    </tr>\n",
       "    <tr>\n",
       "      <th>1</th>\n",
       "      <td>Muhasebe</td>\n",
       "      <td>excel</td>\n",
       "    </tr>\n",
       "    <tr>\n",
       "      <th>2</th>\n",
       "      <td>Muhendislik</td>\n",
       "      <td>kodlama</td>\n",
       "    </tr>\n",
       "    <tr>\n",
       "      <th>3</th>\n",
       "      <td>Muhendislik</td>\n",
       "      <td>linux</td>\n",
       "    </tr>\n",
       "    <tr>\n",
       "      <th>4</th>\n",
       "      <td>İK</td>\n",
       "      <td>excel</td>\n",
       "    </tr>\n",
       "    <tr>\n",
       "      <th>5</th>\n",
       "      <td>İK</td>\n",
       "      <td>yonetim</td>\n",
       "    </tr>\n",
       "  </tbody>\n",
       "</table>\n",
       "</div>"
      ],
      "text/plain": [
       "          grup yetenekler\n",
       "0     Muhasebe  matematik\n",
       "1     Muhasebe      excel\n",
       "2  Muhendislik    kodlama\n",
       "3  Muhendislik      linux\n",
       "4           İK      excel\n",
       "5           İK    yonetim"
      ]
     },
     "execution_count": 13,
     "metadata": {},
     "output_type": "execute_result"
    }
   ],
   "source": [
    "df5 = pd.DataFrame({'grup': ['Muhasebe', 'Muhasebe',\n",
    "                              'Muhendislik', 'Muhendislik', 'İK', 'İK'],\n",
    "                    'yetenekler': ['matematik', 'excel', 'kodlama', 'linux',\n",
    "                               'excel', 'yonetim']})\n",
    "\n",
    "df5"
   ]
  },
  {
   "cell_type": "code",
   "execution_count": 14,
   "metadata": {},
   "outputs": [
    {
     "name": "stdout",
     "output_type": "stream",
     "text": [
      "\n",
      "merge_default: \n",
      "  calisanlar         grup  ilk_giris\n",
      "0        Ali     Muhasebe       2009\n",
      "1       Veli  Muhendislik       2014\n",
      "2       Ayse  Muhendislik       2010\n",
      "3      Fatma           İK       2019 \n",
      "\n",
      "merge_on_calisanlar: \n",
      "  calisanlar         grup  ilk_giris\n",
      "0        Ali     Muhasebe       2009\n",
      "1       Veli  Muhendislik       2014\n",
      "2       Ayse  Muhendislik       2010\n",
      "3      Fatma           İK       2019 \n",
      "\n",
      "df3: \n",
      "  calisanlar         grup  ilk_giris\n",
      "0        Ali     Muhasebe       2009\n",
      "1       Veli  Muhendislik       2014\n",
      "2       Ayse  Muhendislik       2010\n",
      "3      Fatma           İK       2019 \n",
      "\n",
      "merge_df3_df4: \n",
      "  calisanlar         grup  ilk_giris    mudur\n",
      "0        Ali     Muhasebe       2009    Caner\n",
      "1       Veli  Muhendislik       2014  Mustafa\n",
      "2       Ayse  Muhendislik       2010  Mustafa\n",
      "3      Fatma           İK       2019  Berkcan \n",
      "\n",
      "merge_df1_df5: \n",
      "  calisanlar         grup yetenekler\n",
      "0        Ali     Muhasebe  matematik\n",
      "1        Ali     Muhasebe      excel\n",
      "2       Veli  Muhendislik    kodlama\n",
      "3       Veli  Muhendislik      linux\n",
      "4       Ayse  Muhendislik    kodlama\n",
      "5       Ayse  Muhendislik      linux\n",
      "6      Fatma           İK      excel\n",
      "7      Fatma           İK    yonetim \n"
     ]
    }
   ],
   "source": [
    "# İki DataFrame'i \"calisanlar\" sütunu üzerinde birleştirelim (varsayılan birleştirme türü)\n",
    "merge_default = pd.merge(df1, df2)\n",
    "\n",
    "# \"calisanlar\" sütunu üzerinde birleştirme yapalım (explicit olarak belirtiliyor)\n",
    "merge_on_calisanlar = pd.merge(df1, df2, on=\"calisanlar\")\n",
    "\n",
    "# İlk iki DataFrame'i birleştirip üçüncü bir DataFrame oluşturalım\n",
    "df3 = pd.merge(df1, df2)\n",
    "\n",
    "# Üçüncü ve dördüncü DataFrame'leri birleştirelim (varsayılan birleştirme türü)\n",
    "merge_df3_df4 = pd.merge(df3, df4)\n",
    "\n",
    "# df1 ve df5'i birleştirelim (varsayılan birleştirme türü)\n",
    "merge_df1_df5 = pd.merge(df1, df5)\n",
    "\n",
    "# Değişkenlere atanan sonuçları görüntüleyelim\n",
    "print(\"\\nmerge_default: \\n{} \".format(merge_default))\n",
    "print(\"\\nmerge_on_calisanlar: \\n{} \".format(merge_on_calisanlar))\n",
    "print(\"\\ndf3: \\n{} \".format(df3))\n",
    "print(\"\\nmerge_df3_df4: \\n{} \".format(merge_df3_df4))\n",
    "print(\"\\nmerge_df1_df5: \\n{} \".format(merge_df1_df5))"
   ]
  },
  {
   "cell_type": "markdown",
   "metadata": {},
   "source": [
    "# Toplulaştırma ve Gruplama (Aggregation & Grouping)"
   ]
  },
  {
   "cell_type": "code",
   "execution_count": 7,
   "metadata": {},
   "outputs": [
    {
     "name": "stdout",
     "output_type": "stream",
     "text": [
      "            method  number  orbital_period   mass  distance  year\n",
      "0  Radial Velocity       1         269.300   7.10     77.40  2006\n",
      "1  Radial Velocity       1         874.774   2.21     56.95  2008\n",
      "2  Radial Velocity       1         763.000   2.60     19.84  2011\n",
      "3  Radial Velocity       1         326.030  19.40    110.62  2007\n",
      "4  Radial Velocity       1         516.220  10.50    119.47  2009\n"
     ]
    }
   ],
   "source": [
    "import seaborn as sns\n",
    "import pandas as pd\n",
    "\n",
    "# \"planets\" veri setini yükle\n",
    "df = sns.load_dataset(\"planets\")\n",
    "\n",
    "# Veri setinin başını görüntüle\n",
    "print(df.head())"
   ]
  },
  {
   "cell_type": "code",
   "execution_count": 11,
   "metadata": {},
   "outputs": [
    {
     "name": "stdout",
     "output_type": "stream",
     "text": [
      "\n",
      "mean_mass: \n",
      "2.6381605847953216 \n",
      "\n",
      "count_mass: \n",
      "513 \n",
      "\n",
      "min_mass: \n",
      "0.0036 \n",
      "\n",
      "max_mass: \n",
      "25.0 \n",
      "\n",
      "sum_mass: \n",
      "1353.37638 \n",
      "\n",
      "std_mass: \n",
      "3.8186166509616046 \n",
      "\n",
      "var_mass: \n",
      "14.58183312700122 \n",
      "\n",
      "describe_transposed: \n",
      "                 count         mean           std          min         25%  \\\n",
      "number          1035.0     1.785507      1.240976     1.000000     1.00000   \n",
      "orbital_period   992.0  2002.917596  26014.728304     0.090706     5.44254   \n",
      "mass             513.0     2.638161      3.818617     0.003600     0.22900   \n",
      "distance         808.0   264.069282    733.116493     1.350000    32.56000   \n",
      "year            1035.0  2009.070531      3.972567  1989.000000  2007.00000   \n",
      "\n",
      "                      50%       75%       max  \n",
      "number             1.0000     2.000       7.0  \n",
      "orbital_period    39.9795   526.005  730000.0  \n",
      "mass               1.2600     3.040      25.0  \n",
      "distance          55.2500   178.500    8500.0  \n",
      "year            2010.0000  2012.000    2014.0   \n",
      "\n",
      "describe_no_na_transposed: \n",
      "                count         mean          std        min         25%  \\\n",
      "number          498.0     1.734940     1.175720     1.0000     1.00000   \n",
      "orbital_period  498.0   835.778671  1469.128259     1.3283    38.27225   \n",
      "mass            498.0     2.509320     3.636274     0.0036     0.21250   \n",
      "distance        498.0    52.068213    46.596041     1.3500    24.49750   \n",
      "year            498.0  2007.377510     4.167284  1989.0000  2005.00000   \n",
      "\n",
      "                     50%        75%      max  \n",
      "number             1.000     2.0000      6.0  \n",
      "orbital_period   357.000   999.6000  17337.5  \n",
      "mass               1.245     2.8675     25.0  \n",
      "distance          39.940    59.3325    354.0  \n",
      "year            2009.000  2011.0000   2014.0   \n"
     ]
    }
   ],
   "source": [
    "\n",
    "# \"mass\" sütununun ortalama değerini hesapla\n",
    "mean_mass = df[\"mass\"].mean()\n",
    "# \"mass\" sütunundaki veri sayısını hesapla\n",
    "count_mass = df[\"mass\"].count()\n",
    "# \"mass\" sütunundaki en küçük değeri bul\n",
    "min_mass = df[\"mass\"].min()\n",
    "# \"mass\" sütunundaki en büyük değeri bul\n",
    "max_mass = df[\"mass\"].max()\n",
    "# \"mass\" sütunundaki değerlerin toplamını hesapla\n",
    "sum_mass = df[\"mass\"].sum()\n",
    "# \"mass\" sütunundaki standart sapmayı hesapla\n",
    "std_mass = df[\"mass\"].std()\n",
    "# \"mass\" sütunundaki varyansı hesapla\n",
    "var_mass = df[\"mass\"].var()\n",
    "# DataFrame'in istatistiksel özetini transpoze ederek görüntüle\n",
    "describe_transposed = df.describe().T\n",
    "# Eksik değerleri içermeyen verilerin istatistiksel özetini transpoze ederek görüntüle\n",
    "describe_no_na_transposed = df.dropna().describe().T\n",
    "\n",
    "\n",
    "# Değişkenlere atanan sonuçları formatlı bir şekilde görüntüle\n",
    "print(\"\\nmean_mass: \\n{} \".format(mean_mass))\n",
    "print(\"\\ncount_mass: \\n{} \".format(count_mass))\n",
    "print(\"\\nmin_mass: \\n{} \".format(min_mass))\n",
    "print(\"\\nmax_mass: \\n{} \".format(max_mass))\n",
    "print(\"\\nsum_mass: \\n{} \".format(sum_mass))\n",
    "print(\"\\nstd_mass: \\n{} \".format(std_mass))\n",
    "print(\"\\nvar_mass: \\n{} \".format(var_mass))\n",
    "print(\"\\ndescribe_transposed: \\n{} \".format(describe_transposed))\n",
    "print(\"\\ndescribe_no_na_transposed: \\n{} \".format(describe_no_na_transposed))\n",
    "\n"
   ]
  },
  {
   "cell_type": "markdown",
   "metadata": {},
   "source": [
    "# Gruplama İşlemleri"
   ]
  },
  {
   "cell_type": "code",
   "execution_count": 46,
   "metadata": {},
   "outputs": [
    {
     "data": {
      "text/html": [
       "<div>\n",
       "<style scoped>\n",
       "    .dataframe tbody tr th:only-of-type {\n",
       "        vertical-align: middle;\n",
       "    }\n",
       "\n",
       "    .dataframe tbody tr th {\n",
       "        vertical-align: top;\n",
       "    }\n",
       "\n",
       "    .dataframe thead th {\n",
       "        text-align: right;\n",
       "    }\n",
       "</style>\n",
       "<table border=\"1\" class=\"dataframe\">\n",
       "  <thead>\n",
       "    <tr style=\"text-align: right;\">\n",
       "      <th></th>\n",
       "      <th>gruplar</th>\n",
       "      <th>veri</th>\n",
       "    </tr>\n",
       "  </thead>\n",
       "  <tbody>\n",
       "    <tr>\n",
       "      <th>0</th>\n",
       "      <td>A</td>\n",
       "      <td>10</td>\n",
       "    </tr>\n",
       "    <tr>\n",
       "      <th>1</th>\n",
       "      <td>B</td>\n",
       "      <td>11</td>\n",
       "    </tr>\n",
       "    <tr>\n",
       "      <th>2</th>\n",
       "      <td>C</td>\n",
       "      <td>52</td>\n",
       "    </tr>\n",
       "    <tr>\n",
       "      <th>3</th>\n",
       "      <td>A</td>\n",
       "      <td>23</td>\n",
       "    </tr>\n",
       "    <tr>\n",
       "      <th>4</th>\n",
       "      <td>B</td>\n",
       "      <td>43</td>\n",
       "    </tr>\n",
       "    <tr>\n",
       "      <th>5</th>\n",
       "      <td>C</td>\n",
       "      <td>55</td>\n",
       "    </tr>\n",
       "  </tbody>\n",
       "</table>\n",
       "</div>"
      ],
      "text/plain": [
       "  gruplar  veri\n",
       "0       A    10\n",
       "1       B    11\n",
       "2       C    52\n",
       "3       A    23\n",
       "4       B    43\n",
       "5       C    55"
      ]
     },
     "execution_count": 46,
     "metadata": {},
     "output_type": "execute_result"
    }
   ],
   "source": [
    "df = pd.DataFrame({'gruplar': ['A', 'B', 'C', 'A', 'B', 'C'],\n",
    "                   'veri': [10,11,52,23,43,55]}, columns=['gruplar', 'veri'])\n",
    "df"
   ]
  },
  {
   "cell_type": "code",
   "execution_count": 47,
   "metadata": {},
   "outputs": [
    {
     "name": "stdout",
     "output_type": "stream",
     "text": [
      "\n",
      "df.groupby(gruplar) : \n",
      "<pandas.core.groupby.generic.DataFrameGroupBy object at 0x000001998BAAA250>\n",
      "\n",
      "df.groupby(gruplar).mean() : \n",
      "         veri\n",
      "gruplar      \n",
      "A        16.5\n",
      "B        27.0\n",
      "C        53.5\n",
      "\n",
      "df.groupby(gruplar).sum() : \n",
      "         veri\n",
      "gruplar      \n",
      "A          33\n",
      "B          54\n",
      "C         107\n"
     ]
    }
   ],
   "source": [
    "\n",
    "\n",
    "print(\"\\ndf.groupby(gruplar) : \\n{}\".format( df.groupby(\"gruplar\") ))\n",
    "print(\"\\ndf.groupby(gruplar).mean() : \\n{}\".format( df.groupby(\"gruplar\").mean() ))\n",
    "print(\"\\ndf.groupby(gruplar).sum() : \\n{}\".format( df.groupby(\"gruplar\").sum() ))\n",
    "\n"
   ]
  },
  {
   "cell_type": "code",
   "execution_count": 48,
   "metadata": {},
   "outputs": [
    {
     "data": {
      "text/html": [
       "<div>\n",
       "<style scoped>\n",
       "    .dataframe tbody tr th:only-of-type {\n",
       "        vertical-align: middle;\n",
       "    }\n",
       "\n",
       "    .dataframe tbody tr th {\n",
       "        vertical-align: top;\n",
       "    }\n",
       "\n",
       "    .dataframe thead th {\n",
       "        text-align: right;\n",
       "    }\n",
       "</style>\n",
       "<table border=\"1\" class=\"dataframe\">\n",
       "  <thead>\n",
       "    <tr style=\"text-align: right;\">\n",
       "      <th></th>\n",
       "      <th>method</th>\n",
       "      <th>number</th>\n",
       "      <th>orbital_period</th>\n",
       "      <th>mass</th>\n",
       "      <th>distance</th>\n",
       "      <th>year</th>\n",
       "    </tr>\n",
       "  </thead>\n",
       "  <tbody>\n",
       "    <tr>\n",
       "      <th>0</th>\n",
       "      <td>Radial Velocity</td>\n",
       "      <td>1</td>\n",
       "      <td>269.300</td>\n",
       "      <td>7.10</td>\n",
       "      <td>77.40</td>\n",
       "      <td>2006</td>\n",
       "    </tr>\n",
       "    <tr>\n",
       "      <th>1</th>\n",
       "      <td>Radial Velocity</td>\n",
       "      <td>1</td>\n",
       "      <td>874.774</td>\n",
       "      <td>2.21</td>\n",
       "      <td>56.95</td>\n",
       "      <td>2008</td>\n",
       "    </tr>\n",
       "    <tr>\n",
       "      <th>2</th>\n",
       "      <td>Radial Velocity</td>\n",
       "      <td>1</td>\n",
       "      <td>763.000</td>\n",
       "      <td>2.60</td>\n",
       "      <td>19.84</td>\n",
       "      <td>2011</td>\n",
       "    </tr>\n",
       "    <tr>\n",
       "      <th>3</th>\n",
       "      <td>Radial Velocity</td>\n",
       "      <td>1</td>\n",
       "      <td>326.030</td>\n",
       "      <td>19.40</td>\n",
       "      <td>110.62</td>\n",
       "      <td>2007</td>\n",
       "    </tr>\n",
       "    <tr>\n",
       "      <th>4</th>\n",
       "      <td>Radial Velocity</td>\n",
       "      <td>1</td>\n",
       "      <td>516.220</td>\n",
       "      <td>10.50</td>\n",
       "      <td>119.47</td>\n",
       "      <td>2009</td>\n",
       "    </tr>\n",
       "  </tbody>\n",
       "</table>\n",
       "</div>"
      ],
      "text/plain": [
       "            method  number  orbital_period   mass  distance  year\n",
       "0  Radial Velocity       1         269.300   7.10     77.40  2006\n",
       "1  Radial Velocity       1         874.774   2.21     56.95  2008\n",
       "2  Radial Velocity       1         763.000   2.60     19.84  2011\n",
       "3  Radial Velocity       1         326.030  19.40    110.62  2007\n",
       "4  Radial Velocity       1         516.220  10.50    119.47  2009"
      ]
     },
     "execution_count": 48,
     "metadata": {},
     "output_type": "execute_result"
    }
   ],
   "source": [
    "df = sns.load_dataset(\"planets\")\n",
    "df.head()"
   ]
  },
  {
   "cell_type": "code",
   "execution_count": 52,
   "metadata": {},
   "outputs": [
    {
     "name": "stdout",
     "output_type": "stream",
     "text": [
      "\n",
      "df.groupby(method) : \n",
      "<pandas.core.groupby.generic.DataFrameGroupBy object at 0x000001998D2AF950>\n",
      "\n",
      "df.groupby(method)[orbital_period].mean() : \n",
      "method\n",
      "Astrometry                          631.180000\n",
      "Eclipse Timing Variations          4751.644444\n",
      "Imaging                          118247.737500\n",
      "Microlensing                       3153.571429\n",
      "Orbital Brightness Modulation         0.709307\n",
      "Pulsar Timing                      7343.021201\n",
      "Pulsation Timing Variations        1170.000000\n",
      "Radial Velocity                     823.354680\n",
      "Transit                              21.102073\n",
      "Transit Timing Variations            79.783500\n",
      "Name: orbital_period, dtype: float64\n",
      "\n",
      "df.groupby(method)[orbital_period].describe() : \n",
      "                               count           mean            std  \\\n",
      "method                                                               \n",
      "Astrometry                       2.0     631.180000     544.217663   \n",
      "Eclipse Timing Variations        9.0    4751.644444    2499.130945   \n",
      "Imaging                         12.0  118247.737500  213978.177277   \n",
      "Microlensing                     7.0    3153.571429    1113.166333   \n",
      "Orbital Brightness Modulation    3.0       0.709307       0.725493   \n",
      "Pulsar Timing                    5.0    7343.021201   16313.265573   \n",
      "Pulsation Timing Variations      1.0    1170.000000            NaN   \n",
      "Radial Velocity                553.0     823.354680    1454.926210   \n",
      "Transit                        397.0      21.102073      46.185893   \n",
      "Transit Timing Variations        3.0      79.783500      71.599884   \n",
      "\n",
      "                                       min          25%           50%  \\\n",
      "method                                                                  \n",
      "Astrometry                      246.360000   438.770000    631.180000   \n",
      "Eclipse Timing Variations      1916.250000  2900.000000   4343.500000   \n",
      "Imaging                        4639.150000  8343.900000  27500.000000   \n",
      "Microlensing                   1825.000000  2375.000000   3300.000000   \n",
      "Orbital Brightness Modulation     0.240104     0.291496      0.342887   \n",
      "Pulsar Timing                     0.090706    25.262000     66.541900   \n",
      "Pulsation Timing Variations    1170.000000  1170.000000   1170.000000   \n",
      "Radial Velocity                   0.736540    38.021000    360.200000   \n",
      "Transit                           0.355000     3.160630      5.714932   \n",
      "Transit Timing Variations        22.339500    39.675250     57.011000   \n",
      "\n",
      "                                        75%            max  \n",
      "method                                                      \n",
      "Astrometry                       823.590000    1016.000000  \n",
      "Eclipse Timing Variations       5767.000000   10220.000000  \n",
      "Imaging                        94250.000000  730000.000000  \n",
      "Microlensing                    3550.000000    5100.000000  \n",
      "Orbital Brightness Modulation      0.943908       1.544929  \n",
      "Pulsar Timing                     98.211400   36525.000000  \n",
      "Pulsation Timing Variations     1170.000000    1170.000000  \n",
      "Radial Velocity                  982.000000   17337.500000  \n",
      "Transit                           16.145700     331.600590  \n",
      "Transit Timing Variations        108.505500     160.000000  \n"
     ]
    }
   ],
   "source": [
    "\n",
    "print(\"\\ndf.groupby(method) : \\n{}\".format( df.groupby(\"method\") ))\n",
    "print(\"\\ndf.groupby(method)[orbital_period].mean() : \\n{}\".format( df.groupby(\"method\")[\"orbital_period\"].mean() ))\n",
    "print(\"\\ndf.groupby(method)[orbital_period].describe() : \\n{}\".format( df.groupby(\"method\")[\"orbital_period\"].describe() ))\n"
   ]
  },
  {
   "cell_type": "markdown",
   "metadata": {},
   "source": [
    "# İleri Toplulaştırma İşlemleri (Aggregate, filter, transform, apply)"
   ]
  },
  {
   "cell_type": "code",
   "execution_count": 8,
   "metadata": {},
   "outputs": [
    {
     "data": {
      "text/html": [
       "<div>\n",
       "<style scoped>\n",
       "    .dataframe tbody tr th:only-of-type {\n",
       "        vertical-align: middle;\n",
       "    }\n",
       "\n",
       "    .dataframe tbody tr th {\n",
       "        vertical-align: top;\n",
       "    }\n",
       "\n",
       "    .dataframe thead th {\n",
       "        text-align: right;\n",
       "    }\n",
       "</style>\n",
       "<table border=\"1\" class=\"dataframe\">\n",
       "  <thead>\n",
       "    <tr style=\"text-align: right;\">\n",
       "      <th></th>\n",
       "      <th>gruplar</th>\n",
       "      <th>degisken1</th>\n",
       "      <th>degisken2</th>\n",
       "    </tr>\n",
       "  </thead>\n",
       "  <tbody>\n",
       "    <tr>\n",
       "      <th>0</th>\n",
       "      <td>A</td>\n",
       "      <td>10</td>\n",
       "      <td>100</td>\n",
       "    </tr>\n",
       "    <tr>\n",
       "      <th>1</th>\n",
       "      <td>B</td>\n",
       "      <td>23</td>\n",
       "      <td>253</td>\n",
       "    </tr>\n",
       "    <tr>\n",
       "      <th>2</th>\n",
       "      <td>C</td>\n",
       "      <td>33</td>\n",
       "      <td>333</td>\n",
       "    </tr>\n",
       "    <tr>\n",
       "      <th>3</th>\n",
       "      <td>A</td>\n",
       "      <td>22</td>\n",
       "      <td>262</td>\n",
       "    </tr>\n",
       "    <tr>\n",
       "      <th>4</th>\n",
       "      <td>B</td>\n",
       "      <td>11</td>\n",
       "      <td>111</td>\n",
       "    </tr>\n",
       "    <tr>\n",
       "      <th>5</th>\n",
       "      <td>C</td>\n",
       "      <td>99</td>\n",
       "      <td>969</td>\n",
       "    </tr>\n",
       "  </tbody>\n",
       "</table>\n",
       "</div>"
      ],
      "text/plain": [
       "  gruplar  degisken1  degisken2\n",
       "0       A         10        100\n",
       "1       B         23        253\n",
       "2       C         33        333\n",
       "3       A         22        262\n",
       "4       B         11        111\n",
       "5       C         99        969"
      ]
     },
     "execution_count": 8,
     "metadata": {},
     "output_type": "execute_result"
    }
   ],
   "source": [
    "import numpy as np\n",
    "import pandas as pd\n",
    "df = pd.DataFrame({'gruplar': ['A', 'B', 'C', 'A', 'B', 'C'],\n",
    "                   'degisken1': [10,23,33,22,11,99],\n",
    "                   'degisken2': [100,253,333,262,111,969]},\n",
    "                   columns = ['gruplar', 'degisken1', 'degisken2'])\n",
    "df"
   ]
  },
  {
   "cell_type": "code",
   "execution_count": 2,
   "metadata": {},
   "outputs": [
    {
     "name": "stdout",
     "output_type": "stream",
     "text": [
      "\n",
      "grup_ortalamalari: \n",
      "gruplar\n",
      "A    16.0\n",
      "B    17.0\n",
      "C    66.0\n",
      "Name: degisken1, dtype: float64\n",
      "\n",
      "grup_aggregate: \n",
      "        degisken1            degisken2            \n",
      "              min median max       min median  max\n",
      "gruplar                                           \n",
      "A              10   16.0  22       100  181.0  262\n",
      "B              11   17.0  23       111  182.0  253\n",
      "C              33   66.0  99       333  651.0  969\n",
      "\n",
      "grup_ozel_aggregate: \n",
      "         degisken1  degisken2\n",
      "gruplar                      \n",
      "A               10        262\n",
      "B               11        253\n",
      "C               33        969\n"
     ]
    }
   ],
   "source": [
    "# \"gruplar\" sütununa göre gruplama yapalım ve grupların \"degisken1\" sütunundaki ortalama değerlerini hesaplayalım\n",
    "grup_ortalamalari = df.groupby(\"gruplar\")[\"degisken1\"].mean()\n",
    "\n",
    "# \"gruplar\" sütununa göre gruplama yapalım ve grupların \"degisken1\" ve \"degisken2\" sütunları için minimum, medyan ve maksimum değerleri hesaplayalım\n",
    "grup_aggregate = df.groupby(\"gruplar\").aggregate([min, np.median, max])\n",
    "\n",
    "# \"gruplar\" sütununa göre gruplama yapalım ve grupların \"degisken1\" için minimum değeri, \"degisken2\" için maksimum değeri hesaplayalım\n",
    "grup_ozel_aggregate = df.groupby(\"gruplar\").aggregate({\"degisken1\": \"min\", \"degisken2\": \"max\"})\n",
    "\n",
    "# Sonuçları ekrana yazdıralım\n",
    "print(\"\\ngrup_ortalamalari: \\n{}\".format(grup_ortalamalari))\n",
    "print(\"\\ngrup_aggregate: \\n{}\".format(grup_aggregate))\n",
    "print(\"\\ngrup_ozel_aggregate: \\n{}\".format(grup_ozel_aggregate))"
   ]
  },
  {
   "cell_type": "code",
   "execution_count": 3,
   "metadata": {},
   "outputs": [
    {
     "name": "stdout",
     "output_type": "stream",
     "text": [
      "\n",
      "filtrelenmis_gruplar: \n",
      "  gruplar  degisken1  degisken2\n",
      "2       C         33        333\n",
      "5       C         99        969\n",
      "\n",
      "grup_standart_sapma: \n",
      "         degisken1   degisken2\n",
      "gruplar                       \n",
      "A         8.485281  114.551299\n",
      "B         8.485281  100.409163\n",
      "C        46.669048  449.719913\n"
     ]
    }
   ],
   "source": [
    "# \"degisken1\" sütununun standart sapmasının 9'dan büyük olduğu grupları filtreleyelim\n",
    "def filter_func(x):\n",
    "    return x[\"degisken1\"].std() > 9\n",
    "\n",
    "# \"gruplar\" sütununa göre gruplama yapalım ve \"filter_func\" fonksiyonunu kullanarak filtreyi uygulayalım\n",
    "filtrelenmis_gruplar = df.groupby(\"gruplar\").filter(filter_func)\n",
    "\n",
    "# Her grubun standart sapmalarını hesaplayalım\n",
    "grup_standart_sapma = df.groupby(\"gruplar\").std()\n",
    "\n",
    "# Sonuçları ekrana yazdıralım\n",
    "print(\"\\nfiltrelenmis_gruplar: \\n{}\".format(filtrelenmis_gruplar))\n",
    "print(\"\\ngrup_standart_sapma: \\n{}\".format(grup_standart_sapma))"
   ]
  },
  {
   "cell_type": "code",
   "execution_count": 4,
   "metadata": {},
   "outputs": [
    {
     "name": "stdout",
     "output_type": "stream",
     "text": [
      "\n",
      "df_degisken1_carpilmis: \n",
      "0     90\n",
      "1    207\n",
      "2    297\n",
      "3    198\n",
      "4     99\n",
      "5    891\n",
      "Name: degisken1, dtype: int64\n",
      "\n",
      "df_a_standartlastirilmis: \n",
      "   degisken1  degisken2\n",
      "0  -0.687871  -0.738461\n",
      "1  -0.299074  -0.263736\n",
      "2   0.000000  -0.015514\n",
      "3  -0.328982  -0.235811\n",
      "4  -0.657963  -0.704331\n",
      "5   1.973890   1.957853\n"
     ]
    }
   ],
   "source": [
    "# \"degisken1\" sütununu 9 ile çarpalım\n",
    "df_degisken1_carpilmis = df[\"degisken1\"] * 9\n",
    "\n",
    "# DataFrame'de 1. ve 2. sütunları (degisken1 ve degisken2) seçelim\n",
    "df_a = df.iloc[:, 1:3]\n",
    "\n",
    "# Seçilen sütunları, sütunların kendi ortalamalarını çıkarıp standart sapmalarına bölelim (standartlaştırma)\n",
    "df_a_standartlastirilmis = df_a.transform(lambda x: (x - x.mean()) / x.std())\n",
    "\n",
    "# Sonuçları ekrana yazdıralım\n",
    "print(\"\\ndf_degisken1_carpilmis: \\n{}\".format(df_degisken1_carpilmis))\n",
    "print(\"\\ndf_a_standartlastirilmis: \\n{}\".format(df_a_standartlastirilmis))"
   ]
  },
  {
   "cell_type": "code",
   "execution_count": 14,
   "metadata": {},
   "outputs": [
    {
     "name": "stdout",
     "output_type": "stream",
     "text": [
      "\n",
      "sum_all_columns: \n",
      "gruplar      ABCABC\n",
      "degisken1       198\n",
      "degisken2      2028\n",
      "dtype: object\n"
     ]
    }
   ],
   "source": [
    "\n",
    "import numpy as np\n",
    "import pandas as pd\n",
    "\n",
    "\n",
    "# Tüm sütunlardaki toplam değerleri hesaplayalım\n",
    "sum_all_columns = df.apply(np.sum)\n",
    "\n",
    "\n",
    "\n",
    "# Sonuçları ekrana yazdıralım\n",
    "print(\"\\nsum_all_columns: \\n{}\".format(sum_all_columns))\n",
    "\n"
   ]
  },
  {
   "cell_type": "code",
   "execution_count": 16,
   "metadata": {},
   "outputs": [
    {
     "name": "stdout",
     "output_type": "stream",
     "text": [
      "\n",
      "mean_group_by_gruplar: \n",
      "gruplar\n",
      "A     98.5\n",
      "B     99.5\n",
      "C    358.5\n",
      "dtype: float64\n"
     ]
    }
   ],
   "source": [
    "# \"gruplar\" sütununa göre gruplayarak her grup için sütunların ortalama değerlerini hesaplayalım\n",
    "mean_group_by_gruplar = df.groupby(\"gruplar\").apply(np.mean)\n",
    "# Sonuçları ekrana yazdıralım\n",
    "print(\"\\nmean_group_by_gruplar: \\n{}\".format(mean_group_by_gruplar))"
   ]
  },
  {
   "cell_type": "markdown",
   "metadata": {},
   "source": [
    "# Pivot Tablolar"
   ]
  },
  {
   "cell_type": "code",
   "execution_count": 22,
   "metadata": {},
   "outputs": [
    {
     "name": "stdout",
     "output_type": "stream",
     "text": [
      "\n",
      "titanic_head: \n",
      "   survived  pclass     sex   age  sibsp  parch     fare embarked  class  \\\n",
      "0         0       3    male  22.0      1      0   7.2500        S  Third   \n",
      "1         1       1  female  38.0      1      0  71.2833        C  First   \n",
      "2         1       3  female  26.0      0      0   7.9250        S  Third   \n",
      "3         1       1  female  35.0      1      0  53.1000        S  First   \n",
      "4         0       3    male  35.0      0      0   8.0500        S  Third   \n",
      "\n",
      "     who  adult_male deck  embark_town alive  alone  \n",
      "0    man        True  NaN  Southampton    no  False  \n",
      "1  woman       False    C    Cherbourg   yes  False  \n",
      "2  woman       False  NaN  Southampton   yes   True  \n",
      "3  woman       False    C  Southampton   yes  False  \n",
      "4    man        True  NaN  Southampton    no   True  \n"
     ]
    }
   ],
   "source": [
    "# pandas ve seaborn kütüphanelerini içe aktaralım\n",
    "import pandas as pd\n",
    "import seaborn as sns\n",
    "\n",
    "# Seaborn kütüphanesinde yer alan 'titanic' veri setini yükleyelim\n",
    "titanic = sns.load_dataset('titanic')\n",
    "\n",
    "# Veri setinin ilk birkaç satırını görüntüleyelim\n",
    "titanic_head = titanic.head()\n",
    "\n",
    "# 'titanic_head' değişkenine atanan ilk birkaç satırı ekrana yazdıralım\n",
    "print(\"\\ntitanic_head: \\n{}\".format(titanic_head))\n"
   ]
  },
  {
   "cell_type": "code",
   "execution_count": 23,
   "metadata": {},
   "outputs": [
    {
     "name": "stdout",
     "output_type": "stream",
     "text": [
      "\n",
      "sex_survived_mean: \n",
      "        survived\n",
      "sex             \n",
      "female  0.742038\n",
      "male    0.188908\n",
      "\n",
      "sex_class_survived_mean: \n",
      "        survived                    \n",
      "class      First    Second     Third\n",
      "sex                                 \n",
      "female  0.968085  0.921053  0.500000\n",
      "male    0.368852  0.157407  0.135447\n"
     ]
    }
   ],
   "source": [
    "# Cinsiyete göre hayatta kalanların ortalama oranını hesaplayalım ve \"sex_survived_mean\" adlı bir DataFrame'e atayalım\n",
    "sex_survived_mean = titanic.groupby(\"sex\")[[\"survived\"]].mean()\n",
    "\n",
    "# Sınıf ve cinsiyete göre hayatta kalanların ortalama oranlarını hesaplayalım, sonucu çoklu indeksli bir DataFrame olarak döndürelim ve \"sex_class_survived_mean\" adlı bir DataFrame'e atayalım\n",
    "sex_class_survived_mean = titanic.groupby([\"sex\", \"class\"])[[\"survived\"]].aggregate(\"mean\").unstack()\n",
    "\n",
    "# Sonuçları ekrana yazdıralım\n",
    "print(\"\\nsex_survived_mean: \\n{}\".format(sex_survived_mean))\n",
    "print(\"\\nsex_class_survived_mean: \\n{}\".format(sex_class_survived_mean))"
   ]
  },
  {
   "cell_type": "code",
   "execution_count": 33,
   "metadata": {},
   "outputs": [
    {
     "name": "stdout",
     "output_type": "stream",
     "text": [
      "titanic.age.head: \n",
      "0    22.0\n",
      "1    38.0\n",
      "2    26.0\n",
      "3    35.0\n",
      "4    35.0\n",
      "Name: age, dtype: float64\n",
      "age.head(10):\n",
      "0    (18.0, 90.0]\n",
      "1    (18.0, 90.0]\n",
      "2    (18.0, 90.0]\n",
      "3    (18.0, 90.0]\n",
      "4    (18.0, 90.0]\n",
      "5             NaN\n",
      "6    (18.0, 90.0]\n",
      "7     (0.0, 18.0]\n",
      "8    (18.0, 90.0]\n",
      "9     (0.0, 18.0]\n",
      "Name: age, dtype: category\n",
      "Categories (2, interval[int64, right]): [(0, 18] < (18, 90]]\n",
      "\n",
      "pivot_sex_class_survived:\n",
      "class      First    Second     Third\n",
      "sex                                 \n",
      "female  0.968085  0.921053  0.500000\n",
      "male    0.368852  0.157407  0.135447\n",
      "\n",
      "pivot_sex_age_class_survived:\n",
      "class               First    Second     Third\n",
      "sex    age                                   \n",
      "female (0, 18]   0.909091  1.000000  0.511628\n",
      "       (18, 90]  0.972973  0.900000  0.423729\n",
      "male   (0, 18]   0.800000  0.600000  0.215686\n",
      "       (18, 90]  0.375000  0.071429  0.133663\n"
     ]
    }
   ],
   "source": [
    "# Cinsiyete ve sınıfa göre hayatta kalanların ortalama oranlarını içeren bir pivot tablosu oluşturalım ve sonucu \"pivot_sex_class_survived\" adlı bir DataFrame'e atayalım\n",
    "pivot_sex_class_survived = titanic.pivot_table(\"survived\", index=\"sex\", columns=\"class\")\n",
    "\n",
    "# Titanic veri setindeki ilk birkaç yaş değerini gösterelim\n",
    "print(\"titanic.age.head: \\n{}\".format(titanic.age.head()))\n",
    "\n",
    "# \"age\" adlı yeni bir kategorik değişken oluşturalım, yaş verilerini belirtilen aralıklara (0-18 ve 18-90) bölelim\n",
    "age = pd.cut(titanic[\"age\"], [0, 18, 90])\n",
    "print(\"age.head(10):\")\n",
    "# \"age\" adlı yeni değişkenin ilk on değerini gösterelim\n",
    "print(age.head(10))\n",
    "\n",
    "# Cinsiyet, yaş kategorisi ve sınıfa göre hayatta kalanların ortalama oranlarını içeren bir pivot tablosu oluşturalım ve sonucu \"pivot_sex_age_class_survived\" adlı bir DataFrame'e atayalım\n",
    "pivot_sex_age_class_survived = titanic.pivot_table(\"survived\", [\"sex\", age], \"class\")\n",
    "\n",
    "# Sonuçları ekrana yazdıralım\n",
    "print(\"\\npivot_sex_class_survived:\\n{}\".format(pivot_sex_class_survived))\n",
    "print(\"\\npivot_sex_age_class_survived:\\n{}\".format(pivot_sex_age_class_survived))"
   ]
  },
  {
   "cell_type": "code",
   "execution_count": null,
   "metadata": {},
   "outputs": [],
   "source": []
  }
 ],
 "metadata": {
  "kernelspec": {
   "display_name": "Python 3",
   "language": "python",
   "name": "python3"
  },
  "language_info": {
   "codemirror_mode": {
    "name": "ipython",
    "version": 3
   },
   "file_extension": ".py",
   "mimetype": "text/x-python",
   "name": "python",
   "nbconvert_exporter": "python",
   "pygments_lexer": "ipython3",
   "version": "3.11.4"
  },
  "orig_nbformat": 4
 },
 "nbformat": 4,
 "nbformat_minor": 2
}
