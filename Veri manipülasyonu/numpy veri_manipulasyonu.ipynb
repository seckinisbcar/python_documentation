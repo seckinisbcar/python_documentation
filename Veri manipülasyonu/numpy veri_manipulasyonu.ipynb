{
 "cells": [
  {
   "cell_type": "code",
   "execution_count": 3,
   "metadata": {},
   "outputs": [],
   "source": [
    "import numpy as np"
   ]
  },
  {
   "cell_type": "code",
   "execution_count": 4,
   "metadata": {},
   "outputs": [],
   "source": [
    "aliste = [1,2,3,4]\n",
    "a = np.array(aliste)\n",
    "b = np.array([2,3,4,5])"
   ]
  },
  {
   "cell_type": "code",
   "execution_count": 6,
   "metadata": {},
   "outputs": [
    {
     "data": {
      "text/plain": [
       "numpy.ndarray"
      ]
     },
     "execution_count": 6,
     "metadata": {},
     "output_type": "execute_result"
    }
   ],
   "source": [
    "type(a)"
   ]
  },
  {
   "cell_type": "code",
   "execution_count": 10,
   "metadata": {},
   "outputs": [
    {
     "data": {
      "text/plain": [
       "array([ 3,  4,  2, 13])"
      ]
     },
     "execution_count": 10,
     "metadata": {},
     "output_type": "execute_result"
    }
   ],
   "source": [
    "np.array([3.14, 4.05, 2.6, 13.75], dtype = \"int\")"
   ]
  },
  {
   "cell_type": "code",
   "execution_count": 9,
   "metadata": {},
   "outputs": [
    {
     "data": {
      "text/plain": [
       "array([ 3.14,  4.05,  2.6 , 13.75])"
      ]
     },
     "execution_count": 9,
     "metadata": {},
     "output_type": "execute_result"
    }
   ],
   "source": [
    "np.array([3.14, 4.05, 2.6, 13.75], dtype = \"float\")"
   ]
  },
  {
   "cell_type": "code",
   "execution_count": 11,
   "metadata": {},
   "outputs": [
    {
     "data": {
      "text/plain": [
       "array([0, 0, 0, 0, 0, 0, 0, 0, 0, 0])"
      ]
     },
     "execution_count": 11,
     "metadata": {},
     "output_type": "execute_result"
    }
   ],
   "source": [
    "# sifir array olusturma\n",
    "np.zeros(10, dtype = int)"
   ]
  },
  {
   "cell_type": "code",
   "execution_count": 12,
   "metadata": {},
   "outputs": [
    {
     "data": {
      "text/plain": [
       "array([[1, 1, 1, 1, 1],\n",
       "       [1, 1, 1, 1, 1],\n",
       "       [1, 1, 1, 1, 1]])"
      ]
     },
     "execution_count": 12,
     "metadata": {},
     "output_type": "execute_result"
    }
   ],
   "source": [
    "# birlerden olusan 3x5 lik bir array olusturma\n",
    "np.ones((3,5), dtype = int)"
   ]
  },
  {
   "cell_type": "code",
   "execution_count": 13,
   "metadata": {},
   "outputs": [
    {
     "data": {
      "text/plain": [
       "array([[3, 3, 3, 3, 3],\n",
       "       [3, 3, 3, 3, 3],\n",
       "       [3, 3, 3, 3, 3]])"
      ]
     },
     "execution_count": 13,
     "metadata": {},
     "output_type": "execute_result"
    }
   ],
   "source": [
    "# sonunda 3 yazıldıgında 3x5'lik 3'lerden olusana bır array  \n",
    "np.full((3,5), 3)"
   ]
  },
  {
   "cell_type": "code",
   "execution_count": 14,
   "metadata": {},
   "outputs": [
    {
     "data": {
      "text/plain": [
       "array([ 0,  2,  4,  6,  8, 10, 12, 14, 16, 18, 20, 22, 24, 26, 28, 30])"
      ]
     },
     "execution_count": 14,
     "metadata": {},
     "output_type": "execute_result"
    }
   ],
   "source": [
    "# 0-31 arasından ikişerli ikişerli bır array olusturur\n",
    "np.arange(0,31,2)"
   ]
  },
  {
   "cell_type": "code",
   "execution_count": 16,
   "metadata": {},
   "outputs": [
    {
     "data": {
      "text/plain": [
       "array([0.        , 0.22222222, 0.44444444, 0.66666667, 0.88888889,\n",
       "       1.11111111, 1.33333333, 1.55555556, 1.77777778, 2.        ])"
      ]
     },
     "execution_count": 16,
     "metadata": {},
     "output_type": "execute_result"
    }
   ],
   "source": [
    "# np.linspace(start, stop, num)\n",
    "# start: Oluşturulan aralığın başlangıç değeri.\n",
    "# stop: Oluşturulan aralığın bitiş değeri.\n",
    "# num: Oluşturulan eşit aralıklı değerlerin sayısı.\n",
    "\n",
    "np.linspace(0,2,10)"
   ]
  },
  {
   "cell_type": "code",
   "execution_count": 17,
   "metadata": {},
   "outputs": [
    {
     "data": {
      "text/plain": [
       "array([[ 8.10979551,  9.67752627, 10.90094374, 14.88356472],\n",
       "       [11.58130389,  4.63574746, 12.17098459,  6.19772249],\n",
       "       [ 4.56161868,  6.60116234,  9.48872968, 10.98384074]])"
      ]
     },
     "execution_count": 17,
     "metadata": {},
     "output_type": "execute_result"
    }
   ],
   "source": [
    "# np.random.normal(mean, std_deviation, size)\n",
    "# mean: Normal dağılımdaki ortalamayı belirler.\n",
    "# std_deviation: Normal dağılımdaki standart sapmayı belirler.\n",
    "# size: Üretilecek rastgele sayıların şeklini (boyutunu) belirler.\n",
    "\n",
    "np.random.normal(10, 3, (3,4))"
   ]
  },
  {
   "cell_type": "code",
   "execution_count": 7,
   "metadata": {},
   "outputs": [],
   "source": [
    "# np.random.randint(low, high, size)\n",
    "# low: Oluşturulan aralığın alt sınırı (dahil).\n",
    "# high: Oluşturulan aralığın üst sınırı (hariç).\n",
    "# size: Oluşturulan rastgele değerlerin şeklini (boyutunu) belirler.\n",
    "b=np.random.randint(0,10, (3,3))"
   ]
  },
  {
   "cell_type": "code",
   "execution_count": 11,
   "metadata": {},
   "outputs": [
    {
     "name": "stdout",
     "output_type": "stream",
     "text": [
      "b.ndim= 2\n",
      "b.shape= (3, 3)\n",
      "b.size= 9\n",
      "b.dtype= int32\n"
     ]
    }
   ],
   "source": [
    "#.ndim (boyut sayısı) gösterir.\n",
    "print( \"b.ndim=\",b.ndim)\n",
    "print(\"b.shape=\",b.shape)\n",
    "print(\"b.size=\",b.size)\n",
    "print(\"b.dtype=\",b.dtype)"
   ]
  },
  {
   "cell_type": "markdown",
   "metadata": {},
   "source": [
    "# Yeniden Şekillendirme (Reshaping)"
   ]
  },
  {
   "cell_type": "code",
   "execution_count": 14,
   "metadata": {},
   "outputs": [
    {
     "data": {
      "text/plain": [
       "array([1, 2, 3, 4, 5, 6, 7, 8, 9])"
      ]
     },
     "execution_count": 14,
     "metadata": {},
     "output_type": "execute_result"
    }
   ],
   "source": [
    "np.arange(1,10)\n"
   ]
  },
  {
   "cell_type": "code",
   "execution_count": 13,
   "metadata": {},
   "outputs": [
    {
     "data": {
      "text/plain": [
       "array([[1, 2, 3],\n",
       "       [4, 5, 6],\n",
       "       [7, 8, 9]])"
      ]
     },
     "execution_count": 13,
     "metadata": {},
     "output_type": "execute_result"
    }
   ],
   "source": [
    "# np.arange(start, stop)\n",
    "# start: Dizinin başlangıç değeri.\n",
    "# stop: Dizinin bitiş değeri (hariç).\n",
    "\n",
    "# np.reshape((rows, cols))\n",
    "# rows: Matrisin satır sayısı.\n",
    "# cols: Matrisin sütun sayısı.\n",
    "\n",
    "np.arange(1,10).reshape((3,3))"
   ]
  },
  {
   "cell_type": "code",
   "execution_count": 15,
   "metadata": {},
   "outputs": [
    {
     "data": {
      "text/plain": [
       "array([1, 2, 3, 4, 5, 6, 7, 8, 9])"
      ]
     },
     "execution_count": 15,
     "metadata": {},
     "output_type": "execute_result"
    }
   ],
   "source": [
    "\n",
    "# np.arange(start, stop)\n",
    "# start: Dizinin başlangıç değeri.\n",
    "# stop: Dizinin bitiş değeri (hariç).\n",
    "\n",
    "a = np.arange(1,10)\n",
    "a"
   ]
  },
  {
   "cell_type": "code",
   "execution_count": 22,
   "metadata": {},
   "outputs": [],
   "source": [
    "x = np.array([1,2,3])\n",
    "y = np.array([4,5,6])"
   ]
  },
  {
   "cell_type": "code",
   "execution_count": 23,
   "metadata": {},
   "outputs": [
    {
     "data": {
      "text/plain": [
       "array([1, 2, 3, 4, 5, 6])"
      ]
     },
     "execution_count": 23,
     "metadata": {},
     "output_type": "execute_result"
    }
   ],
   "source": [
    "# np.concatenate(arrays, axis)\n",
    "# arrays: Birleştirilecek dizileri içeren bir liste veya demet.\n",
    "# axis: Birleştirme işleminin yapılacağı eksen. Varsayılan değeri 0'dır (satır bazında birleştirme).\n",
    "\n",
    "np.concatenate([x, y])"
   ]
  },
  {
   "cell_type": "code",
   "execution_count": 24,
   "metadata": {},
   "outputs": [
    {
     "data": {
      "text/plain": [
       "array([[1, 2, 5],\n",
       "       [3, 4, 6]])"
      ]
     },
     "execution_count": 24,
     "metadata": {},
     "output_type": "execute_result"
    }
   ],
   "source": [
    "x = np.array([[1, 2], [3, 4]])\n",
    "y = np.array([[5, 6]])\n",
    "# y dizisinin transpozu (T):\n",
    "\n",
    "np.concatenate([x, y.T], axis=1)"
   ]
  },
  {
   "cell_type": "code",
   "execution_count": 25,
   "metadata": {},
   "outputs": [
    {
     "data": {
      "text/plain": [
       "array([[1, 2, 3],\n",
       "       [4, 5, 6],\n",
       "       [1, 2, 3],\n",
       "       [4, 5, 6]])"
      ]
     },
     "execution_count": 25,
     "metadata": {},
     "output_type": "execute_result"
    }
   ],
   "source": [
    "# np.concatenate([a, a]) ile matris a, kendisi ile satır bazında birleştirilir:\n",
    "\n",
    "a = np.array([[1, 2, 3],\n",
    "              [4, 5, 6]])\n",
    "\n",
    "np.concatenate([a, a])"
   ]
  },
  {
   "cell_type": "code",
   "execution_count": 26,
   "metadata": {},
   "outputs": [
    {
     "data": {
      "text/plain": [
       "array([[1, 2, 3, 1, 2, 3],\n",
       "       [4, 5, 6, 4, 5, 6]])"
      ]
     },
     "execution_count": 26,
     "metadata": {},
     "output_type": "execute_result"
    }
   ],
   "source": [
    "# np.concatenate([a, a], axis=1) ile matris a, kendisi ile sütun bazında birleştirilir:\n",
    "np.concatenate([a,a], axis = 1)"
   ]
  },
  {
   "cell_type": "markdown",
   "metadata": {},
   "source": [
    "# Array Ayırma (Splitting)"
   ]
  },
  {
   "cell_type": "code",
   "execution_count": 27,
   "metadata": {},
   "outputs": [],
   "source": [
    "import numpy as np\n",
    "x = np.array([1,2,3,99,99,3,2,1])"
   ]
  },
  {
   "cell_type": "code",
   "execution_count": 29,
   "metadata": {},
   "outputs": [
    {
     "data": {
      "text/plain": [
       "[array([1, 2, 3]), array([99, 99]), array([3, 2, 1])]"
      ]
     },
     "execution_count": 29,
     "metadata": {},
     "output_type": "execute_result"
    }
   ],
   "source": [
    "# np.split(x, [3, 5]) ile diziyi indeks 3 ve 5'te böler:\n",
    "# [array([1, 2, 3]), array([99, 99]), array([3, 2, 1])]\n",
    "\n",
    "np.split(x, [3,5])"
   ]
  },
  {
   "cell_type": "code",
   "execution_count": 70,
   "metadata": {},
   "outputs": [
    {
     "name": "stdout",
     "output_type": "stream",
     "text": [
      "a:  [1 2 3] b: [99 99] c: [3 2 1]  \n"
     ]
    }
   ],
   "source": [
    "a,b,c = np.split(x, [3,5])\n",
    "print(\"a:  {} b: {} c: {}  \".format(a,b,c))\n"
   ]
  },
  {
   "cell_type": "code",
   "execution_count": 31,
   "metadata": {},
   "outputs": [
    {
     "data": {
      "text/plain": [
       "[array([[0, 1, 2, 3],\n",
       "        [4, 5, 6, 7]]),\n",
       " array([[ 8,  9, 10, 11],\n",
       "        [12, 13, 14, 15]])]"
      ]
     },
     "execution_count": 31,
     "metadata": {},
     "output_type": "execute_result"
    }
   ],
   "source": [
    "#iki boyutlu ayırma\n",
    "# np.vsplit(m, [2]) ile matris m, 2. satırda dikey olarak böler:\n",
    "m = np.arange(16).reshape(4,4)\n",
    "np.vsplit(m, [2])\n"
   ]
  },
  {
   "cell_type": "code",
   "execution_count": 68,
   "metadata": {},
   "outputs": [
    {
     "name": "stdout",
     "output_type": "stream",
     "text": [
      "ust: \n",
      " [[2 7 1 3 5]\n",
      " [6 0 8 3 8]] \n",
      " alt:\n",
      " [[3 0 6 0 2]]\n"
     ]
    }
   ],
   "source": [
    "ust, alt = np.vsplit(m, [2])\n",
    "print(\"ust: \\n {} \\n alt:\\n {}\".format(ust,alt))"
   ]
  },
  {
   "cell_type": "code",
   "execution_count": 40,
   "metadata": {},
   "outputs": [
    {
     "data": {
      "text/plain": [
       "[array([[ 0,  1],\n",
       "        [ 4,  5],\n",
       "        [ 8,  9],\n",
       "        [12, 13]]),\n",
       " array([[ 2,  3],\n",
       "        [ 6,  7],\n",
       "        [10, 11],\n",
       "        [14, 15]])]"
      ]
     },
     "execution_count": 40,
     "metadata": {},
     "output_type": "execute_result"
    }
   ],
   "source": [
    "# np.hsplit(m, [2]) ile matris m, 2. sütündan yatay olarak böler:\n",
    "np.hsplit(m, [2])"
   ]
  },
  {
   "cell_type": "code",
   "execution_count": 65,
   "metadata": {},
   "outputs": [
    {
     "name": "stdout",
     "output_type": "stream",
     "text": [
      "sag: \n",
      " [[2 7]\n",
      " [6 0]\n",
      " [3 0]]\n",
      " sol:\n",
      " [[1 3 5]\n",
      " [8 3 8]\n",
      " [6 0 2]]\n"
     ]
    }
   ],
   "source": [
    "sag, sol = np.hsplit(m, [2])\n",
    "print(\"sag: \\n {} \\n sol:\\n {}\".format(sag,sol))\n"
   ]
  },
  {
   "cell_type": "markdown",
   "metadata": {},
   "source": [
    "# Array Sıralama (Sorting)"
   ]
  },
  {
   "cell_type": "code",
   "execution_count": 45,
   "metadata": {},
   "outputs": [
    {
     "data": {
      "text/plain": [
       "array([2, 1, 4, 3, 5])"
      ]
     },
     "execution_count": 45,
     "metadata": {},
     "output_type": "execute_result"
    }
   ],
   "source": [
    "import numpy as np\n",
    "v = np.array([2,1,4,3,5])\n",
    "v"
   ]
  },
  {
   "cell_type": "code",
   "execution_count": 46,
   "metadata": {},
   "outputs": [
    {
     "data": {
      "text/plain": [
       "array([1, 2, 3, 4, 5])"
      ]
     },
     "execution_count": 46,
     "metadata": {},
     "output_type": "execute_result"
    }
   ],
   "source": [
    "# v.sort() ile dizi v sıralanır:\n",
    "v.sort()\n",
    "v\n"
   ]
  },
  {
   "cell_type": "code",
   "execution_count": 48,
   "metadata": {},
   "outputs": [
    {
     "data": {
      "text/plain": [
       "array([[21.09644664, 25.9999048 , 31.03785621],\n",
       "       [11.58094349, 18.54776548, 21.95068532],\n",
       "       [13.5127138 , 24.10246072, 28.85881894]])"
      ]
     },
     "execution_count": 48,
     "metadata": {},
     "output_type": "execute_result"
    }
   ],
   "source": [
    "# np.random.normal(loc, scale, size)\n",
    "# loc: Ortalama değer (dağılımın merkezi).\n",
    "# scale: Standart sapma (dağılımın genişliği).\n",
    "# size: Oluşturulacak dizi boyutu.\n",
    "\n",
    "# np.random.normal(20, 5, (3, 3)) ifadesi ile normal dağılıma sahip rastgele sayılardan oluşan 3x3 matris oluşturulur.\n",
    "m = np.random.normal(20, 5, (3, 3))\n",
    "\n",
    "# np.sort(m, axis=1) ile matris m, satır bazında (yatayda) sıralanır:\n",
    "\n",
    "sorted_m = np.sort(m, axis=1)\n",
    "sorted_m"
   ]
  },
  {
   "cell_type": "code",
   "execution_count": 49,
   "metadata": {},
   "outputs": [
    {
     "data": {
      "text/plain": [
       "array([[21.09644664, 11.58094349, 18.54776548],\n",
       "       [21.95068532, 13.5127138 , 24.10246072],\n",
       "       [28.85881894, 25.9999048 , 31.03785621]])"
      ]
     },
     "execution_count": 49,
     "metadata": {},
     "output_type": "execute_result"
    }
   ],
   "source": [
    "# np.sort(m, axis=0) ile matris m, sütun bazında sıralanır:\n",
    "sorted_m = np.sort(m, axis=0)\n",
    "sorted_m"
   ]
  },
  {
   "cell_type": "markdown",
   "metadata": {},
   "source": [
    "# Index ile Elemanlara Erişmek"
   ]
  },
  {
   "cell_type": "code",
   "execution_count": 52,
   "metadata": {},
   "outputs": [
    {
     "data": {
      "text/plain": [
       "array([7, 9, 2, 8, 0, 8, 9, 6, 7, 3])"
      ]
     },
     "execution_count": 52,
     "metadata": {},
     "output_type": "execute_result"
    }
   ],
   "source": [
    "import numpy as np\n",
    "a = np.random.randint(10, size = 10)\n",
    "a"
   ]
  },
  {
   "cell_type": "code",
   "execution_count": 55,
   "metadata": {},
   "outputs": [
    {
     "name": "stdout",
     "output_type": "stream",
     "text": [
      "7 3\n",
      "[  7 100   2   8   0   8   9   6   7   3]\n"
     ]
    }
   ],
   "source": [
    "print(a[0],a[-1])\n",
    "a[1] = 100\n",
    "print(a)"
   ]
  },
  {
   "cell_type": "code",
   "execution_count": 61,
   "metadata": {},
   "outputs": [
    {
     "name": "stdout",
     "output_type": "stream",
     "text": [
      "m[0,0]= 2 m[1,1]= 0 m[1, 4]= 8  \n"
     ]
    }
   ],
   "source": [
    "m = np.random.randint(10, size = (3,5))\n",
    "print(\"m[0,0]= {} m[1,1]= {} m[1, 4]= {}  \".format(m[0,0], m[1,1],m[1, 4]))\n",
    "\n"
   ]
  },
  {
   "cell_type": "code",
   "execution_count": 58,
   "metadata": {},
   "outputs": [
    {
     "data": {
      "text/plain": [
       "array([[ 4,  4,  7,  9,  3],\n",
       "       [ 4,  8,  5,  3, 99],\n",
       "       [ 9,  4,  4,  3,  5]])"
      ]
     },
     "execution_count": 58,
     "metadata": {},
     "output_type": "execute_result"
    }
   ],
   "source": [
    "m[1, 4] = 99\n",
    "m "
   ]
  },
  {
   "cell_type": "markdown",
   "metadata": {},
   "source": [
    "# Slicing ile Elemanlara Erişmek (Array Alt Kümesine Erişmek)"
   ]
  },
  {
   "cell_type": "code",
   "execution_count": 60,
   "metadata": {},
   "outputs": [
    {
     "name": "stdout",
     "output_type": "stream",
     "text": [
      "a= [20 21 22 23 24 25 26 27 28 29] a[0:3]= [20 21 22] a[:3]= [20 21 22] a[3:]= [23 24 25 26 27 28 29] \n"
     ]
    }
   ],
   "source": [
    "import numpy as np\n",
    "a = np.arange(20,30)\n",
    "\n",
    "\n",
    "print(\"a= {} a[0:3]= {} a[:3]= {} a[3:]= {} \".format(a, a[0:3],a[:3],a[3:]))"
   ]
  },
  {
   "cell_type": "code",
   "execution_count": 92,
   "metadata": {},
   "outputs": [
    {
     "name": "stdout",
     "output_type": "stream",
     "text": [
      " m[:,0]= [5 1 2 0 8] \n",
      "\n",
      " m[0:5,1])= [5 2 5 5 6] \n",
      "\n",
      " m[:,4])= [8 0 3 3 3] \n",
      "\n",
      " m: \n",
      " [[5 5 6 4 8]\n",
      " [1 2 4 0 0]\n",
      " [2 5 1 4 3]\n",
      " [0 5 8 5 3]\n",
      " [8 6 7 5 3]] \n",
      "\n",
      " m[0,:]= [5 5 6 4 8] \n",
      "\n",
      " m[0]= [5 5 6 4 8] \n",
      "\n",
      " m[1,:]= [1 2 4 0 0] \n",
      "\n",
      " m[0:2, 0:3]: \n",
      " [[5 5 6]\n",
      " [1 2 4]] \n",
      " m[:,0:2]: \n",
      " [[5 5]\n",
      " [1 2]\n",
      " [2 5]\n",
      " [0 5]\n",
      " [8 6]] \n",
      " m[1:3, 0:2]: \n",
      " [[1 2]\n",
      " [2 5]] \n"
     ]
    }
   ],
   "source": [
    "# np.random.randint(10, size=(5, 5)) ifadesi ile 0 ile 9 arasında rastgele sayılardan oluşan 5x5 boyutunda bir matris oluşturulur.\n",
    "\n",
    "m = np.random.randint(10, size = (5,5))\n",
    "\n",
    "# \"m[:, 0] {} m[0:5, 1] {} m[:, 4] {}.\" ifadesi ile m matrisinin belirli satır ve sütunlarının değerleri birleştirilerek yazdırılır.\n",
    "\n",
    "# m[:, 0]: Matris m'nin tüm satırlarını ve 0. sütununu seçer.\n",
    "# m[0:5, 1]: Matris m'nin 0'dan 4'e kadar olan satırlarını (5. satır hariç) ve 1. sütununu seçer.\n",
    "# m[:, 4]: Matris m'nin tüm satırlarını ve 4. sütununu seçer.\n",
    "\n",
    "print(\" m[:,0]= {} \\n\\n m[0:5,1])= {} \\n\\n m[:,4])= {} \\n\\n m: \\n {} \\n\\n m[0,:]= {} \\n\\n m[0]= {} \\n\\n m[1,:]= {} \\n\\n m[0:2, 0:3]: \\n {} \\n m[:,0:2]: \\n {} \\n m[1:3, 0:2]: \\n {} \".format(m[:,0], m[0:5,1],m[:,4],m,m[0,:],m[0],m[1,:],m[0:2, 0:3],m[:,0:2],m[1:3, 0:2]  ))\n"
   ]
  },
  {
   "cell_type": "markdown",
   "metadata": {},
   "source": [
    "# Alt Küme Üzerinde İşlem Yapmak"
   ]
  },
  {
   "cell_type": "code",
   "execution_count": 93,
   "metadata": {},
   "outputs": [
    {
     "data": {
      "text/plain": [
       "array([[0, 9, 8, 4, 2],\n",
       "       [2, 4, 5, 3, 9],\n",
       "       [5, 6, 1, 0, 1],\n",
       "       [8, 4, 6, 8, 8],\n",
       "       [7, 2, 2, 5, 9]])"
      ]
     },
     "execution_count": 93,
     "metadata": {},
     "output_type": "execute_result"
    }
   ],
   "source": [
    "import numpy as np\n",
    "a = np.random.randint(10, size = (5, 5))\n",
    "a"
   ]
  },
  {
   "cell_type": "code",
   "execution_count": 95,
   "metadata": {},
   "outputs": [
    {
     "name": "stdout",
     "output_type": "stream",
     "text": [
      " alt_a: \n",
      " [[0 9]\n",
      " [2 4]\n",
      " [5 6]] \n"
     ]
    }
   ],
   "source": [
    "alt_a = a[0:3, 0:2]\n",
    "print(\" alt_a: \\n {} \".format(alt_a))\n"
   ]
  },
  {
   "cell_type": "code",
   "execution_count": 97,
   "metadata": {},
   "outputs": [
    {
     "name": "stdout",
     "output_type": "stream",
     "text": [
      " alt_a: \n",
      " [[99999     9]\n",
      " [    2   888]\n",
      " [    5     6]] \n"
     ]
    }
   ],
   "source": [
    "alt_a[0,0] = 99999\n",
    "alt_a[1,1] = 888\n",
    "print(\" alt_a: \\n {} \".format(alt_a))"
   ]
  },
  {
   "cell_type": "code",
   "execution_count": 98,
   "metadata": {},
   "outputs": [
    {
     "name": "stdout",
     "output_type": "stream",
     "text": [
      " a: \n",
      " [[99999     9     8     4     2]\n",
      " [    2   888     5     3     9]\n",
      " [    5     6     1     0     1]\n",
      " [    8     4     6     8     8]\n",
      " [    7     2     2     5     9]] \n"
     ]
    }
   ],
   "source": [
    "print(\" a: \\n {} \".format(a))"
   ]
  },
  {
   "cell_type": "code",
   "execution_count": 100,
   "metadata": {},
   "outputs": [
    {
     "name": "stdout",
     "output_type": "stream",
     "text": [
      " alt_b: \n",
      " [[9999    3]\n",
      " [   9    4]\n",
      " [   5    7]] \n",
      " m: \n",
      " [[2 3 0 3 2]\n",
      " [9 4 6 9 5]\n",
      " [5 7 5 4 3]\n",
      " [7 3 2 1 4]\n",
      " [2 0 1 4 0]] \n"
     ]
    }
   ],
   "source": [
    "m = np.random.randint(10, size = (5, 5))\n",
    "alt_b = m[0:3, 0:2].copy()\n",
    "alt_b[0,0] = 9999\n",
    "\n",
    "print(\" alt_b: \\n {} \\n m: \\n {} \".format(alt_b,m))\n",
    "\n",
    "\n"
   ]
  },
  {
   "cell_type": "markdown",
   "metadata": {},
   "source": [
    "# Fancy Index ile Elemanlara Erişmek"
   ]
  },
  {
   "cell_type": "code",
   "execution_count": 104,
   "metadata": {},
   "outputs": [
    {
     "name": "stdout",
     "output_type": "stream",
     "text": [
      " v: [ 0  3  6  9 12 15 18 21 24 27] \n",
      " v[1]: 3 v[3]: 9 v[5]: 15 [v[1], v[3], v[5]]: [3, 9, 15]  \n"
     ]
    }
   ],
   "source": [
    "import numpy as np\n",
    "v = np.arange(0, 30, 3)\n",
    "print(\" v: {} \\n v[1]: {} v[3]: {} v[5]: {} [v[1], v[3], v[5]]: {}  \".format(v,v[1],v[3],v[5],[v[1], v[3], v[5]]))"
   ]
  },
  {
   "cell_type": "code",
   "execution_count": 105,
   "metadata": {},
   "outputs": [
    {
     "name": "stdout",
     "output_type": "stream",
     "text": [
      "v[al_getir]: [ 3  9 15]\n"
     ]
    }
   ],
   "source": [
    "al_getir = [1,3,5]\n",
    "print(\"v[al_getir]: {}\".format(v[al_getir]))\n"
   ]
  },
  {
   "cell_type": "code",
   "execution_count": 110,
   "metadata": {},
   "outputs": [
    {
     "name": "stdout",
     "output_type": "stream",
     "text": [
      " m:\n",
      " [[0 1 2]\n",
      " [3 4 5]\n",
      " [6 7 8]] \n",
      " m[satir, sutun]: [1 5]\n"
     ]
    }
   ],
   "source": [
    "m = np.arange(9).reshape((3,3))\n",
    "satir = np.array([0,1])\n",
    "sutun = np.array([1,2])\n",
    "print(\" m:\\n {} \\n m[satir, sutun]: {}\".format(m,m[satir, sutun]))"
   ]
  },
  {
   "cell_type": "code",
   "execution_count": 127,
   "metadata": {},
   "outputs": [
    {
     "name": "stdout",
     "output_type": "stream",
     "text": [
      " m[0, [1,2]]:  [1 2] \n",
      " m[0:, [1,2]]: \n",
      " [[1 2]\n",
      " [4 5]\n",
      " [7 8]] \n"
     ]
    }
   ],
   "source": [
    "#basit index ile fancy index\n",
    "    \n",
    "m = np.arange(9).reshape((3,3))\n",
    "print(\" m[0, [1,2]]:  {} \\n m[0:, [1,2]]: \\n {} \".format(m[0 , [1,2]],m[0:, [1,2]] ))\n",
    "\n"
   ]
  },
  {
   "cell_type": "markdown",
   "metadata": {},
   "source": [
    "# Koşullu Eleman İşlemleri"
   ]
  },
  {
   "cell_type": "code",
   "execution_count": 9,
   "metadata": {},
   "outputs": [],
   "source": [
    "import numpy as np\n",
    "v = np.array([1, 2, 3, 4, 5])"
   ]
  },
  {
   "cell_type": "code",
   "execution_count": 10,
   "metadata": {},
   "outputs": [
    {
     "name": "stdout",
     "output_type": "stream",
     "text": [
      " v < 3: [ True  True False False False] \n",
      " v[v < 3]: [1 2] \n",
      " v[v > 3]: [4 5] \n",
      " v[v >= 3]: [3 4 5] \n",
      " v[v <= 3]: [1 2 3] \n",
      " v[v == 3]: [3]  \n",
      " v[v != 3]: [1 2 4 5] \n"
     ]
    }
   ],
   "source": [
    "print(\" v < 3: {} \\n v[v < 3]: {} \\n v[v > 3]: {} \\n v[v >= 3]: {} \\n v[v <= 3]: {} \\n v[v == 3]: {}  \\n v[v != 3]: {} \".format(v < 3,v[v < 3],v[v > 3],v[v >= 3],v[v <= 3],v[v == 3],v[v != 3] ))"
   ]
  },
  {
   "cell_type": "code",
   "execution_count": 11,
   "metadata": {},
   "outputs": [
    {
     "name": "stdout",
     "output_type": "stream",
     "text": [
      "v: [1 2 3 4 5] \n",
      " v*2: [ 2  4  6  8 10] \n",
      " v / 5: [0.2 0.4 0.6 0.8 1. ] \n",
      " v*5/10: [0.5 1.  1.5 2.  2.5] \n",
      " v**2: [ 1  4  9 16 25] \n"
     ]
    }
   ],
   "source": [
    "print(\"v: {} \\n v*2: {} \\n v / 5: {} \\n v*5/10: {} \\n v**2: {} \".format(v, v*2, v / 5, v*5/10, v**2 ) )"
   ]
  },
  {
   "cell_type": "markdown",
   "metadata": {},
   "source": [
    "# Matematiksel İşlemler"
   ]
  },
  {
   "cell_type": "code",
   "execution_count": 30,
   "metadata": {},
   "outputs": [],
   "source": [
    "import numpy as np\n",
    "v = np.array([1, 2, 3, 4, 5])"
   ]
  },
  {
   "cell_type": "code",
   "execution_count": 31,
   "metadata": {},
   "outputs": [
    {
     "name": "stdout",
     "output_type": "stream",
     "text": [
      " v - 1: [0 1 2 3 4] \n",
      " v * 5: [ 5 10 15 20 25] \n",
      " v / 5: [0.2 0.4 0.6 0.8 1. ] \n",
      " v*5/10 - 1: [-0.5  0.   0.5  1.   1.5] \n",
      " v-1*2: [-1  0  1  2  3]  \n"
     ]
    }
   ],
   "source": [
    "print(\" v - 1: {} \\n v * 5: {} \\n v / 5: {} \\n v*5/10 - 1: {} \\n v-1*2: {}  \".format(v - 1,v * 5,v / 5,v*5/10 - 1,v-1*2))"
   ]
  },
  {
   "cell_type": "code",
   "execution_count": 41,
   "metadata": {},
   "outputs": [
    {
     "name": "stdout",
     "output_type": "stream",
     "text": [
      " subtract: [0 1 2 3 4]\n",
      " add: [2 3 4 5 6] \n",
      " multiply: [ 4  8 12 16 20] \n",
      " divide: [0.33333333 0.66666667 1.         1.33333333 1.66666667] \n",
      " power: [  1   8  27  64 125] \n",
      " mod: [1 0 1 0 1] \n",
      " absolute: [3]\n"
     ]
    }
   ],
   "source": [
    "# np.subtract(v, 1) ifadesi ile v dizisindeki her bir elemandan 1 çıkarılır:\n",
    "subtract = np.subtract(v, 1)# np.add(v, 1) ifadesi ile v dizisindeki her bir elemana 1 eklenir:\n",
    "add = np.add(v, 1)\n",
    "# np.multiply(v, 4) ifadesi ile v dizisindeki her bir eleman 4 ile çarpılır:\n",
    "multiply = np.multiply(v,4)\n",
    "# np.divide(v, 3) ifadesi ile v dizisindeki her bir eleman 3'e bölünür:\n",
    "divide = np.divide(v, 3)\n",
    "# np.power(v, 3) ifadesi ile v dizisindeki her bir elemanın 3. kuvveti alınır:\n",
    "power = np.power(v, 3)\n",
    "# np.mod(v, 2) ifadesi ile v dizisindeki her bir elemanın 2'ye göre modu (kalanı) alınır:\n",
    "mod = np.mod(v, 2)\n",
    "# np.array([-3]) ifadesi ile [-3] elemanından oluşan bir Numpy dizisi oluşturulur.\n",
    "# -3 sayısı tek elemanlı bir dizi içindedir.\n",
    "# np.absolute(np.array([-3])) ifadesi ile bu dizinin mutlak değeri alınır:\n",
    "absolute = np.absolute(np.array([-3]))\n",
    "\n",
    "print(\" subtract: {}\\n add: {} \\n multiply: {} \\n divide: {} \\n power: {} \\n mod: {} \\n absolute: {}\".format(subtract,add,multiply,divide,power,mod,absolute))\n"
   ]
  },
  {
   "cell_type": "code",
   "execution_count": 42,
   "metadata": {},
   "outputs": [
    {
     "name": "stdout",
     "output_type": "stream",
     "text": [
      " v**2: [ 1  4  9 16 25] \n",
      " v**3: [  1   8  27  64 125] \n",
      " v % 2: [1 0 1 0 1] \n"
     ]
    }
   ],
   "source": [
    "print(\" v**2: {} \\n v**3: {} \\n v % 2: {} \".format(v**2,v**3,v % 2,))"
   ]
  },
  {
   "cell_type": "code",
   "execution_count": 43,
   "metadata": {},
   "outputs": [
    {
     "name": "stdout",
     "output_type": "stream",
     "text": [
      " sin_value: 0.9589157234143065 \n",
      " cos_value: -0.5984600690578581 \n"
     ]
    }
   ],
   "source": [
    "# np.sin(360) ifadesi ile 360 derecelik açının sinüsü hesaplanır:\n",
    "sin_value = np.sin(360)\n",
    "# np.cos(180) ifadesi ile 180 derecelik açının kosinüsü hesaplanır:\n",
    "cos_value = np.cos(180)\n",
    "\n",
    "print(\" sin_value: {} \\n cos_value: {} \".format(sin_value,cos_value))\n",
    "\n"
   ]
  },
  {
   "cell_type": "code",
   "execution_count": 47,
   "metadata": {},
   "outputs": [
    {
     "name": "stdout",
     "output_type": "stream",
     "text": [
      " log:  [0.         0.69314718 1.09861229] \n",
      " log2  [0.        1.        1.5849625] \n",
      " log10:  [0.         0.30103    0.47712125] \n"
     ]
    }
   ],
   "source": [
    "v = np.array([1,2,3])\n",
    "# np.log(v) ifadesi ile v dizisindeki her bir elemanın doğal logaritması alınır:\n",
    "log_value = np.log(v)\n",
    "# np.log2(v) ifadesi ile v dizisindeki her bir elemanın taban 2 logaritması alınır:\n",
    "log2_value = np.log2(v)\n",
    "# np.log10(v) ifadesi ile v dizisindeki her bir elemanın taban 10 logaritması alınır:\n",
    "log10_value = np.log10(v)\n",
    "print(\" log:  {} \\n log2  {} \\n log10:  {} \".format(log_value,log2_value,log10_value))\n",
    "\n"
   ]
  },
  {
   "cell_type": "markdown",
   "metadata": {},
   "source": [
    "# İstatistiksel Hesaplamalar"
   ]
  },
  {
   "cell_type": "code",
   "execution_count": 4,
   "metadata": {},
   "outputs": [
    {
     "name": "stdout",
     "output_type": "stream",
     "text": [
      " mean_v: 3.0 \n",
      " sum_v: 15 \n",
      " min_v: 1 \n",
      " max_v: 5 \n",
      " var_v: 2.0 \n",
      " std_v: 1.4142135623730951 \n",
      " corr_coef_v: 1.0\n"
     ]
    }
   ],
   "source": [
    "import numpy as np\n",
    "v = np.array([1, 2, 3, 4, 5])\n",
    "\n",
    "# \"v\" adında bir NumPy dizisi oluşturuyoruz. Bu dizi [1, 2, 3, 4, 5] değerlerini içeriyor.\n",
    "mean_v = np.mean(v)\n",
    "# \"np.mean()\" fonksiyonu, \"v\" dizisinin ortalamasını hesaplar ve \"mean_v\" değişkenine atar.\n",
    "sum_v = v.sum()\n",
    "# \"sum()\" metodu, \"v\" dizisindeki tüm elemanların toplamını hesaplar ve \"sum_v\" değişkenine atar.\n",
    "min_v = v.min()\n",
    "# \"min()\" metodu, \"v\" dizisindeki en küçük elemanı bulur ve \"min_v\" değişkenine atar.\n",
    "max_v = v.max()\n",
    "# \"max()\" metodu, \"v\" dizisindeki en büyük elemanı bulur ve \"max_v\" değişkenine atar.\n",
    "var_v = np.var(v)\n",
    "# \"np.var()\" fonksiyonu, \"v\" dizisinin varyansını hesaplar ve \"var_v\" değişkenine atar.\n",
    "std_v = np.std(v)\n",
    "# \"np.std()\" fonksiyonu, \"v\" dizisinin standart sapmasını hesaplar ve \"std_v\" değişkenine atar.\n",
    "corr_coef_v = np.corrcoef(v)\n",
    "# \"np.corrcoef()\" fonksiyonu, \"v\" dizisinin korelasyon katsayısı matrisini hesaplar ve \"corr_coef_v\" değişkenine atar.\n",
    "print(\" mean_v: {} \\n sum_v: {} \\n min_v: {} \\n max_v: {} \\n var_v: {} \\n std_v: {} \\n corr_coef_v: {}\".format(mean_v,sum_v,min_v,max_v,var_v,std_v,corr_coef_v))"
   ]
  },
  {
   "cell_type": "code",
   "execution_count": null,
   "metadata": {},
   "outputs": [],
   "source": []
  }
 ],
 "metadata": {
  "kernelspec": {
   "display_name": "Python 3",
   "language": "python",
   "name": "python3"
  },
  "language_info": {
   "codemirror_mode": {
    "name": "ipython",
    "version": 3
   },
   "file_extension": ".py",
   "mimetype": "text/x-python",
   "name": "python",
   "nbconvert_exporter": "python",
   "pygments_lexer": "ipython3",
   "version": "3.11.4"
  },
  "orig_nbformat": 4
 },
 "nbformat": 4,
 "nbformat_minor": 2
}
