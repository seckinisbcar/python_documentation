{
 "cells": [
  {
   "cell_type": "markdown",
   "metadata": {},
   "source": [
    "# try, except (hata yakalama)\n",
    "Python’da hata yakalama işlemleri iki adımdan oluşur. Önce ne tür bir hata ortaya çıkabileceği tespit edilir. Daha sonra bu hata meydana geldiğinde ne yapılacağına karar verilir. "
   ]
  },
  {
   "cell_type": "code",
   "execution_count": 1,
   "metadata": {},
   "outputs": [
    {
     "name": "stdout",
     "output_type": "stream",
     "text": [
      "Girdiğiniz sayı 1\n",
      "Sayı girdiğiniz için teşekkürler. Hoşçakalın!\n"
     ]
    }
   ],
   "source": [
    "#ValueError: Değer Tipi Hatasını Yakalama, IndentationError: Girintileme Hatasını Yakalama\n",
    "\n",
    "try:\n",
    "   sayi = int(input(\"Lutfen bir sayi girin: \"))\n",
    "   print (\"Girdiğiniz sayı\", sayi)\n",
    "   print (\"Sayı girdiğiniz için teşekkürler. Hoşçakalın!\")\n",
    "except (ValueError,IndentationError) :\n",
    "    print (\"Lütfen harf değil, sayı girin!\")"
   ]
  },
  {
   "cell_type": "markdown",
   "metadata": {},
   "source": [
    "## Aşağıdaki örnek için yapılacak işlemler:\n",
    "\n",
    "    -İlk adım olarak ne tür bir hata mesajı alabileceğimizi tespit etmek, buradaki örnekte; ilk belirlenen hatanın türü ZeroDivisionError. \n",
    "    -Hata vereceğini bildiğimiz kodları try... bloğu içine almak. Bu örnekte hatamızın türü ZeroDivisionError olduğunu da bildiğimiz için except bloğunu da buna göre yazdık. \n",
    "    -Hata durumunda kullanıcıya gösterilecek uygun bir uyarı mesajını belirlemek. "
   ]
  },
  {
   "cell_type": "code",
   "execution_count": 3,
   "metadata": {},
   "outputs": [
    {
     "name": "stdout",
     "output_type": "stream",
     "text": [
      "Lütfen sayıyı 0'a bölmeye çalışmayın!\n"
     ]
    }
   ],
   "source": [
    "\"\"\"Kullanıcının bir sayıyı 0’a bölmesi ihtimaline karşı ZeroDivisionError hatası yakalandı. \n",
    "Kullanıcı sayı yerine harf girerse ihtimaline karşı da ValueError hatası yakalandı.\"\"\"\n",
    "\n",
    "#İki Hatada Ayrı Mesajlar Alma Örneği:\n",
    "try:\n",
    "    ilk = int(input(\"Bolme islemi icin ilk sayiyi girin: \"))\n",
    "    ikinci = int(input(\"Simdi de ikinci sayiyi girin: \"))\n",
    "\n",
    "    sonuc = float(ilk) / ikinci\n",
    "    print (sonuc)\n",
    "\n",
    "except ZeroDivisionError:\n",
    "    print (\"Lütfen sayıyı 0'a bölmeye çalışmayın!\")\n",
    "\n",
    "except ValueError:\n",
    "    print (\"Lütfen harf değil, sayı girin!\")"
   ]
  },
  {
   "cell_type": "code",
   "execution_count": 5,
   "metadata": {},
   "outputs": [
    {
     "name": "stdout",
     "output_type": "stream",
     "text": [
      "Girdiginiz veri hatali!\n"
     ]
    }
   ],
   "source": [
    "#İki Ayrı Hatayı Yakalayıp Aynı Hata Mesajını Gösterme:\n",
    "try:\n",
    "    ilk = int(input(\"Bolme islemi icin ilk sayiyi girin: \"))\n",
    "    ikinci = int(input(\"Simdi de ikinci sayiyi girin: \"))\n",
    "\n",
    "    sonuc = float(ilk) / ikinci #\"float()\": Sonucumuzu sonsuz kayan sayı şeklinde bir ondalık sayı olarak görmemizi sağlıyor\n",
    "    print (sonuc)\n",
    "\n",
    "except (ZeroDivisionError, ValueError):\n",
    "    print (\"Girdiginiz veri hatali!\")"
   ]
  },
  {
   "cell_type": "code",
   "execution_count": 7,
   "metadata": {},
   "outputs": [
    {
     "name": "stdout",
     "output_type": "stream",
     "text": [
      "Harf yerine sayi girmeyi deneyin!\n"
     ]
    }
   ],
   "source": [
    "def deger_hatasi():\n",
    "    return \"Harf yerine sayi girmeyi deneyin!\"\n",
    "\n",
    "def sifir_uyarisi():\n",
    "    return \"0 disinda bir sayi girin!\"\n",
    "\n",
    "sayi = input(\"Bir sayi girin: \")\n",
    "\n",
    "if sayi == \"0\":\n",
    "    print (sifir_uyarisi())\n",
    "    quit()\n",
    "\n",
    "try:\n",
    "    n = int(sayi)\n",
    "    print (\"Girdiginiz sayinin karesi: \", n ** 2)\n",
    "except ValueError:\n",
    "    print (deger_hatasi())"
   ]
  },
  {
   "cell_type": "code",
   "execution_count": null,
   "metadata": {},
   "outputs": [],
   "source": []
  }
 ],
 "metadata": {
  "kernelspec": {
   "display_name": "Python 3",
   "language": "python",
   "name": "python3"
  },
  "language_info": {
   "codemirror_mode": {
    "name": "ipython",
    "version": 3
   },
   "file_extension": ".py",
   "mimetype": "text/x-python",
   "name": "python",
   "nbconvert_exporter": "python",
   "pygments_lexer": "ipython3",
   "version": "3.11.4"
  },
  "orig_nbformat": 4
 },
 "nbformat": 4,
 "nbformat_minor": 2
}
