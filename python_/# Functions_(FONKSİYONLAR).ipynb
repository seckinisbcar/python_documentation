{
 "cells": [
  {
   "cell_type": "markdown",
   "metadata": {},
   "source": [
    "# Functions (FONKSİYONLAR)"
   ]
  },
  {
   "cell_type": "code",
   "execution_count": 1,
   "metadata": {},
   "outputs": [],
   "source": [
    "#FONKSİYONLAR:\n",
    "#PARAMETRESİZ FONKSİYON TANIMLAMA:\n",
    "def fonksiyon_adi():\n",
    "\tprint( \"Hello Function!\")"
   ]
  },
  {
   "cell_type": "code",
   "execution_count": 2,
   "metadata": {},
   "outputs": [
    {
     "name": "stdout",
     "output_type": "stream",
     "text": [
      "Hello Function!\n"
     ]
    }
   ],
   "source": [
    "#Fonksiyon Çağırma:\n",
    "fonksiyon_adi()"
   ]
  },
  {
   "cell_type": "code",
   "execution_count": 3,
   "metadata": {},
   "outputs": [
    {
     "name": "stdout",
     "output_type": "stream",
     "text": [
      "Selam, benim adim seçkin :)\n"
     ]
    }
   ],
   "source": [
    "#PARAMETRELİ FONKSİYON TANIMLAMA:\n",
    "\n",
    "def selamla(isim):\n",
    "    print (\"Selam, benim adim %s :)\" %isim)\n",
    "selamla(\"seçkin\")"
   ]
  },
  {
   "cell_type": "code",
   "execution_count": 4,
   "metadata": {},
   "outputs": [
    {
     "name": "stdout",
     "output_type": "stream",
     "text": [
      "295\n"
     ]
    }
   ],
   "source": [
    "#Özel Tanımlı Fonksiyonlar\n",
    "#Sum Fonksiyonu:\n",
    "\n",
    "numbers = [150,90,55]\n",
    "print (sum(numbers))"
   ]
  },
  {
   "cell_type": "code",
   "execution_count": 5,
   "metadata": {},
   "outputs": [
    {
     "name": "stdout",
     "output_type": "stream",
     "text": [
      "2040\n"
     ]
    }
   ],
   "source": [
    "#Bir listedeki Sayıları Çarpan fonksiyon Tanımlama:\n",
    "def multiply(liste):\n",
    "    num = 1\n",
    "    for item in liste:\n",
    "\t    num = num * item\n",
    "    print(num)\n",
    "\n",
    "number_list = [8, 15, 17]\n",
    "multiply(number_list)"
   ]
  },
  {
   "cell_type": "code",
   "execution_count": 6,
   "metadata": {},
   "outputs": [
    {
     "name": "stdout",
     "output_type": "stream",
     "text": [
      "    Sayin Fatih Soylemez,\n",
      "\n",
      "    05.12.2022 tarihinde ilgili kullanicilar icin acmis oldugum sunucular'a ait sure bitmistir. Surelerinin 1 ay daha uzatilmasini rica ederiz.\n",
      "\n",
      "    Saygilarimizla,\n",
      "    Mert DUR\n"
     ]
    }
   ],
   "source": [
    "#Öntanımlı Parametreli Dilekçe Gönderen Fonksiyon Tanımlama:\n",
    "def dilekce_gonder_param(kime, tarih, kimden):\n",
    "    print (\"\"\"\\\n",
    "    Sayin %s,\n",
    "\n",
    "    %s tarihinde ilgili kullanicilar icin acmis oldugum sunucular'a ait sure bitmistir. Surelerinin 1 ay daha uzatilmasini rica ederiz.\n",
    "\n",
    "    Saygilarimizla,\n",
    "    %s\"\"\" %(kime, tarih, kimden))\n",
    "\n",
    "dilekce_gonder_param(\"Fatih Soylemez\", \"05.12.2022\", \"Mert DUR\")"
   ]
  },
  {
   "cell_type": "code",
   "execution_count": 7,
   "metadata": {},
   "outputs": [
    {
     "name": "stdout",
     "output_type": "stream",
     "text": [
      "Bağlantı bilgileri kayıtlara eklendi!\n",
      "\n",
      "Ümit Öner\n",
      "---------\n",
      "Ankara\n",
      "Yazılımcı\n",
      "0595 999 6561\n",
      "ODTÜ Teknokent\n",
      "\n"
     ]
    }
   ],
   "source": [
    "#Ön Tanımlı Verilerle kayıt Ekleyen Fonksiyon Tanımlama:\n",
    "\n",
    "def kayit_ekleme(isim, soyisim, sehir, meslek, tel, adres):\n",
    "    kayit = {}\n",
    "#\"kayit\" sözlüğünün yapısı: isim, soyisim anahtarına göre sehir, meslek, tel ve adres değerleri yerleştirilecek:\n",
    "    kayit[\"%s %s\" %(isim, soyisim)] = [sehir, meslek, tel, adres]\n",
    "    print (\"Bağlantı bilgileri kayıtlara eklendi!\\n\")\n",
    "    for key, value in kayit.items():\n",
    "        print (key)\n",
    "        print (\"-\" * len(key)) #Başlık altını süsleme\n",
    "        for item in value:\n",
    "            print(item)\n",
    "kayit_ekleme(u\"Ümit\", \"Öner\", \"Ankara\", u\"Yazılımcı\", \"0595 999 6561\", u\"ODTÜ Teknokent\\n\")\n"
   ]
  },
  {
   "cell_type": "code",
   "execution_count": 8,
   "metadata": {},
   "outputs": [
    {
     "name": "stdout",
     "output_type": "stream",
     "text": [
      "Bağlantı bilgileri kayıtlara eklendi!\n",
      "\n",
      "seckın karan\n",
      "------------\n",
      "bursa \n",
      "ögrenci\n",
      "055555555555\n",
      "istanbul\n"
     ]
    }
   ],
   "source": [
    "def kaydetme(isim, soyisim, sehir, meslek, tel, adres):\n",
    "    kayit = {}\n",
    "\n",
    "#\"kayit\" sözlüğünün yapısı: isim, soyisim anahtarına göre sehir, meslek, tel ve adres değerleri yerleştirilecek:\n",
    "    kayit[\"%s %s\" %(isim, soyisim)] = [sehir, meslek, tel, adres]\n",
    "\n",
    "\n",
    "    print (\"Bağlantı bilgileri kayıtlara eklendi!\\n\")\n",
    "\n",
    "    for key, value in kayit.items():\n",
    "        print (key)\n",
    "        print (\"-\" * len(key)) #Başlık altını süsleme\n",
    "            \n",
    "        for item in value:\n",
    "            print (item)\n",
    "\n",
    "ad = input(\"Ad: \")\n",
    "soyad = input(\"Soyad: \")\n",
    "seh = input(\"Sehir: \")\n",
    "mes = input(\"Meslek: \")\n",
    "tel = input(\"Telefon: \")\n",
    "adr = input(\"Adres: \")\n",
    "\n",
    "kaydetme(ad, soyad, seh, mes, tel, adr)\n"
   ]
  },
  {
   "cell_type": "code",
   "execution_count": 10,
   "metadata": {},
   "outputs": [
    {
     "name": "stdout",
     "output_type": "stream",
     "text": [
      "Kişinin kayıtlarına ulaşıldı!\n",
      "\n",
      "seckin stajer\n",
      "-------------\n",
      "yazılımcı\n",
      "25000\n",
      "20\n",
      "seckin, stajer pozisyonundan yazılımcı pozisyonuna terfi etmistir!\n",
      "\n",
      "Bu kisinin 25000 TL olan maasi 30000.0 TL'ye yukseltilmistir!\n"
     ]
    }
   ],
   "source": [
    "#Fonksiyonlarda Parametrelerin Sırasının Önemi\n",
    "#Kullanıcıdan tanımlamalı terfi ettirme programı örneği:\n",
    "\n",
    "def terfi_ettir(kisi, e_poz, y_poz, e_maas, z_orani):\n",
    "\n",
    "    personel = {}\n",
    "    personel[\"%s %s\" %(kisi, e_poz)] = [y_poz, e_maas, z_orani]\n",
    "\n",
    "\n",
    "    print (\"Kişinin kayıtlarına ulaşıldı!\\n\")\n",
    "\n",
    "    for key, value in personel.items():\n",
    "        print (key)\n",
    "        print (\"-\" * len(key)) #Başlık altını süsleme\n",
    "        for item in value:\n",
    "\t        print (item)\n",
    "            \n",
    "    \n",
    "    print (\"%s, %s pozisyonundan %s pozisyonuna terfi etmistir!\" %(kisi, e_poz, y_poz))\n",
    "\n",
    "    print (\"\\nBu kisinin %s TL olan maasi %s TL'ye yukseltilmistir!\" %(e_maas, int(e_maas) + (int(e_maas) * int(z_orani) / 100)))\n",
    "\n",
    "isim = input(\"\\nAd: \")\n",
    "eski = input(\"Eski Pozisyonu: \")\n",
    "yeni = input(\"Yeni Pozisyonu: \")\n",
    "eskima = input(\"Eski Maas: \")\n",
    "oran = input(\"Zam Orani (%): \")\n",
    "\n",
    "terfi_ettir(isim, eski, yeni, eskima, oran)"
   ]
  },
  {
   "cell_type": "code",
   "execution_count": 12,
   "metadata": {},
   "outputs": [
    {
     "name": "stdout",
     "output_type": "stream",
     "text": [
      "144\n"
     ]
    }
   ],
   "source": [
    "#VARSAYILAN DEĞERLİ PARAMETRELİ FONKSİYON TANIMLAMA\n",
    "#Kendisine verilen sayının kuvvetini hesaplayan fonksiyon:\n",
    "def power(sayi, kvt = 2):\n",
    "    print (sayi ** kvt)\n",
    "\n",
    "#Power Fonksiyonunun Varsayılan Değeri 2 olduğundan 2. Kuvveti Hesaplar:\n",
    "power(12)"
   ]
  },
  {
   "cell_type": "code",
   "execution_count": 13,
   "metadata": {},
   "outputs": [
    {
     "name": "stdout",
     "output_type": "stream",
     "text": [
      "1728\n"
     ]
    }
   ],
   "source": [
    "#Power Fonksiyonumuz ile Belirlediğimiz Bir Değer ile Hesaplatma:\n",
    "power(12, 3)"
   ]
  },
  {
   "cell_type": "code",
   "execution_count": 14,
   "metadata": {},
   "outputs": [
    {
     "name": "stdout",
     "output_type": "stream",
     "text": [
      "5.0\n",
      "5.555555555555555\n",
      "5\n"
     ]
    }
   ],
   "source": [
    "#NOT: Varsayılan Değerli Fonksiyon Tanımlarken Hep Varsayılan Değer En Sonuncu Parametre Olarak Tanımlanır.\n",
    "\n",
    "#Sonucunda Ondalıklı Hassas ya da Taban Değerini Veren Bölme Fonksiyonu:\n",
    "\n",
    "def div(bolen, bolunen, hassas = True):\n",
    "    sonuc = bolen / float(bolunen)\n",
    "    if hassas:\n",
    "        print (float(sonuc))\n",
    "    if not hassas:\n",
    "\t    print (int (sonuc))\n",
    "\n",
    "div(20, 4)\n",
    "div(50, 9)\n",
    "div(50, 9, False)\n",
    "\n"
   ]
  },
  {
   "cell_type": "code",
   "execution_count": 15,
   "metadata": {},
   "outputs": [
    {
     "name": "stdout",
     "output_type": "stream",
     "text": [
      "0.1\n"
     ]
    }
   ],
   "source": [
    "#Eğer varsayılan değerli parametreyi en sona değil de en başa veya ortaya alırsak fonksiyonumuzda \"SyntaxError\" alırız:\n",
    "def fonk( bolen, bolunen,hassas = True):\n",
    "\n",
    "    sonuc = bolen / float(bolunen)\n",
    "    if hassas:\n",
    "        print (float(sonuc))\n",
    "\n",
    "    if not hassas:\n",
    "        print (int (sonuc))\n",
    "\n",
    "fonk(True, 10, 3)"
   ]
  },
  {
   "cell_type": "code",
   "execution_count": 16,
   "metadata": {},
   "outputs": [
    {
     "name": "stdout",
     "output_type": "stream",
     "text": [
      "('Ali', 'Veli', 'Ahmet', 'Mehmet')\n"
     ]
    }
   ],
   "source": [
    "#POINTER PARAMETRE YAPISI \"*\" - İSTENEN SAYIDA SIRALI PARAMETRE KULLANIMI\n",
    "#Sınırsız sayıda (istenilen kadar) parametre girilebilen fonksiyon tanımlama:\n",
    "\n",
    "#\"Pointer Parametre\" - \"*parametre\" yapısını tanıma:\n",
    "def f(*param):\n",
    "\tprint (param)\n",
    "\n",
    "#Bu fonksiyonu çağırdığımızda alacağımız çıktı bir tuple veri yapısı:\n",
    "f(\"Ali\", \"Veli\", \"Ahmet\", \"Mehmet\")"
   ]
  },
  {
   "cell_type": "code",
   "execution_count": 17,
   "metadata": {},
   "outputs": [
    {
     "name": "stdout",
     "output_type": "stream",
     "text": [
      "0 --->> Ali\n",
      "1 --->> Veli\n",
      "2 --->> Ahmet\n",
      "3 --->> Mehmet\n"
     ]
    }
   ],
   "source": [
    "def f(*param):\n",
    "\tfor no, isim in enumerate(param):\n",
    "\t\tprint (\"%s --->> %s\" %(no, isim))\n",
    "\n",
    "f(\"Ali\", \"Veli\", \"Ahmet\", \"Mehmet\")"
   ]
  },
  {
   "cell_type": "code",
   "execution_count": 18,
   "metadata": {},
   "outputs": [
    {
     "name": "stdout",
     "output_type": "stream",
     "text": [
      "Ahmet Mehmet Ali\n"
     ]
    }
   ],
   "source": [
    "#Python’daki bu “*” pointer işareti özel görevi olan bir araçtır. \n",
    "#Bu işaret, bir dizi içindeki (bu demet olabilir, liste olabilir, vb.) bütün öğeleri tek tek fonksiyona uygular. \n",
    "#Bu dediğimiz şeyi daha iyi anlayabilmek için basitten karmaşığa doğru örnekler verelim:\n",
    "def func(arg1, arg2, arg3):\n",
    "    print (arg1, arg2, arg3)\n",
    "\n",
    "func(\"Ahmet\", \"Mehmet\", \"Ali\")"
   ]
  },
  {
   "cell_type": "code",
   "execution_count": 19,
   "metadata": {},
   "outputs": [
    {
     "name": "stdout",
     "output_type": "stream",
     "text": [
      "Ahmet Mehmet Ali\n"
     ]
    }
   ],
   "source": [
    "#Yukarıdaki fonksiyonu \"*\" işareti ile alttaki gibi listeden de çağırabiliriz:\n",
    "ls = [\"Ahmet\", \"Mehmet\", \"Ali\"]\n",
    "\n",
    "func(*ls)"
   ]
  },
  {
   "cell_type": "code",
   "execution_count": 20,
   "metadata": {},
   "outputs": [
    {
     "ename": "TypeError",
     "evalue": "func() missing 2 required positional arguments: 'arg2' and 'arg3'",
     "output_type": "error",
     "traceback": [
      "\u001b[1;31m---------------------------------------------------------------------------\u001b[0m",
      "\u001b[1;31mTypeError\u001b[0m                                 Traceback (most recent call last)",
      "Cell \u001b[1;32mIn[20], line 4\u001b[0m\n\u001b[0;32m      1\u001b[0m \u001b[39m#Ama \"*\" işareti olmadan alttaki gibi çağırırsak hata alırız:\u001b[39;00m\n\u001b[0;32m      2\u001b[0m ls \u001b[39m=\u001b[39m [\u001b[39m\"\u001b[39m\u001b[39mAhmet\u001b[39m\u001b[39m\"\u001b[39m, \u001b[39m\"\u001b[39m\u001b[39mMehmet\u001b[39m\u001b[39m\"\u001b[39m, \u001b[39m\"\u001b[39m\u001b[39mAli\u001b[39m\u001b[39m\"\u001b[39m]\n\u001b[1;32m----> 4\u001b[0m func(ls)\n",
      "\u001b[1;31mTypeError\u001b[0m: func() missing 2 required positional arguments: 'arg2' and 'arg3'"
     ]
    }
   ],
   "source": [
    "#Ama \"*\" işareti olmadan alttaki gibi çağırırsak hata alırız:\n",
    "ls = [\"Ahmet\", \"Mehmet\", \"Ali\"]\n",
    "\n",
    "func(ls)"
   ]
  },
  {
   "cell_type": "code",
   "execution_count": 21,
   "metadata": {},
   "outputs": [
    {
     "name": "stdout",
     "output_type": "stream",
     "text": [
      "Personel Bilgi Sistemine Hoş Geldiniz!\n",
      " *************************************** \n",
      " 14724098740\\Hüseyin Deniz\n",
      "Bilgi İşlem Daire Başkanlığı\n",
      "4C - Kıdemli Bilgisayar İşletmeni\n",
      "0599 675 6569\n"
     ]
    }
   ],
   "source": [
    "#Personel Bilgisi Ekranı:\n",
    "def personel(*veriler):\n",
    "    veri = \"\"\n",
    "    for i in veriler:\n",
    "        veri += i\n",
    "\n",
    "    title = u\"Personel Bilgi Sistemine Hoş Geldiniz!\\n\"\n",
    "    print (title, \"*\" * len(title), \"\\n\", veri)\n",
    "\n",
    "personel(\"14724098740\", u\"\\Hüseyin Deniz\", u\"\\nBilgi İşlem Daire Başkanlığı\", u\"\\n4C - Kıdemli Bilgisayar İşletmeni\", \"\\n0599 675 6569\")\n"
   ]
  },
  {
   "cell_type": "code",
   "execution_count": 22,
   "metadata": {},
   "outputs": [
    {
     "name": "stdout",
     "output_type": "stream",
     "text": [
      "\n",
      "Şirketimizin Departmanlarını Tanıyalım:\n",
      " ***************************************** \n",
      "\n",
      "1 : Yazılım Koordinatörlüğü\n",
      "2 : Bilgi İşlem\n",
      "3 : İnsan Kaynakları\n",
      "4 : Satış ve Pazarlama\n",
      "5 : AR-GE\n",
      "6 : Muhasebe\n"
     ]
    }
   ],
   "source": [
    "#Enumerate Fonksiyonu Tuple'dan Verileiri Alan - Firma Yapısı Ekranı \n",
    "def tuples(*departmanlar):\n",
    "\n",
    "    title = u\"\\nŞirketimizin Departmanlarını Tanıyalım:\\n\"\n",
    "    print (title, \"*\" * len(title), \"\\n\")\n",
    "    for no, dept in enumerate(departmanlar):\n",
    "    \tprint (\"%s : %s\" %(no+1, dept))\n",
    "\n",
    "tuples(u\"Yazılım Koordinatörlüğü\", u\"Bilgi İşlem\", u\"İnsan Kaynakları\", u\"Satış ve Pazarlama\", \"AR-GE\", \"Muhasebe\")\n"
   ]
  },
  {
   "cell_type": "code",
   "execution_count": 23,
   "metadata": {},
   "outputs": [
    {
     "name": "stdout",
     "output_type": "stream",
     "text": [
      "375000\n"
     ]
    }
   ],
   "source": [
    "#Birden çok parametre girişli matematiksel işlem:\n",
    "def multiply(*liste):\n",
    "    x = 1\n",
    "    for i in liste:\n",
    "\t    x *= i\n",
    "    print(x)\n",
    "\n",
    "multiply(5, 10, 15, 20, 25)"
   ]
  },
  {
   "cell_type": "code",
   "execution_count": 24,
   "metadata": {},
   "outputs": [
    {
     "name": "stdout",
     "output_type": "stream",
     "text": [
      "\n",
      "Mühendislik Fakültemizin Bölümlerini Tanıyalım:\n",
      " *************************************************\n",
      "\n",
      "Bilgisayar Müh. \n",
      "Elektrik-Elektronik Müh. \n",
      "Makina Müh. \n",
      "İnşaat Müh. \n",
      "Genetik Müh.\n"
     ]
    }
   ],
   "source": [
    "#\"*\" operatörünün fonksiyondan parametre gönderilirken kullanımı:\n",
    "def bolum(b1, b2, b3, b4, b5):\n",
    "    print (b1, b2, b3, b4, b5)\n",
    "\n",
    "title = u\"\\nMühendislik Fakültemizin Bölümlerini Tanıyalım:\\n\"\n",
    "print (title, \"*\" * len(title))\n",
    "bolumler = [u\"\\nBilgisayar Müh.\", u\"\\nElektrik-Elektronik Müh.\", u\"\\nMakina Müh.\", u\"\\nİnşaat Müh.\", u\"\\nGenetik Müh.\"]\n",
    "bolum(*bolumler)"
   ]
  },
  {
   "cell_type": "code",
   "execution_count": 25,
   "metadata": {},
   "outputs": [
    {
     "name": "stdout",
     "output_type": "stream",
     "text": [
      "\n",
      "Mühendislik Fakültemizin Bölümlerini Tanıyalım:\n",
      " *************************************************\n",
      "\n",
      "Bilgisayar Müh. \n",
      "Elektrik-Elektronik Müh. \n",
      "Makina Müh. \n",
      "İnşaat Müh. \n",
      "Genetik Müh.\n"
     ]
    }
   ],
   "source": [
    "#Ama eğer listemizdeki eleman sayısı ile fonksiyondaki parametre sayısı eşit olmazsa alttaki hatayı alabiliriz:\n",
    "#Yanlış kullanım:\n",
    "def bolum(b1, b2, b3, b4, b5):\n",
    "    print (b1, b2, b3, b4, b5)\n",
    "\n",
    "title = u\"\\nMühendislik Fakültemizin Bölümlerini Tanıyalım:\\n\"\n",
    "print (title, \"*\" * len(title))\n",
    "bolumler = [\"\\nBilgisayar Müh.\", \"\\nElektrik-Elektronik Müh.\", \"\\nMakina Müh.\", \"\\nİnşaat Müh.\", \"\\nGenetik Müh.\"]\n",
    "bolum(*bolumler)"
   ]
  },
  {
   "cell_type": "code",
   "execution_count": 28,
   "metadata": {},
   "outputs": [
    {
     "name": "stdout",
     "output_type": "stream",
     "text": [
      "\n",
      "Öğrenci Notlarını Giriniz:\n",
      " ---------------------------- \n",
      "\n",
      "36.6\n"
     ]
    }
   ],
   "source": [
    "#Alttaki fonksiyon ile listenin elemanlarını tek tek \"*\" operatörü ile fonksiyona gönderme ve aynı şekilde fonksiyonda \"*\" operatörü ile tuple olarak alma:\n",
    "\n",
    "def ortalama(*notlar):\n",
    "    \n",
    "    toplam=0\n",
    "    \n",
    "    for ders in notlar:\n",
    "        toplam += int(ders)\n",
    "    print (toplam / len(notlar))\n",
    "\n",
    "notlar = []\n",
    "sayi=0\n",
    "\n",
    "title = u\"\\nÖğrenci Notlarını Giriniz:\\n\"\n",
    "print (title, \"-\" * len(title), \"\\n\")\n",
    "\n",
    "while 5>sayi:\n",
    "    notlar.append(input(\"Not:\"))\n",
    "    sayi+=1\n",
    " \n",
    "ortalama(*notlar)"
   ]
  },
  {
   "cell_type": "code",
   "execution_count": 27,
   "metadata": {},
   "outputs": [
    {
     "name": "stdout",
     "output_type": "stream",
     "text": [
      "\n",
      "Bağlantı bilgileri kayıtlara eklendi!\n",
      "\n",
      "seckın karan\n",
      "************\n",
      "bursa\n",
      "yazılımcı\n",
      "055555555555\n",
      "bursa\n"
     ]
    }
   ],
   "source": [
    "#Daha önceden uzunca yazılan bir fonksiyonun \"*\" Pointer Yapısı ile daha kısa hale getirilmesi:\n",
    "def kayit_ekle(isim, soyisim, sehir, meslek, tel, adres):\n",
    "    kayit = {}\n",
    "\n",
    "    kayit[\"%s %s\" %(isim, soyisim)] = [sehir, meslek,\n",
    "                                       tel, adres]\n",
    "\n",
    "    print (\"\\nBağlantı bilgileri kayıtlara eklendi!\\n\")\n",
    "\n",
    "    for k, v in kayit.items():\n",
    "        print (k)\n",
    "        print (\"*\"*len(k))\n",
    "        for i in v:\n",
    "            print (i)\n",
    "#Boş listeye kullanıcıdan raw_input() ile alınan verileri kaydediyor:\n",
    "ls = []\n",
    "#Başka bir listede de kullanıcıya alınacak verilerin soruları tutuluyor:\n",
    "sorular = [\"Ad: \", \"Soyad: \", \"Sehir: \",\n",
    "           \"Meslek: \", \"Tel: \", \"Adres: \"]\n",
    "#Bu döngü ile de soruların cevaplarını tek tek \"ls\" listeye ekliyor:\n",
    "for i in sorular:\n",
    "    ls.append(input(i))\n",
    "#ls listesindeki bütün öğeleri tek tek kayıt_ekle() adlı fonksiyona uyguluyor:\n",
    "kayit_ekle(*ls)"
   ]
  },
  {
   "cell_type": "code",
   "execution_count": 29,
   "metadata": {},
   "outputs": [
    {
     "name": "stdout",
     "output_type": "stream",
     "text": [
      "isim\t:\tömer\n",
      "soyisim\t:\tSezgin\n",
      "telefon\t:\t03123123112\n",
      "eposta\t:\tömer.sez@ly.com.tr\n",
      "adres\t:\tANKARA\n",
      "cep\t:\t05355355335\n"
     ]
    }
   ],
   "source": [
    "#POINTER-to-POINTER YAPISI \"**\" - İSTENEN SAYIDA İSİMLİ PARAMETRE KULLANIMI\n",
    "#Sınırsız sayıda (istenilen kadar) isimli parametre verilebilen fonksiyon tanımlama:\n",
    "\n",
    "\"\"\"Sıralı parametrelerde \"*\" operatörünü kullanılıyorken, isimli parametrelerde ise \"**\" \"pointer-to-pointer\" operatörünü kullanılarak veriler fonksiyona alınıyor.\"\"\"\n",
    "\n",
    "def kayit_defteri(isim, soyisim, telefon, **params):\n",
    "    tel_defter = {}\n",
    "\n",
    "    tel_defter[\"isim\"] = isim\n",
    "    tel_defter[\"soyisim\"] = soyisim\n",
    "    tel_defter[\"telefon\"] = telefon\n",
    "\n",
    "    for i in params.keys():\n",
    "        tel_defter[i] = params[i]\n",
    "\n",
    "    for k, v in tel_defter.items():\n",
    "        print (\"%s\\t:\\t%s\" %(k, v))\n",
    "\n",
    "kayit_defteri(isim = \"ömer\",\n",
    "              soyisim = \"Sezgin\",\n",
    "              telefon = \"03123123112\",\n",
    "              eposta = \"ömer.sez@ly.com.tr\",\n",
    "              adres = \"ANKARA\",\n",
    "              cep = \"05355355335\")"
   ]
  },
  {
   "cell_type": "code",
   "execution_count": 31,
   "metadata": {},
   "outputs": [
    {
     "name": "stdout",
     "output_type": "stream",
     "text": [
      "İsim:\n",
      "\t ömer\n",
      "Soyisim:\n",
      "\t karan\n",
      "Telefon:\n",
      "\t 03123123112\n",
      "Öteki Parametreler:\n",
      "\t {'eposta': 'ömer.sez@ly.com.tr', 'adres': 'ANKARA', 'cep': '05355355335'}\n"
     ]
    }
   ],
   "source": [
    "#NOT: Burada yaptığımız eklemeler sayesinde kayit_defteri() adlı fonksiyona isim, soyisim ve telefon parametrelerini yerleştirdikten sonra istediğimiz sayıda başka isimli parametreler de belirtebiliyoruz. \n",
    "#Burada **params parametresinin bir dictionary olduğuna özellikle dikkat edin. \n",
    "#Bu parametre bir dict olduğu için, dictionary veri yapılarının bütün özelliklerine de doğal olarak sahiptir.\n",
    "#Yukarıdaki kodları şu şekilde yazarak, arka planda neler olup bittiğini daha açık bir şekilde görebiliriz:\n",
    "def kayit_defteri(isim, soyisim, telefon, **params):\n",
    "    print (\"İsim:\\n\\t\", isim)\n",
    "    print (\"Soyisim:\\n\\t\", soyisim)\n",
    "    print (\"Telefon:\\n\\t\", telefon)\n",
    "    print (\"Öteki Parametreler:\\n\\t\", params)\n",
    "\n",
    "\n",
    "kayit_defteri(isim = \"ömer\",\n",
    "              soyisim = \"karan\",\n",
    "              telefon = \"03123123112\",\n",
    "              eposta = \"ömer.sez@ly.com.tr\",\n",
    "              adres = \"ANKARA\",\n",
    "              cep = \"05355355335\")"
   ]
  },
  {
   "cell_type": "code",
   "execution_count": 32,
   "metadata": {},
   "outputs": [
    {
     "name": "stdout",
     "output_type": "stream",
     "text": [
      "isim\t:\tömer\n",
      "soyisim\t:\tSezgin\n",
      "telefon\t:\t03123123112\n",
      "eposta\t:\tömer.sez@ly.com.tr\n",
      "adres\t:\tANKARA\n",
      "cep\t:\t05355355335\n"
     ]
    }
   ],
   "source": [
    "#Gördüğünüz gibi, çift yıldızlı parametreler fonksiyonlara istediğimiz sayıda isimli parametre \n",
    "   # ekleme imkanı tanıyor bize ve de ayrıca bu parametreler bir sözlük olduğu için yukarıdaki örneği şu şekilde de yazabilirsiniz:\n",
    "def kayit_defteri(isim, soyisim, telefon, **arglar):\n",
    "    tel_defteri = {}\n",
    "\n",
    "    tel_defteri[\"isim\"] = isim\n",
    "    tel_defteri[\"soyisim\"] = soyisim\n",
    "    tel_defteri[\"telefon\"] = telefon\n",
    "\n",
    "    for i in arglar.keys():\n",
    "        tel_defteri[i] = arglar[i]\n",
    "\n",
    "    for k, v in tel_defteri.items():\n",
    "        print (\"%s\\t:\\t%s\" %(k, v))\n",
    "\n",
    "dictionary = {\"eposta\": \"ömer.sez@ly.com.tr\",\n",
    "          \"adres\": \"ANKARA\",\n",
    "          \"cep\": \"05355355335\"}\n",
    "\n",
    "kayit_defteri(isim = \"ömer\",\n",
    "              soyisim = \"Sezgin\",\n",
    "              telefon = \"03123123112\",\n",
    "              **dictionary)"
   ]
  },
  {
   "cell_type": "markdown",
   "metadata": {},
   "source": [
    "Burada dictionary verimizi önceden tanımladığımıza ve bunu fonksiyonu çağırırken doğrudan parametre olarak eklediğimize dikkat edin. Ayrıca dictionary parametresini fonksiyona yazarken yine çift yıldızlı yapıyı kullanmamız gerekiyor.\n",
    "  \n",
    "      -Python'da Built-in - Gömülü - Fonksiyonlar: Kendi oluşturduğumuz fonksiyonlardan başka bir de Python'un içinde yer alan kullanıma hazır fonksiyonlar vardır bunlara gömülü fonksiyonlar denir. Örnek vermek gerekirse range(), len(), enumerate() ve sum() fonksiyonları birer özel gömülü fonksiyondur. Python'daki bu built-in fonksiyonlarla ilgili daha detaylı bilgiye http://docs.python.org/library/functions.html linkinden erişebilirsiniz.\n",
    "      -Python'da \"global\" Deyimi: Programlama dillerinde bir fonksiyon içinde tanımlanan değişkenler fonksiyon ile oluşturulur ve fonksiyon sonlandığı zaman oluşturulan bu değişkenler de fonksiyon ile beraber sonlanır. Eğer bu fonksiyon içindeki değişkenimize fonksiyon dışında da erişip değişiklik yapmak istersek global olarak tanımlamak gerekir.\n",
    "Bir önceki örneği Global deyimi ile yeniden inceleyelim ve sonuçlarının arasındaki farka bakalım:"
   ]
  },
  {
   "cell_type": "code",
   "execution_count": 33,
   "metadata": {},
   "outputs": [
    {
     "name": "stdout",
     "output_type": "stream",
     "text": [
      "\n",
      "\n",
      "isim\t:\tÖmer\n",
      "soyisim\t:\tSezgin\n",
      "telefon\t:\t03123123112\n",
      "eposta\t:\tömer.sez@ly.com.tr\n",
      "adres\t:\tANKARA\n",
      "cep\t:\t05355355335\n"
     ]
    }
   ],
   "source": [
    "#global deyimi\n",
    "\n",
    "def kayit_defteri(isim, soyisim, telefon, **arglar):\n",
    "    global tel_defteri \n",
    "    tel_defteri = {}\n",
    "\n",
    "    tel_defteri[\"isim\"] = isim\n",
    "    tel_defteri[\"soyisim\"] = soyisim\n",
    "    tel_defteri[\"telefon\"] = telefon\n",
    "\n",
    "    for i in arglar.keys():\n",
    "        tel_defteri[i] = arglar[i]\n",
    "    print( \"\\n\")\n",
    "    for k, v in tel_defteri.items():\n",
    "        print (\"%s\\t:\\t%s\" %(k, v))\n",
    "\n",
    "dictionary = {\"eposta\": \"ömer.sez@ly.com.tr\",\n",
    "          \"adres\": \"ANKARA\",\n",
    "          \"cep\": \"05355355335\"}\n",
    "\n",
    "kayit_defteri(isim = \"Ömer\",\n",
    "              soyisim = \"Sezgin\",\n",
    "              telefon = \"03123123112\",\n",
    "              **dictionary)"
   ]
  },
  {
   "cell_type": "code",
   "execution_count": 34,
   "metadata": {},
   "outputs": [
    {
     "name": "stdout",
     "output_type": "stream",
     "text": [
      "\n",
      "FONKSİYONUN İÇİNDEKİ GLOBAL TANIMLI \"Telefon defteri\":  {'isim': 'Ömer', 'soyisim': 'Sezgin', 'telefon': '03123123112', 'eposta': 'ömer.sez@ly.com.tr', 'adres': 'ANKARA', 'cep': '05355355335'}\n"
     ]
    }
   ],
   "source": [
    "print (\"\"\"\\nFONKSİYONUN İÇİNDEKİ GLOBAL TANIMLI \"Telefon defteri\": \"\"\", tel_defteri)"
   ]
  },
  {
   "cell_type": "code",
   "execution_count": 35,
   "metadata": {},
   "outputs": [
    {
     "name": "stdout",
     "output_type": "stream",
     "text": [
      "\n",
      "FONKSİYONUN DIŞINDAKİ NORMAL TANIMLI \"Telefon defteri\":  {'eposta': 'isim.soyisim@ly.com.tr', 'adres': 'ankara', 'cep': '0535*******'}\n"
     ]
    }
   ],
   "source": [
    "#FONKSİYON DIŞINDA FONKSİYONDA TANIMLI BİR DEĞİŞKEN VERİYİ AYNI ADLA FARKLI İÇERİKLE YENİDEN TANIMLAMA:\n",
    "tel_defteri = {\"eposta\": \"isim.soyisim@ly.com.tr\", \"adres\": \"ankara\", \"cep\": \"0535*******\"}\n",
    "print (\"\"\"\\nFONKSİYONUN DIŞINDAKİ NORMAL TANIMLI \"Telefon defteri\": \"\"\", tel_defteri)"
   ]
  },
  {
   "cell_type": "markdown",
   "metadata": {},
   "source": [
    "        -Python'da \"return\" Deyimi: Şu ana kadar yazdığımız bütün fonksiyonlarda ekrana bir sonuç bastırdık. Ama program yazarken her zaman böyle yapmayız. Yazdığımız bir fonksiyondan değer döndürmek ve bu değer ile işlemler yapmak isteyebiliriz. Yani \"return\" deyimi fonksiyonun geriye herhangi bir değer döndürmesini sağlar. "
   ]
  },
  {
   "cell_type": "code",
   "execution_count": 36,
   "metadata": {},
   "outputs": [
    {
     "name": "stdout",
     "output_type": "stream",
     "text": [
      "\n",
      "Ali Kural: Successfully Passed the Exam! \n",
      "Ahmet Kiremit: Successfully Passed the Exam! \n",
      "Seden Kahraman: Unsuccessfully Failed the Exam!\n"
     ]
    }
   ],
   "source": [
    "#return deyimi (Fonksiyonda bir değer döndürmek istersek içinde bir parametre belirtmemiz gerekir yoksa \"NONE\" döndürür!)\n",
    "\n",
    "def returnable(grade):\n",
    "    if grade >= 50:\n",
    "\t    return \"Successfully Passed the Exam!\"\n",
    "    else:\n",
    "\t    return \"Unsuccessfully Failed the Exam!\"\n",
    "\n",
    "print (\"\\nAli Kural: %s\" %returnable(75), \"\\nAhmet Kiremit: %s\" %returnable(50), u\"\\nSeden Kahraman: %s\" %returnable(49))\n"
   ]
  },
  {
   "cell_type": "code",
   "execution_count": 37,
   "metadata": {},
   "outputs": [
    {
     "name": "stdout",
     "output_type": "stream",
     "text": [
      "\n",
      "Girdiğiniz not: ['25', '2', '32']\n",
      "\n",
      "Sınav Notunuzun Hesaplanabilmesi İçin Yeterli Notu Alamadınız!\n"
     ]
    }
   ],
   "source": [
    "#Kullanıcı tarafından girilen notların bir listede tutulup sonra listenin döndündürülmesini sağlayan bu fonksiyon ile liste verileri ile işlem yapabilme:\n",
    "\n",
    "def not_gir():\n",
    "    i = 0\n",
    "    grd = []\n",
    "    for i in range(0, 3):\n",
    "        a = input(\"Notu giriniz: \")\n",
    "        grd.append(a)\n",
    "    return grd\n",
    "\n",
    "exam = not_gir()\n",
    "\n",
    "print (\"\\nGirdiğiniz not: %s\" %exam)\n",
    "\n",
    "avg = (int(exam[0]) + int(exam[1]) + int(exam[2])) / 3\n",
    "\n",
    "if avg >= 60:\n",
    "    print( \"\\n1. Bölüm - Yabancı (İngilizce) Notunuz: %s\\\n",
    "\t    \\n2. Bölüm - Genel Kültür - Genel Yetenek Notunuz: %s\\\n",
    "\t    \\n3. Bölüm - Alan Bilgisi (Bilgisayar) Notunuz: %s\\\n",
    "\t    \\nSınav Ortalamanız: %s\" %(exam[0], exam[1], exam[2], avg) )\n",
    "else:\n",
    "    print (\"\\nSınav Notunuzun Hesaplanabilmesi İçin Yeterli Notu Alamadınız!\")"
   ]
  },
  {
   "cell_type": "markdown",
   "metadata": {},
   "source": [
    "    -Python'da \"pass\" Deyimi: Python’da ise bu deyim herhangi bir işlem yapmadan geçeceğimiz durumlarda kullanılır. "
   ]
  },
  {
   "cell_type": "code",
   "execution_count": 38,
   "metadata": {},
   "outputs": [
    {
     "name": "stdout",
     "output_type": "stream",
     "text": [
      "['12']\n",
      "['12', '1']\n",
      "['12', '1', '2']\n",
      "['12', '1', '2', '36']\n",
      "['12', '1', '2', '36', '5']\n",
      "['12', '1', '2', '36', '5', '2']\n",
      "['12', '1', '2', '36', '5', '2', '32']\n",
      "['12', '1', '2', '36', '5', '2', '32', '54']\n",
      "['12', '1', '2', '36', '5', '2', '32', '54', '51']\n",
      "['12', '1', '2', '36', '5', '2', '32', '54', '51', '\"']\n",
      "Girdiler: \n",
      " None\n"
     ]
    }
   ],
   "source": [
    "#pass deyimi\n",
    "\n",
    "#İçi doldurulmamış fonksiyonda pass kullanımı:\n",
    "def bir_fonksiyon():\n",
    "\tpass\n",
    "#İçi doldurulmuş fonksiyonda pass kullanımı:\n",
    "def deneme():\n",
    "\tliste = []\n",
    "\twhile True:\n",
    "\t\ta = (input(\"Sayi Giriniz: \"))\n",
    "\t\tif a == \"0\":\n",
    "\t\t\tpass\n",
    "\t\telif a == \"q\":\n",
    "\t\t\tbreak\n",
    "\t\telse:\n",
    "\t\t\tliste.append(a)\n",
    "\t\t\tprint (liste)\n",
    "print (\"Girdiler: \\n\", deneme())"
   ]
  },
  {
   "cell_type": "code",
   "execution_count": 41,
   "metadata": {},
   "outputs": [
    {
     "name": "stdout",
     "output_type": "stream",
     "text": [
      "Toplam 5 ögrenci var.\n",
      "Bu ögrencilerin not ortalaması: 31.4\n"
     ]
    }
   ],
   "source": [
    "#Fonksiyonu Belgelendirme:\n",
    "\n",
    "def not_ortalamasi_hesapla(ogrenci_sayisi = 5):\n",
    "    \"\"\"Not ortalaması hesaplayan bir fonksiyon.\n",
    "    Bu fonksiyonun aldığı tek argüman\n",
    "    kullanıcıya kaç kez not bilgisi sorulacağını\n",
    "    gösterir.\"\"\"\n",
    "\n",
    "    deneme = 0\n",
    "    toplam = []\n",
    "    while deneme < ogrenci_sayisi:\n",
    "        deneme += 1\n",
    "        toplam.append(int(input(\"%s. Ögrenci notu: \" % deneme)))\n",
    "\n",
    "    print (\"Toplam %s ögrenci var.\" % deneme)\n",
    "    print (\"Bu ögrencilerin not ortalaması: %s\" %(sum(toplam)/deneme))\n",
    "\n",
    "not_ortalamasi_hesapla()"
   ]
  },
  {
   "cell_type": "code",
   "execution_count": 42,
   "metadata": {},
   "outputs": [
    {
     "name": "stdout",
     "output_type": "stream",
     "text": [
      "seckı...\n"
     ]
    }
   ],
   "source": [
    "#Fonksiyon Yapısında Değişik Örnekler: \n",
    "#Beş Karakterden Uzun İsim Girildiğinde Beşinci Karakter sonrasında \"...\" Yazan Fonksiyon:\n",
    "def noktali(isim):\n",
    "\tif len(isim) <= 5:\n",
    "\t\tprint (isim)\n",
    "\telse:\n",
    "\t\tprint (isim[0:5] + \"...\")\n",
    "\n",
    "isim = input(\"Isminizi giriniz: \")\n",
    "noktali(isim)"
   ]
  },
  {
   "cell_type": "code",
   "execution_count": 43,
   "metadata": {},
   "outputs": [
    {
     "name": "stdout",
     "output_type": "stream",
     "text": [
      "Bu Dizi Palindrom Değildir!\n"
     ]
    }
   ],
   "source": [
    "#Palindromik (Tersten okunuşu aynı olan) Dizileri Ayırt Etme:\n",
    "def palindrom(strg):\n",
    "\trev_str = \"\"\n",
    "\n",
    "\tfor i in range(len(strg)):\n",
    "\t\trev_str += strg[len(strg) - 1 - i]\n",
    "\n",
    "\tif rev_str == strg:\n",
    "\t\tprint (strg, \"Bir Palindrom Dizidir.\")\n",
    "\telse:\n",
    "\t\tprint (\"Bu Dizi Palindrom Değildir!\")\n",
    "\n",
    "strg = input(\"Bir dizi girin: \")\n",
    "palindrom(strg)"
   ]
  },
  {
   "cell_type": "code",
   "execution_count": 44,
   "metadata": {},
   "outputs": [
    {
     "name": "stdout",
     "output_type": "stream",
     "text": [
      "KelKelKelKelKel\n",
      "KapKapKap\n",
      "Tat\n"
     ]
    }
   ],
   "source": [
    "#Üç karakterden büyük kelimelerin ilk üç karakterini istenilen miktar kadar yanyana ekleme, üç karakterden küçük olanları da olduğu gibi istenilen miktar kadar yanyana ekleme:\n",
    "def ilk_harfleri_tekrar_et(string, n):\n",
    "\tresult = ''\n",
    "\tif len(string) > 2:\n",
    "\t\tfor i in range(n):\n",
    "\t\t\tresult += string[0:3]\n",
    "\t\treturn result\n",
    "\telse:\n",
    "\t\tfor i in range(n):\n",
    "\t\t\tresult += string[0:len(string)]\n",
    "\t\treturn result\n",
    "\n",
    "print (ilk_harfleri_tekrar_et('Kelime', 5))\n",
    "print (ilk_harfleri_tekrar_et('Kapak', 3))\n",
    "print (ilk_harfleri_tekrar_et(\"Tat\", 1))"
   ]
  },
  {
   "cell_type": "code",
   "execution_count": 45,
   "metadata": {},
   "outputs": [
    {
     "name": "stdout",
     "output_type": "stream",
     "text": [
      "HHaHahHahaHahahHahaha\n",
      "aapapaapak\n",
      "kkakapkapakapak\n"
     ]
    }
   ],
   "source": [
    "#Verilen kelimenin içinden sırasıyla 1., 1 ve 2., 1 - 2 ve 3.,... son harfine kadar parça parça yanyana ekleyen fonksiyon:  \n",
    "def sondan_harf_katlama(string):\n",
    "\tresult = ''\n",
    "\tfor i in range(len(string)):\n",
    "\t\tresult += string[:i+1]\n",
    "\treturn result\n",
    "\n",
    "\n",
    "print (sondan_harf_katlama('Hahaha'))\n",
    "print (sondan_harf_katlama('apak'))\n",
    "print (sondan_harf_katlama('kapak'))"
   ]
  },
  {
   "cell_type": "markdown",
   "metadata": {},
   "source": [
    "# Class (Sınıf)\n"
   ]
  },
  {
   "cell_type": "code",
   "execution_count": 46,
   "metadata": {},
   "outputs": [
    {
     "name": "stdout",
     "output_type": "stream",
     "text": [
      "12345\n",
      "Class Yapısına Hoş Geldiniz\n"
     ]
    }
   ],
   "source": [
    "#Basit Bir Class Tanımlama Yapısı:\n",
    "class ClassDef:\n",
    "    i = 12345\n",
    "    def f(self):\n",
    "\t    return u'Class Yapısına Hoş Geldiniz'\n",
    "\n",
    "#Class'ımızı bir değişkene atama:\n",
    "x = ClassDef()\n",
    "#Class'ımızda tanımlı i değişkenimizin niteliğine erişme:\n",
    "print (x.i)\n",
    "#Class'ımızda tanımlı f fonksiyonumuza erişim:\n",
    "print (x.f())"
   ]
  },
  {
   "cell_type": "markdown",
   "metadata": {},
   "source": [
    "# SELF YAPISI \n",
    "    Bir fonksiyonu, bir değişkeni \"self\" olarak tanımlama işlem yapma: \n",
    "    \n",
    "    Kodlar içinde yazdığımız değişkenlerin, fonksiyon dışından da çağrılabilmesi için, yani bir bakıma “global” bir nitelik kazanması için “self” olarak tanımlanmaları gerekir. Yani mesela, “i” yerine “self.i” diyerek, bu “i” adlı değişkenin yalnızca içinde bulunduğu fonksiyonda değil, o fonksiyonun dışında da kullanılabilir hale getirir.\n"
   ]
  },
  {
   "cell_type": "code",
   "execution_count": 47,
   "metadata": {},
   "outputs": [
    {
     "name": "stdout",
     "output_type": "stream",
     "text": [
      "12345\n",
      "Class Yapısına Hoş Geldiniz\n"
     ]
    }
   ],
   "source": [
    "#Basit Bir Class Tanımlama Yapısı:\n",
    "class ClassDef:\n",
    "    #\"Global\" (Daha sonra başka bir bölümde de kullanılabilir olması için) bir nitelikkazanabilmesi için \"self\" olarak veri tanımlama fonksiyon tanımı:\n",
    "    def __init__(self):\n",
    "        \"\"\"Basit bir class örneği\"\"\"\n",
    "        self.i = 12345\n",
    "    def f(self):\n",
    "\t    return u'Class Yapısına Hoş Geldiniz'\n",
    "\n",
    "#Class'ımızı bir değişkene atama:\n",
    "x = ClassDef()\n",
    "#Class'ımızda self olarak tanımlı i değişkenimizin niteliğine erişme:\n",
    "print (x.i)\n",
    "#Class'ımızda tanımlı f fonksiyonumuza erişim:\n",
    "print (x.f())"
   ]
  },
  {
   "cell_type": "code",
   "execution_count": 48,
   "metadata": {},
   "outputs": [
    {
     "ename": "ModuleNotFoundError",
     "evalue": "No module named 'maths1'",
     "output_type": "error",
     "traceback": [
      "\u001b[1;31m---------------------------------------------------------------------------\u001b[0m",
      "\u001b[1;31mModuleNotFoundError\u001b[0m                       Traceback (most recent call last)",
      "Cell \u001b[1;32mIn[48], line 17\u001b[0m\n\u001b[0;32m     12\u001b[0m islem \u001b[39m=\u001b[39m Toplama()\n\u001b[0;32m     14\u001b[0m \u001b[39m#Başka bir dosyamızda örneğin bu toplama işlemini kullanacağımız bir main program yapısında şu şekilde yukarıdaki kodumuza ve işlemimize erişmemiz ve işlem yapabilmemiz mümkün:\u001b[39;00m\n\u001b[1;32m---> 17\u001b[0m \u001b[39mfrom\u001b[39;00m \u001b[39mmaths1\u001b[39;00m \u001b[39mimport\u001b[39;00m \u001b[39m*\u001b[39m\n\u001b[0;32m     18\u001b[0m islem\u001b[39m.\u001b[39mdisplay()\n",
      "\u001b[1;31mModuleNotFoundError\u001b[0m: No module named 'maths1'"
     ]
    }
   ],
   "source": [
    "#Alttaki örnekte basit bir toplama işleminin self tanımı sayesinde başka bir dosyadan çağırılması durumu verilmiştir. \n",
    "#Alttaki kodumuzu: \"maths1.py\" adlı dosyamızda kaydettiğimizi varsayalım: \n",
    "\n",
    "class Toplama:\n",
    "    def __init__(self):\n",
    "        self.a = 15\n",
    "        self.b = 20\n",
    "        self.c = self.a + self.b\n",
    "        def display(self):\n",
    "            print (\"a + b = \", self.c)\n",
    "\n",
    "islem = Toplama()\n",
    "\n",
    "#Başka bir dosyamızda örneğin bu toplama işlemini kullanacağımız bir main program yapısında şu şekilde yukarıdaki kodumuza ve işlemimize erişmemiz ve işlem yapabilmemiz mümkün:\n",
    "\n",
    "\n",
    "from maths1 import *\n",
    "islem.display()\n"
   ]
  },
  {
   "cell_type": "code",
   "execution_count": 49,
   "metadata": {},
   "outputs": [],
   "source": [
    "class Calisan:\n",
    "    \"Employee - Çalışan - için Ortak Temel Class\"\n",
    "\n",
    "    calSayisi = 0\n",
    "\n",
    "\t#'''Class Değişkenlerini Örnekleme (Instantiation) ve Tanımlama (Definition) Fonksiyonu'''\n",
    "    def __init__(self, isim, aylik):\n",
    "        self.isim = isim\n",
    "        self.aylik = aylik\n",
    "\t#Toplam Çalışan Sayısını Hesaplama\n",
    "        Calisan.calSayisi += 1\n",
    "#'''Toplam Çalışan Sayısını Gösteren Fonksiyon'''\n",
    "    def sayiGoster(self):\n",
    "\t    print (\"Toplam Calisan %d\" % Calisan.calSayisi)\n",
    "#'''Çalışan Profilini Ekranda Gösterme Fonksiyonu'''\n",
    "    \n",
    "    def calisanGoster(self):\n",
    "        print (\"İsim : \", self.isim,  u\", Aylık: \", self.aylik, \"TL\")\n"
   ]
  },
  {
   "cell_type": "code",
   "execution_count": 50,
   "metadata": {},
   "outputs": [],
   "source": [
    "#Class'ımızdan Örnek Nesne Yaratma - Creating instance objects:\n",
    "#\"Calısan Class'ımızın ilk örneğini yaratma:\"\n",
    "cal1 = Calisan(\"Veysel Akar\", 2000)\n",
    "#\"Calısan Class'ımızın ikinci örneğini yaratma:\"\n",
    "cal2 = Calisan(u\"Hamdi Yılmaz\", 5000)"
   ]
  },
  {
   "cell_type": "code",
   "execution_count": 51,
   "metadata": {},
   "outputs": [
    {
     "name": "stdout",
     "output_type": "stream",
     "text": [
      "İsim :  Veysel Akar , Aylık:  2000 TL\n",
      "İsim :  Hamdi Yılmaz , Aylık:  5000 TL\n",
      "Toplam Çalışan Sayısı: 2\n"
     ]
    }
   ],
   "source": [
    "#Niteliklere Erişme:\n",
    "\"Yaratılan Nesnelerimizin Niteliklerine '.' (nokta) İşlemi ile Erişebiliriz:\"\n",
    "cal1.calisanGoster()\n",
    "cal2.calisanGoster()\n",
    "print (\"Toplam Çalışan Sayısı: %d\" % Calisan.calSayisi)"
   ]
  },
  {
   "cell_type": "code",
   "execution_count": 52,
   "metadata": {},
   "outputs": [
    {
     "name": "stdout",
     "output_type": "stream",
     "text": [
      "Veysel Akar , isimli çalışanımızın yeni yaşı:  30 'dur.\n"
     ]
    }
   ],
   "source": [
    "#İstediğiniz zaman ve yerde Class'ınıza yeni bir nitelik ekleyebilir, varolanı değiştirebilir ya da silebilirsiniz:\n",
    "cal1.yasi = 25 #\"cal1\" nesnesine yasi\" adında bir class \"yaş\" niteliği ekleme\n",
    "cal1.yasi = 30 #\"cal1\"nesnesinin yasi\" adındaki niteliğini değiştirme\n",
    "cal2.yasi = 37 #\"cal2\" nesnesine \"yasi\" adında bir class \"yaş\" niteliği ekleme\n",
    "print (cal1.isim, u\", isimli çalışanımızın yeni yaşı: \", cal1.yasi, \"'dur.\")"
   ]
  },
  {
   "cell_type": "code",
   "execution_count": 53,
   "metadata": {},
   "outputs": [
    {
     "name": "stdout",
     "output_type": "stream",
     "text": [
      "True\n"
     ]
    }
   ],
   "source": [
    "del cal1.yasi #\"cal1\" nesnesinin yasi\" adındaki niteliğini silme\n",
    "\n",
    "#NOT: Normal kod satırları ile niteliklerine erişmek yerine aşağıdaki fonksiyonlar ile de erişim sağlanabilir:\n",
    "#getattr(class nesnesi, class niteliği[, default]): Nesnenin niteliğine erişimde kullanılır.\n",
    "#hasattr(class nesnesi, class niteliği): Bir Class'ın ilgili nesneye sahip olup olmadığını kontrol eder.\n",
    "#setattr(class nesnesi, class niteliği, niteliğin değeri): Bir class niteliğinin değerini değiştirmek için kullanılır. Eğer böyle bir nitelik yoksa da yeni olarak oluşturur.\n",
    "#delattr(class nesnesi, class niteliği): Bir niteliği silmeye yarar. \n",
    "\n",
    "check = hasattr(cal2, 'yasi') #Eğer cal1 class nesnesi 'yasi' adında bir niteliğe sahipse True döndürür.\n",
    "print (check)"
   ]
  },
  {
   "cell_type": "code",
   "execution_count": 54,
   "metadata": {},
   "outputs": [
    {
     "name": "stdout",
     "output_type": "stream",
     "text": [
      "37\n"
     ]
    }
   ],
   "source": [
    "age = getattr(cal2, 'yasi') #cal2 nesnesinin 'yasi' niteliğinin değerini döndürür.\n",
    "print (age)"
   ]
  },
  {
   "cell_type": "code",
   "execution_count": 55,
   "metadata": {},
   "outputs": [
    {
     "name": "stdout",
     "output_type": "stream",
     "text": [
      "40\n"
     ]
    }
   ],
   "source": [
    "setattr(cal2, 'yasi', 40) #ca2 nesnesinin 'yasi' niteliğini değiştirir ya da sıfırdan belirler.\n",
    "print (getattr(cal2, 'yasi'))"
   ]
  },
  {
   "cell_type": "code",
   "execution_count": 56,
   "metadata": {},
   "outputs": [
    {
     "ename": "AttributeError",
     "evalue": "'Calisan' object has no attribute 'yasi'",
     "output_type": "error",
     "traceback": [
      "\u001b[1;31m---------------------------------------------------------------------------\u001b[0m",
      "\u001b[1;31mAttributeError\u001b[0m                            Traceback (most recent call last)",
      "Cell \u001b[1;32mIn[56], line 2\u001b[0m\n\u001b[0;32m      1\u001b[0m \u001b[39mdelattr\u001b[39m(cal2, \u001b[39m'\u001b[39m\u001b[39myasi\u001b[39m\u001b[39m'\u001b[39m) \u001b[39m#cal2 nesnesinin 'yasi' niteliğini siler. Onun için hata verir. \u001b[39;00m\n\u001b[1;32m----> 2\u001b[0m \u001b[39mprint\u001b[39m(\u001b[39mgetattr\u001b[39;49m(cal2, \u001b[39m'\u001b[39;49m\u001b[39myasi\u001b[39;49m\u001b[39m'\u001b[39;49m))\n",
      "\u001b[1;31mAttributeError\u001b[0m: 'Calisan' object has no attribute 'yasi'"
     ]
    }
   ],
   "source": [
    "delattr(cal2, 'yasi') #cal2 nesnesinin 'yasi' niteliğini siler. Onun için hata verir. \n",
    "print(getattr(cal2, 'yasi'))"
   ]
  },
  {
   "cell_type": "markdown",
   "metadata": {},
   "source": [
    "# Built-In (Gömülü) Class Nitelikleri\n",
    "\n",
    "    -\"__dict__\": Class kapsamında Dictionary yapısı.\n",
    "    -\"__doc__\": Class dokümantasyon String'i ya da tanımsız is \"NONE\".\n",
    "    -\"__name__\": Class adı.\n",
    "    -\"__module__\": Class'ın tanımlandığı Modül'ün adı. Bu niteliğin interaktif moddaki adı -\"__main__\"\n",
    "    -\"__bases__\": Temel Class listesindeki bulundukları sıraya göre temel class'ları içeren olası boş bir Tuple - Demet\n"
   ]
  },
  {
   "cell_type": "code",
   "execution_count": 57,
   "metadata": {},
   "outputs": [
    {
     "name": "stdout",
     "output_type": "stream",
     "text": [
      "Calisan.__doc__: Employee - Çalışan - için Ortak Temel Class\n"
     ]
    }
   ],
   "source": [
    "print (\"Calisan.__doc__:\", Calisan.__doc__)"
   ]
  },
  {
   "cell_type": "code",
   "execution_count": 58,
   "metadata": {},
   "outputs": [
    {
     "name": "stdout",
     "output_type": "stream",
     "text": [
      "Calisan.__name__: Calisan\n"
     ]
    }
   ],
   "source": [
    "print (\"Calisan.__name__:\", Calisan.__name__)"
   ]
  },
  {
   "cell_type": "code",
   "execution_count": 59,
   "metadata": {},
   "outputs": [
    {
     "name": "stdout",
     "output_type": "stream",
     "text": [
      "Calisan.__module__: __main__\n"
     ]
    }
   ],
   "source": [
    "print (\"Calisan.__module__:\", Calisan.__module__)"
   ]
  },
  {
   "cell_type": "code",
   "execution_count": 60,
   "metadata": {},
   "outputs": [
    {
     "name": "stdout",
     "output_type": "stream",
     "text": [
      "Calisan.__bases__: (<class 'object'>,)\n"
     ]
    }
   ],
   "source": [
    "print (\"Calisan.__bases__:\", Calisan.__bases__)"
   ]
  },
  {
   "cell_type": "code",
   "execution_count": 61,
   "metadata": {},
   "outputs": [
    {
     "name": "stdout",
     "output_type": "stream",
     "text": [
      "Calisan.__dict__: {'__module__': '__main__', '__doc__': 'Employee - Çalışan - için Ortak Temel Class', 'calSayisi': 2, '__init__': <function Calisan.__init__ at 0x0000029DF5F437E0>, 'sayiGoster': <function Calisan.sayiGoster at 0x0000029DF5F43920>, 'calisanGoster': <function Calisan.calisanGoster at 0x0000029DF5F43B00>, '__dict__': <attribute '__dict__' of 'Calisan' objects>, '__weakref__': <attribute '__weakref__' of 'Calisan' objects>}\n"
     ]
    }
   ],
   "source": [
    "print (\"Calisan.__dict__:\", Calisan.__dict__)"
   ]
  },
  {
   "cell_type": "markdown",
   "metadata": {},
   "source": [
    "# Nesneleri Ortadan Kaldırma - Çöp Toplama (Garbage Collection)\n",
    "    Bir Nesnenin Verisine İşaret Eden Referans Değeri Kalmadığında Yani Sıfırlandığında O Veri İşe Yaramaz Hale Gelir ve Otomatik Olarak Çöp Toplama İşlemi Devreye Girer:\n"
   ]
  },
  {
   "cell_type": "code",
   "execution_count": 63,
   "metadata": {},
   "outputs": [
    {
     "name": "stdout",
     "output_type": "stream",
     "text": [
      "2877460120784 2877460120784 2877460120784\n",
      "Yer_imi Class'ı Yok Edildi!\n"
     ]
    }
   ],
   "source": [
    "#\"__del__()\" yok edicisi, yok edilmek üzere olan örneklenenlerin class adlarını gösteriyor:\n",
    "class Yer_imi:\n",
    "\tdef __init( self, x=0, y=0):\n",
    "\t\tself.x = x\n",
    "\t\tself.y = y\n",
    "\tdef __del__(self):\n",
    "\t\tclass_adi = self.__class__.__name__\n",
    "\t\tprint (class_adi, \"Class'ı Yok Edildi!\")\n",
    "\n",
    "pt1 = Yer_imi()\n",
    "pt2 = pt1\n",
    "pt3 = pt1\n",
    "print (id(pt1), id(pt2), id(pt3)) # Nesnelerin id'lerini gösterir.\n",
    "del pt1\n",
    "del pt2\n",
    "del pt3"
   ]
  },
  {
   "cell_type": "code",
   "execution_count": 64,
   "metadata": {},
   "outputs": [
    {
     "name": "stdout",
     "output_type": "stream",
     "text": [
      "Parent Constructor'ı çağırma\n",
      "Child Constructor'ı Çağırma\n",
      "Child Metodu Çağırma\n",
      "Parent Metodu'u çağırma\n",
      "Parent nitelik : 200\n"
     ]
    }
   ],
   "source": [
    "#MİRAS ALMA - INHERITANCE\n",
    "class Parent:        # Parent Class'ı Tanımlama\n",
    "   parentAttr = 100\n",
    "   def __init__(self):\n",
    "      print (\"Parent Constructor'ı çağırma\")\n",
    "\n",
    "   def parentMethod(self):\n",
    "      print (\"Parent Metodu'u çağırma\")\n",
    "\n",
    "   def setAttr(self, attr):\n",
    "      Parent.parentAttr = attr\n",
    "\n",
    "   def getAttr(self):\n",
    "      print (\"Parent nitelik :\", Parent.parentAttr)\n",
    "\n",
    "class Child(Parent): # Child Class'ı Tanımlama\n",
    "   def __init__(self):\n",
    "      print (\"Child Constructor'ı Çağırma\")\n",
    "\n",
    "   def childMethod(self):\n",
    "      print ('Child Metodu Çağırma')\n",
    "\n",
    "p = Parent()         #Parent'ın bir örnek nesnesi\n",
    "c = Child()          # Child'ın bir örnek nesnesi\n",
    "c.childMethod()      # child metodunu çağırıyor\n",
    "c.parentMethod()     # parent'ın metodunu çağırma\n",
    "c.setAttr(200)       # tekrar parent'ın metodunu çağırma\n",
    "c.getAttr()          # tekrar parent'ın metodunu çağırma"
   ]
  },
  {
   "cell_type": "code",
   "execution_count": 65,
   "metadata": {},
   "outputs": [
    {
     "name": "stdout",
     "output_type": "stream",
     "text": [
      "True\n",
      "False\n",
      "True\n",
      "True\n"
     ]
    }
   ],
   "source": [
    "#issubclass(altClass, üstClass) altClass eğer üstClass'ın bir alt sınıfı ise True, değilse False döndürür.\n",
    "#isinstance(nesne, Class) eğer nesne Class'tan yaratılmış bir örnek nesne ise True, değilse False döndürür.\n",
    "\n",
    "print (issubclass(Child, Parent)  )   #Doğru sorgulama 'True' döndürür.\n",
    "print (issubclass(Parent, Child) )    #Hatalı sorgulama 'False' döndürür!\n",
    "print (isinstance(p, Parent)  )       #Doğru sorgulama 'True' döndürür.\n",
    "#print (isinstance(Parent, p)  )      #Hatalı sorgulama 'TypeError' hatası verir!\n",
    "print (isinstance(c, Child) )         #Doğru sorgulama 'True' döndürür."
   ]
  },
  {
   "cell_type": "code",
   "execution_count": 66,
   "metadata": {},
   "outputs": [
    {
     "name": "stdout",
     "output_type": "stream",
     "text": [
      "İlk Öğretim\n",
      "Ankara Bilgi İlköğretim Okulu\n"
     ]
    }
   ],
   "source": [
    "#Overriding Metod Deyimi: Aynı parametrelerle farklı uygulamalar ve işlemler yapılarak oluşturulan biri Parent bir de Child Class'ta bulunan metod çeşididir. Parent yani Ana - Üst Class'ın metodunun otomatik - default gerçekleşen bir işlemini durdurup Child - alt Class'ında farklı veya özel bir özellik ile modifiye etmeye yarar.\n",
    "class Okul:              #Parent Class Tanımlama\n",
    "    def ilkMetodum(self):\n",
    "        print (\"İlk Öğretim\")\n",
    "\n",
    "class Ankara(Okul):\n",
    "    def ilkMetodum(self):\n",
    "        print (\"Ankara Bilgi İlköğretim Okulu\")\n",
    "\n",
    "o = Okul()          #Ankara Parent Class'nın yaratılmış nesnesi\n",
    "o.ilkMetodum()      #Ankara Parent Class'ının metodunu çağırma\n",
    "a = Ankara()        #Ankara Child Class'ının yaratılmış nesnesi\n",
    "a.ilkMetodum()      #Okul Parent Class'ının aynı isimli ilkMetodum()'nun Override edilmiş halini çağırma\n"
   ]
  },
  {
   "cell_type": "markdown",
   "metadata": {},
   "source": [
    "    -Metod Overloading Deyimi: Aynı isme sahip birden fazla metodun aynı Class'ta farklı parametrelerle tekrardan yüklenmesidir.\n",
    "\n",
    "    -Python'daki Temel Overload Edilebilecek Metodlar:\n",
    "\n",
    "#### Metod, Açıklama ve Örnek Çağırma Şekli\n",
    "__init__ ( self [,parametreler...] )\n",
    "\n",
    "    Constructor (Herhangi bir opsiyonel parametre)\n",
    "    Örnek Çağırma Şekli : nesne = classAdı(param)\n",
    "\n",
    "__del__( self )\n",
    "\n",
    "    Destructor, bir objeyi siler\n",
    "    Örnek Çağırma Şekli : del nesne\n",
    "\n",
    "__repr__( self )\n",
    "\n",
    "    Değerlendirilebilir string temsil etme\n",
    "    Örnek Çağırma Şekli : repr(obj)\n",
    "\n",
    "__str__( self )\n",
    "\n",
    "    Yazdırılabilir string temsil etme\n",
    "    Örnek Çağrıma Şekli : str(obj)\n",
    "\n",
    "__cmp__ ( self, x )\n",
    "\n",
    "    Nesne Karşılaştırma\n",
    "    Örnek Çağırma Şekli : cmp(obj, x)"
   ]
  },
  {
   "cell_type": "code",
   "execution_count": 67,
   "metadata": {},
   "outputs": [
    {
     "name": "stdout",
     "output_type": "stream",
     "text": [
      "Yeni Vektörün Koordinatları:  Vektör = Vtoplam (22, 16)\n"
     ]
    }
   ],
   "source": [
    "class Vektor:\n",
    "    def __init__(self, a, b):\n",
    "      self.a = a\n",
    "      self.b = b\n",
    "\n",
    "    def __str__(self):\n",
    "      return 'Vektör = Vtoplam (%d, %d)' % (self.a, self.b)\n",
    "\n",
    "    def __add__(self, yeni):        #Bu metod sayesinde + işaretini kullanabiliyoruz.\n",
    "      return Vektor(self.a + yeni.a, self.b + yeni.b)\n",
    "\n",
    "v1 = Vektor(17, 18)\n",
    "v2 = Vektor(5, -2)\n",
    "print (\"Yeni Vektörün Koordinatları: \", v1 + v2)"
   ]
  },
  {
   "cell_type": "code",
   "execution_count": 68,
   "metadata": {},
   "outputs": [
    {
     "name": "stdout",
     "output_type": "stream",
     "text": [
      "1\n",
      "2\n",
      "2\n"
     ]
    }
   ],
   "source": [
    "#Python Class Yapısında Veri Gizliliği: Private Attribute\n",
    "#Bir attribute'un (class değişkeni) görünürlüğünü gizleyip direkt olarak ulaşılabilmesini sınırlayabilmeye yarar \"__\" çift alt tire öneki ile tanımlanır.\n",
    "\n",
    "\n",
    "class Sayac:\n",
    "    gizliSayma = 0\n",
    "    def sayma(self):\n",
    "      self.gizliSayma += 1\n",
    "      print (self.gizliSayma)\n",
    "\n",
    "sayim = Sayac()             #\"Sayac\" Class'ından bir \"sayim\" nesnesi yaratma\n",
    "sayim.sayma()               #\"sayim\" nesnesi ile \"sayma\" metodunu (Parent Class metodu) çağırma\n",
    "sayim.sayma()               #\"sayim\" nesnesi ile \"sayma\" metodunu (Parent Class metodu) çağırma\n",
    "print (sayim.gizliSayma)   #\"sayim\" nesnesi ile \"Sayac\" Parent Class'ının private (gizli) \"gizliSayma\" özelliğine erişmeye çalışma\n",
    "\n",
    "#Yukarıdaki kodu çalıştırdığımızda alınan hata mesajı:"
   ]
  },
  {
   "cell_type": "code",
   "execution_count": null,
   "metadata": {},
   "outputs": [],
   "source": []
  }
 ],
 "metadata": {
  "kernelspec": {
   "display_name": "Python 3",
   "language": "python",
   "name": "python3"
  },
  "language_info": {
   "codemirror_mode": {
    "name": "ipython",
    "version": 3
   },
   "file_extension": ".py",
   "mimetype": "text/x-python",
   "name": "python",
   "nbconvert_exporter": "python",
   "pygments_lexer": "ipython3",
   "version": "3.11.4"
  },
  "orig_nbformat": 4
 },
 "nbformat": 4,
 "nbformat_minor": 2
}
