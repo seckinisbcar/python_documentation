{
 "cells": [
  {
   "cell_type": "code",
   "execution_count": 3,
   "metadata": {},
   "outputs": [
    {
     "name": "stdout",
     "output_type": "stream",
     "text": [
      "SeckinSezgin\n"
     ]
    }
   ],
   "source": [
    "#Python’da karakter dizileri “değiştirilemeyen” (immutable) veri tipleridir.\n",
    "#Yani karakter dizileri üzerinde değişiklik yapılamaz. \n",
    "\n",
    "#Karakter Dizilerini Birleştirmek\n",
    "#Python'da String'leri birleştirmenin değişik yöntemleri vardır. Örneğin:\n",
    "\n",
    "ad = \"Seckin\"\n",
    "soyad = \"Sezgin\"\n",
    "ad_soyad = ad + soyad\n",
    "print(ad_soyad)"
   ]
  },
  {
   "cell_type": "code",
   "execution_count": 4,
   "metadata": {},
   "outputs": [
    {
     "name": "stdout",
     "output_type": "stream",
     "text": [
      "Seckin Sezgin\n"
     ]
    }
   ],
   "source": [
    "#Arada boşluk da olsun derseniz:\n",
    "bosluk = \" \"\n",
    "print (ad + bosluk + soyad)"
   ]
  },
  {
   "cell_type": "code",
   "execution_count": 5,
   "metadata": {},
   "outputs": [
    {
     "name": "stdout",
     "output_type": "stream",
     "text": [
      "0123456789\n"
     ]
    }
   ],
   "source": [
    "#Daha değişik bir örnek olarak for döngüsünü kullanarak bir kodlama da yapabilirsiniz.\n",
    "#Örneğin, boşluk String'ine 0'dan 10'a kadar bir aralıkta değer de atamak için: \n",
    "a = \"\"\n",
    "for i in range(10):\n",
    "\ta += str(i)\n",
    "    #print(a)\n",
    "print (a)"
   ]
  },
  {
   "cell_type": "code",
   "execution_count": 6,
   "metadata": {},
   "outputs": [
    {
     "name": "stdout",
     "output_type": "stream",
     "text": [
      "(1, 2, 3, 4, 5, 6, 7, 8, 9, 10, 11, 12, 13)\n",
      "(3, 4, 5)\n"
     ]
    }
   ],
   "source": [
    "#Eğer değişiklik yapmak istersek (mutable) veri tipleri olan \"listeler\" (bkz. Liste-Tuple-Dict Yapısı bölümü) tercih edilebilir.\n",
    "\n",
    "#String'leri (Karakter Dizilerini) Parçalara Ayırma İşlemleri:\n",
    "\n",
    "u=(1,2,3,4,5,6,7,8,9,10,11,12,13)\n",
    "#Liste veri tiplerinden yararlanabiliriz:\n",
    "print (u[:13]) #ya da \"print(u[0:13]) satırı ile 0. öğeden\n",
    "print(u[2:5])"
   ]
  },
  {
   "cell_type": "code",
   "execution_count": 7,
   "metadata": {},
   "outputs": [
    {
     "name": "stdout",
     "output_type": "stream",
     "text": [
      "ilk\n"
     ]
    }
   ],
   "source": [
    "#Ya da aşağıdaki örnekteki gibi hem baştan hem sondan String'i parçalayarak da istediğimiz kısmı elde edebiliriz:\n",
    "string_deger = \"Degisime ilk adim\"\n",
    "#Bu sayede sadece \"ilk\" kelimesini seçmiş olduk\n",
    "print (string_deger[9:12])"
   ]
  },
  {
   "cell_type": "code",
   "execution_count": 8,
   "metadata": {},
   "outputs": [
    {
     "name": "stdout",
     "output_type": "stream",
     "text": [
      "Dgsm l dm\n"
     ]
    }
   ],
   "source": [
    "#Ya da belirli bir kısımdan başlayarak belirli aralıklarla keserek değişik bir veri de elde etmemiz mümkün:\n",
    "string_deger = \"Degisime ilk adim\"\n",
    "#len fonksiyonu kullanarak da stringin uzunluğunun değeri belirtebiliriz:\n",
    "print(string_deger[0:len(string_deger):2])"
   ]
  },
  {
   "cell_type": "code",
   "execution_count": 9,
   "metadata": {},
   "outputs": [
    {
     "name": "stdout",
     "output_type": "stream",
     "text": [
      "mida kli emisigeD\n"
     ]
    }
   ],
   "source": [
    "#Ya da String verimizi tersten inceleyebiliriz:\n",
    "print (string_deger[::-1])"
   ]
  },
  {
   "cell_type": "code",
   "execution_count": 10,
   "metadata": {},
   "outputs": [
    {
     "name": "stdout",
     "output_type": "stream",
     "text": [
      "Dik\n"
     ]
    }
   ],
   "source": [
    "#Son olarak dilimlediğimiz String'ten yeni bir String de oluşturabiliriz:\n",
    "print (string_deger[0] + string_deger[9] + string_deger[11] )"
   ]
  },
  {
   "cell_type": "code",
   "execution_count": 11,
   "metadata": {},
   "outputs": [
    {
     "name": "stdout",
     "output_type": "stream",
     "text": [
      "ftp.python.org\n",
      "ftp.istihza.com\n",
      "ftp.google.com\n",
      "ftp.yahoo.com\n"
     ]
    }
   ],
   "source": [
    "#Aşağıda: \"url_list\" String listesinin içinde bulunan adreslerin başındaki (\"http://www) kısmını atarak yerlerine \"ftp\" ekleyen bir örnek:\n",
    "\n",
    "url_list = [\"http://www.python.org\",\n",
    "            \"http://www.istihza.com\",\n",
    "            \"http://www.google.com\",\n",
    "            \"http://www.yahoo.com\"]\n",
    "\n",
    "for i in url_list:\n",
    "    print (\"ftp\" + i[10:])"
   ]
  },
  {
   "cell_type": "markdown",
   "metadata": {},
   "source": [
    "# ____STRING METOTLARI____\n",
    "## Büyük-Küçük Harf Değiştirme\n",
    "\n",
    "    Python’da karakter dizilerinin büyük-küçük harf durumlarını değiştirmek için kullanabileceğimiz beş farklı metot var. Bu metotlar şöyle sıralanabilir:\n",
    "\n",
    "## capitalize() metodu\n",
    "\n",
    "    Karakter dizilerinin ilk harfini büyütür.\n",
    "\n",
    "## title() metodu\n",
    "\n",
    "    Karakter dizisi içinde geçen her bir kelimenin ilk harfini büyütür.\n",
    "\n",
    "## upper() metodu\n",
    "\n",
    "    Küçük harflerden oluşan bir karakter dizisi içindeki bütün harfleri büyütür.\n",
    "\n",
    "## lower() metodu\n",
    "\n",
    "    Büyük harflerden oluşan bir karakter dizisi içindeki bütün harfleri küçültür.\n",
    "\n",
    "## swapcase() metodu\n",
    "\n",
    "    Karakter dizisi içindeki büyük harfleri küçük, küçük harfleri büyük hale getirir."
   ]
  },
  {
   "cell_type": "code",
   "execution_count": 12,
   "metadata": {},
   "outputs": [
    {
     "name": "stdout",
     "output_type": "stream",
     "text": [
      "Ankara\n",
      "Ankara\n"
     ]
    }
   ],
   "source": [
    "#Capitalize Metodu\n",
    "print (\"ankara\".capitalize())\n",
    "#ya da\n",
    "kent = 'ankara'\n",
    "print (kent.capitalize())"
   ]
  },
  {
   "cell_type": "code",
   "execution_count": 13,
   "metadata": {},
   "outputs": [
    {
     "name": "stdout",
     "output_type": "stream",
     "text": [
      "Baskent Ankara\n",
      "Cumhurbaşkanlığı Senfoni Orkestrası\n"
     ]
    }
   ],
   "source": [
    "#Title Metodu\n",
    "print (\"baskent ankara\".title())\n",
    "#ya da\n",
    "a = \"cumhurbaşkanlığı senfoni orkestrası\"\n",
    "print (a.title())"
   ]
  },
  {
   "cell_type": "code",
   "execution_count": 14,
   "metadata": {},
   "outputs": [
    {
     "name": "stdout",
     "output_type": "stream",
     "text": [
      "DIA\n"
     ]
    }
   ],
   "source": [
    "#Upper Metodu\n",
    "print (\"dia\".upper())"
   ]
  },
  {
   "cell_type": "code",
   "execution_count": 15,
   "metadata": {},
   "outputs": [
    {
     "name": "stdout",
     "output_type": "stream",
     "text": [
      "yerküre\n"
     ]
    }
   ],
   "source": [
    "#Lower Metodu\n",
    "print (\"YERKÜRE\".lower())"
   ]
  },
  {
   "cell_type": "code",
   "execution_count": 18,
   "metadata": {},
   "outputs": [
    {
     "name": "stdout",
     "output_type": "stream",
     "text": [
      "şAKşUkA\n",
      "dari\n"
     ]
    }
   ],
   "source": [
    "#Swapcase Metodu\n",
    "yemek = \"ŞakŞuKa\"\n",
    "print (yemek.swapcase())\n",
    "# yada \n",
    "yem = \"DARI\"\n",
    "print (yem.swapcase())"
   ]
  },
  {
   "cell_type": "markdown",
   "metadata": {},
   "source": [
    "# Büyük-Küçük Harf ve Boşluk Sorgulama\n",
    "\n",
    "    Python bize aynı zamanda karakter dizilerinin büyük-küçük harf durumlarını sorgulama imkanı da veriyor. Bu sorgulama işlemleri için de aşağıdakiler gibi birtakım metotlardan yararlanılır"
   ]
  },
  {
   "cell_type": "code",
   "execution_count": 19,
   "metadata": {},
   "outputs": [
    {
     "name": "stdout",
     "output_type": "stream",
     "text": [
      "True\n"
     ]
    }
   ],
   "source": [
    "#islower()\n",
    "#Karakter dizisinin tamamen küçük harflerden oluşup oluşmadığını sorgular.\n",
    "#islower Metodu\n",
    "print (\"ankara\".islower())"
   ]
  },
  {
   "cell_type": "code",
   "execution_count": 20,
   "metadata": {},
   "outputs": [
    {
     "name": "stdout",
     "output_type": "stream",
     "text": [
      "False\n",
      "True\n"
     ]
    }
   ],
   "source": [
    "#isupper()\n",
    "#Karakter dizisinin tamamen büyük harflerden oluşup oluşmadığını sorgular.\n",
    "#isupper Metodu\n",
    "print (\"dia\".isupper())\n",
    "#ya da\n",
    "print (\"YERKÜRE\".isupper())"
   ]
  },
  {
   "cell_type": "code",
   "execution_count": 21,
   "metadata": {},
   "outputs": [
    {
     "name": "stdout",
     "output_type": "stream",
     "text": [
      "True\n"
     ]
    }
   ],
   "source": [
    "#istitle()\n",
    "#Karakter dizisi içindeki kelimelerin ilk harflerinin büyük olup olmadığını sorgular.\n",
    "#istitle Metodu\n",
    "print (\"Baskent Ankara\".istitle())"
   ]
  },
  {
   "cell_type": "code",
   "execution_count": 22,
   "metadata": {},
   "outputs": [
    {
     "name": "stdout",
     "output_type": "stream",
     "text": [
      "False\n"
     ]
    }
   ],
   "source": [
    "#isspace()\n",
    "\n",
    "#Karakter dizisinin tamamen boşluk karakterlerinden oluşup oluşmadığını sorgular.\n",
    "#isspace Metodu\n",
    "print (\"Cumhurbaşkanlığı Senfoni Orkestrası\".isspace())"
   ]
  },
  {
   "cell_type": "markdown",
   "metadata": {},
   "source": [
    "#   String Verilerde Karakter Değiştirme"
   ]
  },
  {
   "cell_type": "code",
   "execution_count": 23,
   "metadata": {},
   "outputs": [
    {
     "name": "stdout",
     "output_type": "stream",
     "text": [
      "Kihriminmiriş\n"
     ]
    }
   ],
   "source": [
    "#Replace Metodu Yardımıyla 2 ya da 3 parametre belirleyerek karakter değiştirebilir veya silebiliriz. Aşağıdaki örnekte \"a\" harfini gördüğü anda kodumuz \"i\" harfine dönüştürecektir:\n",
    "kelime = \"Kahramanmaraş\"\n",
    "print (kelime.replace(\"a\",\"i\"))"
   ]
  },
  {
   "cell_type": "code",
   "execution_count": 24,
   "metadata": {},
   "outputs": [
    {
     "name": "stdout",
     "output_type": "stream",
     "text": [
      "Khrmnmrş\n"
     ]
    }
   ],
   "source": [
    "#\"a\" harfini silmek istersek:\n",
    "kelime = \"Kahramanmaraş\"\n",
    "kelime_silme = kelime.replace(\"a\", \"\")\n",
    "print (kelime_silme)"
   ]
  },
  {
   "cell_type": "code",
   "execution_count": 25,
   "metadata": {},
   "outputs": [
    {
     "name": "stdout",
     "output_type": "stream",
     "text": [
      "Khrmanmaraş\n"
     ]
    }
   ],
   "source": [
    "#replace'in 3. parametresini kullanarak belirli bir sayıda o karakterden silme (baştan başlayarak ilk iki \"a\" harfini sil):\n",
    "kelime = \"Kahramanmaraş\"\n",
    "kelime_silme = kelime.replace(\"a\", \"\", 2)\n",
    "print (kelime_silme)"
   ]
  },
  {
   "cell_type": "markdown",
   "metadata": {},
   "source": [
    "# String Verilerde Başlangıç ve Bitiş Değerleri Sorgulama"
   ]
  },
  {
   "cell_type": "code",
   "execution_count": 26,
   "metadata": {},
   "outputs": [
    {
     "name": "stdout",
     "output_type": "stream",
     "text": [
      "False\n",
      "True\n"
     ]
    }
   ],
   "source": [
    "#startswith()\n",
    "#String verinin belirli bir değer ile başlayıp başlamadığını sorgular.\n",
    "#startswith Metodu\n",
    "a = \"elma\"\n",
    "print (a.startswith(\"a\"))\n",
    "print (a.startswith(\"e\"))"
   ]
  },
  {
   "cell_type": "code",
   "execution_count": 27,
   "metadata": {},
   "outputs": [
    {
     "name": "stdout",
     "output_type": "stream",
     "text": [
      "True\n",
      "False\n"
     ]
    }
   ],
   "source": [
    "#endswith()\n",
    "#String verinin belirli bir değer ile bitip bitmediğini sorgular.\n",
    "#endswith Metodu\n",
    "b = \"ayva\"\n",
    "print (b.endswith(\"a\"))\n",
    "print (b.endswith(\"e\"))"
   ]
  },
  {
   "cell_type": "code",
   "execution_count": 28,
   "metadata": {},
   "outputs": [
    {
     "name": "stdout",
     "output_type": "stream",
     "text": [
      "Ya ümitsizsiniz, ya ümit sizsiniz.\n",
      "Emeksiz yemek olmaz.\n",
      "Kılçıksız balık, balıksız deniz olmaz.\n",
      "Gülü seven, dikenine katlanır.\n"
     ]
    }
   ],
   "source": [
    "#Kısaca şöyle bir kod yazarak cümle sonlarındaki noktalama işareti karakterlerini değiştirebiliriz:\n",
    "str1 = \"Ya ümitsizsiniz, ya ümit sizsiniz...\"\n",
    "str2 = \"Emeksiz yemek olmaz...\"\n",
    "str3 = \"Kılçıksız balık, balıksız deniz olmaz...\"\n",
    "str4 = \"Gülü seven, dikenine katlanır...\"\n",
    "\n",
    "for i in str1, str2, str3, str4:\n",
    "\tif i.endswith(\"!\") or i.endswith(\".\"):\n",
    "\t\tprint (i.replace(\"...\", \".\"))"
   ]
  },
  {
   "cell_type": "markdown",
   "metadata": {},
   "source": [
    "# String Yapılarda Karakter Konumu Bulma"
   ]
  },
  {
   "cell_type": "code",
   "execution_count": 29,
   "metadata": {},
   "outputs": [
    {
     "name": "stdout",
     "output_type": "stream",
     "text": [
      "0\n"
     ]
    }
   ],
   "source": [
    "#find() Metodu:\n",
    "#Bir karakterin String bir verinin içinde nerede yani verinin hangi konumunda (index) bulunduğunu bulmaya yarar.\n",
    "#Find Metodu\n",
    "a = \"adana\"\n",
    "print(a.find(\"a\"))"
   ]
  },
  {
   "cell_type": "code",
   "execution_count": 30,
   "metadata": {},
   "outputs": [
    {
     "name": "stdout",
     "output_type": "stream",
     "text": [
      "1\n",
      "6\n"
     ]
    }
   ],
   "source": [
    "#rfind() Metodu:\n",
    "#Bir karakterin String bir verinin içinde nerede yani verinin hangi konumunda (index) bulunduğunu tersten ayni sağdan sola doğru arayıp bulmaya yarar.\n",
    "#rFind Metodu\n",
    "b = \"sakarya\"\n",
    "print(b.find(\"a\"))\n",
    "print(b.rfind(\"a\"))"
   ]
  },
  {
   "cell_type": "code",
   "execution_count": 32,
   "metadata": {},
   "outputs": [
    {
     "name": "stdout",
     "output_type": "stream",
     "text": [
      "L.i.n.u.x\n",
      "W*i*n*d*o*w*s\n",
      "C:\\Program Files\\Python26\n",
      "W*i*n*d*o*w*s\n"
     ]
    }
   ],
   "source": [
    "#join() Metodu:\n",
    "#Bir String verinin içerisindeki herbir karakterden sonra eklemek istediğimiz karakteri birleştimeye yarar.\n",
    "#Join Metodu\n",
    "#Formatı: \"eklemek istenilen string ya da karakter değer\".join(değişkenin kendisi = elimizde olan string veri)\n",
    "a = \"Linux\"\n",
    "print (\".\".join(a))\n",
    "b = \"Windows\"\n",
    "print (\"*\".join(b))\n",
    "#Aşağıdaki gibi liste içindeki öğelere dosya yolu da verilebilir:\n",
    "yol = [\"C:\", \"Program Files\", \"Python26\"]\n",
    "print (\"\\\\\".join(yol))\n",
    "b = \"Windows\"\n",
    "print (\"*\".join(b))"
   ]
  },
  {
   "cell_type": "code",
   "execution_count": 34,
   "metadata": {},
   "outputs": [
    {
     "name": "stdout",
     "output_type": "stream",
     "text": [
      "0,1,2,3,4,5,6,7,8,9\n",
      "Stokta bulunan ürünler:\" Mouse,Klavye,Monitör \"\n"
     ]
    }
   ],
   "source": [
    "#Daha önceden boşluk String'ine 0'dan 10'a kadar bir aralıkta değer de atamak için yapılan birleştime örneğinin join metodu ile tek satırda yazılması:\n",
    "print (\",\".join([str(i) for i in range(10)]))\n",
    "\n",
    "#Bir listedeki öğeleri bir cümlede belirli bir formata göre yazdıran fonksiyon satırı:\n",
    "\n",
    "def stok ():\n",
    "    stok = [\"Mouse\", \"Klavye\", u\"Monitör\"]\n",
    "    print (\"Stokta bulunan ürünler:\\\"\",\",\".join(stok), \"\\\"\")\n",
    "\n",
    "stok()"
   ]
  },
  {
   "cell_type": "markdown",
   "metadata": {},
   "source": [
    "# String Yapılarda Karakter Kırpma"
   ]
  },
  {
   "cell_type": "code",
   "execution_count": 36,
   "metadata": {},
   "outputs": [
    {
     "name": "stdout",
     "output_type": "stream",
     "text": [
      "    İçimde bir boşluk var  \n",
      "    İçimde bir boşluk var\n",
      "  \n",
      "  \n",
      "İçimde bir boşluk var  \n",
      "---------------------------------\n",
      "İçimde bir boşluk var\n",
      "    İçimde bir boşluk var\n",
      "İçimde bir boşluk var  \n"
     ]
    }
   ],
   "source": [
    "print (\"    İçimde bir boşluk var  \")\n",
    "print (\"    İçimde bir boşluk var\\n  \")\n",
    "print (\"  \\nİçimde bir boşluk var  \")\n",
    "print(\"---------------------------------\")\n",
    "\n",
    "#strip() Metodu:\n",
    "#Bir String verinin başında (solunda) ve sonunda (sağında) yer alan boşluk ve yeni satır (\\n) gibi karakterleri silemeye yarar.    \n",
    "#rstrip() Metodu:\n",
    "#Bir String verinin sadece sonunda (sağında) yer alan boşluk ve yeni satır (\\n) gibi karakterleri silemeye yarar.\n",
    "#lstrip() Metodu:\n",
    "#Bir String verinin sadece başında (solunda) yer alan boşluk ve yeni satır (\\n) gibi karakterleri silemeye yarar.    \n",
    "print (\"    İçimde bir boşluk var  \".strip())\n",
    "print (\"    İçimde bir boşluk var\\n  \".rstrip())\n",
    "print (\"  \\nİçimde bir boşluk var  \".lstrip())"
   ]
  },
  {
   "cell_type": "markdown",
   "metadata": {},
   "source": [
    "# String Yapılarda Karakterleri Bölme"
   ]
  },
  {
   "cell_type": "code",
   "execution_count": 37,
   "metadata": {},
   "outputs": [
    {
     "name": "stdout",
     "output_type": "stream",
     "text": [
      "['Word', ' Excel', ' PowerPoint', ' Access']\n"
     ]
    }
   ],
   "source": [
    "#split() Metodu:\n",
    "#Bir String verinin içerisindeki karakterleri soldan sağa doğru okuyarak belirlediğimiz bir karakter kriterine String veriyi bölüp liste haline getirmeye yarar.\n",
    "office = \"Word, Excel, PowerPoint, Access\"\n",
    "print (office.split(\",\"))"
   ]
  },
  {
   "cell_type": "code",
   "execution_count": 38,
   "metadata": {},
   "outputs": [
    {
     "name": "stdout",
     "output_type": "stream",
     "text": [
      "['muz', ' lahana, semizotu, enginar']\n"
     ]
    }
   ],
   "source": [
    "#2. bir parametre ile kaç kez ve nereden bölmek istediğinizi belirleyebilirsiniz:\n",
    "sebze = \"muz, lahana, semizotu, enginar\"\n",
    "print (sebze.split(\",\",1))"
   ]
  },
  {
   "cell_type": "code",
   "execution_count": 39,
   "metadata": {},
   "outputs": [
    {
     "name": "stdout",
     "output_type": "stream",
     "text": [
      "['C# bir programlama dilidir.', 'Ama bir Python kadar degil.']\n"
     ]
    }
   ],
   "source": [
    "#rsplit() Metodu:\n",
    "#Bir String verinin içerisindeki karakterleri sağdan sola doğru okuyarak belirlediğimiz bir karakter kriterine String veriyi bölüp liste haline getirmeye yarar. \n",
    "\n",
    "#splitliness() Metodu:\n",
    "#Bir String verinin içerisindeki karakterleri satır sonundan itibaren belirlediğimiz bir karakter kriterine String veriyi bölüp liste haline getirmeye yarar.\n",
    "\n",
    "#String veriyi \"\\n\" kaçış dizisinin olduğu yerden ikiye bölme:     \n",
    "satir = \"C# bir programlama dilidir.\\nAma bir Python kadar degil.\"\n",
    "print (satir.splitlines())"
   ]
  },
  {
   "cell_type": "markdown",
   "metadata": {},
   "source": [
    "# String Yapılarda Karakter Sayımı"
   ]
  },
  {
   "cell_type": "code",
   "execution_count": 41,
   "metadata": {},
   "outputs": [
    {
     "name": "stdout",
     "output_type": "stream",
     "text": [
      "s harfinden = => 1 tane\n",
      "e harfinden = => 1 tane\n",
      "c harfinden = => 1 tane\n",
      "k harfinden = => 1 tane\n",
      "i harfinden = => 1 tane\n",
      "n harfinden = => 3 tane\n",
      "n harfinden = => 3 tane\n",
      "n harfinden = => 3 tane\n"
     ]
    }
   ],
   "source": [
    "#count() Metodu:\n",
    "#Bir String verinin içerisindeki belirli bir karakterden kaç adet bulunduğunu belirlemeye yarar.\n",
    "#Aşağıdaki çalışmada kullanıcıdan herhangi bir karakter dizisi girmesini istiyoruz. \n",
    "#Kodlarımız bize, kullanıcının girdiği karakter dizisi içinde her bir harften kaç tane olduğunu söylüyor:\n",
    "\n",
    "#replace metodu ile karakter dizisi içindeki boşlukları siliyoruz.\n",
    "soru = input(\"Bir karakter dizisi giriniz: \").replace(\" \", \"\")\n",
    "\n",
    "#Listeleri kullanarak, karakter dizisi içindeki\n",
    "#çift öğeleri teke indiriyoruz\n",
    "ortak = list(soru)\n",
    "\n",
    "#ortak kümesi içindeki öğeleri karakter dizisi içinde kaçar adet geçtiğini buluyoruz.\n",
    "for i in ortak:\n",
    "        print (\"%s harfinden = => %s tane\" %(i, soru.count(i)))"
   ]
  },
  {
   "cell_type": "code",
   "execution_count": 42,
   "metadata": {},
   "outputs": [
    {
     "name": "stdout",
     "output_type": "stream",
     "text": [
      "75\n",
      "2550\n"
     ]
    }
   ],
   "source": [
    "#input() ve raw_input() - Kullanıcıdan Integer ve String Veri Alma Fonksiuonları ve Güvenlik Açısından İşlevsel Farklılıkları\n",
    "\n",
    "#String işlemlerini ve sayısal işlemleri yakından ilgilendiren bir diğer konu ise:  \"raw_input()\" ve \"input()\" fonksiyonlarıdır.\n",
    "#-*- coding: utf-8 -*-\n",
    "\n",
    "#raw_input() ve input() FONKSİYONU FARKLILIKLARI\n",
    "\n",
    "\n",
    "\"\"\"   \n",
    "raw_input() ile input() arasındaki fark, aşağıdaki iki örnek arasındaki farka benzer:\n",
    "Aşağıdaki örneklerde, Python’ın sayılara ve karakter dizilerine nasıl davrandığını görüyoruz.\n",
    "Eğer Python iki adet sayıyla karşılaşırsa bu sayıları birbiriyle topluyor. \n",
    "Ama eğer iki adet karakter dizisiyle karşılaşırsa, bu karakter dizilerini yanyana yazmakla yetiniyor...\n",
    "\n",
    "\n",
    "\"\"\"\n",
    "\n",
    "\n",
    "print (25 + 50) #Ekrana sayıların toplamı geliyor!\n",
    "print (\"25\" + \"50\") #Burada ise ekrana sayıların toplamı yerine \"\" içerisinde yazılmış bir String değer geliyor!"
   ]
  },
  {
   "cell_type": "code",
   "execution_count": 46,
   "metadata": {},
   "outputs": [
    {
     "name": "stdout",
     "output_type": "stream",
     "text": [
      "\n",
      "Girdiginiz sayi \t\t: 4\n"
     ]
    },
    {
     "ename": "TypeError",
     "evalue": "can't multiply sequence by non-int of type 'str'",
     "output_type": "error",
     "traceback": [
      "\u001b[1;31m---------------------------------------------------------------------------\u001b[0m",
      "\u001b[1;31mTypeError\u001b[0m                                 Traceback (most recent call last)",
      "Cell \u001b[1;32mIn[46], line 8\u001b[0m\n\u001b[0;32m      5\u001b[0m sayi \u001b[39m=\u001b[39m \u001b[39minput\u001b[39m(\u001b[39m\"\u001b[39m\u001b[39mBir sayi girin. Ben size o sayinin karesini soyleyeyim: \u001b[39m\u001b[39m\"\u001b[39m)\n\u001b[0;32m      7\u001b[0m \u001b[39mprint\u001b[39m (\u001b[39m\"\u001b[39m\u001b[39m\\n\u001b[39;00m\u001b[39mGirdiginiz sayi \u001b[39m\u001b[39m\\t\u001b[39;00m\u001b[39m\\t\u001b[39;00m\u001b[39m: \u001b[39m\u001b[39m%s\u001b[39;00m\u001b[39m\"\u001b[39m \u001b[39m%\u001b[39m(sayi))\n\u001b[1;32m----> 8\u001b[0m \u001b[39mprint\u001b[39m (\u001b[39m\"\u001b[39m\u001b[39m\\n\u001b[39;00m\u001b[39mGirdiginiz sayinin karesi: \u001b[39m\u001b[39m%s\u001b[39;00m\u001b[39m\"\u001b[39m \u001b[39m%\u001b[39m (sayi \u001b[39m*\u001b[39;49m sayi)) \u001b[39m#Burada hata mesajı alacağız çünkü aladığımız veri tipi String ve String bir değer ile matematiksel bir işlem yapılamaz!'\u001b[39;00m\n",
      "\u001b[1;31mTypeError\u001b[0m: can't multiply sequence by non-int of type 'str'"
     ]
    }
   ],
   "source": [
    "#raw_input() fonksiyonunu kullanırken parantez içinde yazdığımız karakter dizisi, \n",
    "#kullanıcıdan ne beklediğimizi göstermemizi sağlar. \n",
    "#Eğer daha sonra kullanmak üzere bir değişkene atayarak bu bilgiyi kullanıcıdan alırsak, bu bilginin String tipinde aktarılacağını unutmayalım:\n",
    "\n",
    "sayi = input(\"Bir sayi girin. Ben size o sayinin karesini soyleyeyim: \")\n",
    "\n",
    "print (\"\\nGirdiginiz sayi \\t\\t: %s\" %(sayi))\n",
    "print (\"\\nGirdiginiz sayinin karesi: %s\" % (sayi * sayi)) #Burada hata mesajı alacağız çünkü aladığımız veri tipi String ve String bir değer ile matematiksel bir işlem yapılamaz!'\n"
   ]
  },
  {
   "cell_type": "code",
   "execution_count": 44,
   "metadata": {},
   "outputs": [
    {
     "name": "stdout",
     "output_type": "stream",
     "text": [
      "\n",
      "Girdiginiz sayi\t\t: 4\n",
      "\n",
      "Girdiginiz sayinin karesi: 16\n"
     ]
    }
   ],
   "source": [
    "#Bunun yerine Stirng değerimizi Integer değere dönüştürerek şu işlemimizi yapabiliriz:\n",
    "\n",
    "print (\"\\nGirdiginiz sayi\\t\\t: %s\" %int(sayi))\n",
    "print (\"\\nGirdiginiz sayinin karesi: %s\" % int(sayi) ** 2)"
   ]
  },
  {
   "cell_type": "code",
   "execution_count": 47,
   "metadata": {},
   "outputs": [
    {
     "name": "stdout",
     "output_type": "stream",
     "text": [
      "Girdiginiz sayinin karesi:  16\n"
     ]
    }
   ],
   "source": [
    "#Bu sayede String olarak girdiğimiz sayı değerimiz Integer bir rakama dönüştürüldü.\n",
    "#Fakat eğer kullanıcımız rakam yerine yanlışlıkla karakter ya da String bir değer girerse bunun için de şu şekilde bir önlem almamız mümkün:\n",
    "\n",
    "try:\n",
    "    n = int(sayi)\n",
    "    print (\"Girdiginiz sayinin karesi: \", n ** 2)\n",
    "\n",
    "except ValueError:\n",
    "    print (\"String bir deger yerine Integer bir rakam giriniz: \")"
   ]
  },
  {
   "cell_type": "code",
   "execution_count": null,
   "metadata": {},
   "outputs": [],
   "source": []
  }
 ],
 "metadata": {
  "kernelspec": {
   "display_name": "Python 3",
   "language": "python",
   "name": "python3"
  },
  "language_info": {
   "codemirror_mode": {
    "name": "ipython",
    "version": 3
   },
   "file_extension": ".py",
   "mimetype": "text/x-python",
   "name": "python",
   "nbconvert_exporter": "python",
   "pygments_lexer": "ipython3",
   "version": "3.11.4"
  },
  "orig_nbformat": 4
 },
 "nbformat": 4,
 "nbformat_minor": 2
}
