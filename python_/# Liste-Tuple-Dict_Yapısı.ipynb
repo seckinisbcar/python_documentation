{
 "cells": [
  {
   "cell_type": "markdown",
   "metadata": {},
   "source": [
    "# Liste-Tuple-Dict Yapısı\n",
    "## List <<Liste>> Yapıları\n",
    "\"list\" ile tanımlanır. Listeleri kullanabilmek için öncelikle bir liste oluşturmamız gerekir. Python’da herhangi bir liste oluşturmak için önce listemize bir ad verilmeli, ardından da köşeli parantezler içinde bu listenin öğelerini belirlenmelidir.\n",
    "Yani liste oluştururken dikkat etmemiz gereken üç temel nokta var: \n",
    "\n",
    "    -Birincisi tıpkı değişkenlere isim veriyormuşuz gibi listeye de isim vermek. Ancak bu isimler Türkçe karakter içermemelidir. \n",
    "\n",
    "    -İkincisi, listemizi oluşturan öğeleri köşeli parantezler \"[]\" içinde yazmak.\n",
    "\n",
    "    -Python'un listeleri ayırt edebilmesinin üçüncü temel kriteri ise, listenin içindeki her bir öğenin (\"\") - tırnak işareti içinde belirtilmesi ve de virgüllerle - (,) ayrılmasıdır.\n",
    "    "
   ]
  },
  {
   "cell_type": "code",
   "execution_count": 2,
   "metadata": {},
   "outputs": [
    {
     "name": "stdout",
     "output_type": "stream",
     "text": [
      "['Hale', 'Jale', 'Lale', 12, 23]\n"
     ]
    }
   ],
   "source": [
    "\n",
    "\n",
    "liste = [] #Boş Liste Oluşturma\n",
    "#Liste tipinde içinde öğeleri olan bir öğe oluşturma\n",
    "\n",
    "l = [\"Hale\",\"Jale\",\"Lale\",12,23]\n",
    "\n",
    "print(l) #Bakalım oluşturduğumuz liste nasıl görünecek"
   ]
  },
  {
   "cell_type": "code",
   "execution_count": 3,
   "metadata": {},
   "outputs": [
    {
     "name": "stdout",
     "output_type": "stream",
     "text": [
      "['e', 'l', 'm', 'a']\n"
     ]
    }
   ],
   "source": [
    "#Bir karakter dizisinin (String'in) içindeki karakterlerden liste oluşturma:\n",
    "\n",
    "meyve = \"elma\"\n",
    "print(list(meyve))"
   ]
  },
  {
   "cell_type": "code",
   "execution_count": 4,
   "metadata": {},
   "outputs": [
    {
     "name": "stdout",
     "output_type": "stream",
     "text": [
      "['elma', 'armut', 'kiraz']\n"
     ]
    }
   ],
   "source": [
    "#Birden çok String'in içindeki karakterlerden bir liste oluşturma:\n",
    "\n",
    "a = \"elma\"\n",
    "b = \"armut\"\n",
    "c = \"kiraz\"\n",
    "\n",
    "print(list((a,b,c)))"
   ]
  },
  {
   "cell_type": "code",
   "execution_count": 5,
   "metadata": {},
   "outputs": [
    {
     "name": "stdout",
     "output_type": "stream",
     "text": [
      "['futbol', 'basketbol', 'tenis', 'golf']\n"
     ]
    }
   ],
   "source": [
    "#LİSTE'NİN ÖĞELERİNE ERİŞİM\n",
    "\n",
    "#Bir liste içine öğe eklemek istediğimiz zaman, öğeleri birbirinden virgül ile ayırıyoruz:\n",
    "\n",
    "spor = [\"futbol\", \"basketbol\", \"tenis\", \"golf\"]\n",
    "print (spor)"
   ]
  },
  {
   "cell_type": "code",
   "execution_count": 6,
   "metadata": {},
   "outputs": [
    {
     "name": "stdout",
     "output_type": "stream",
     "text": [
      "Debian\n",
      "26\n"
     ]
    }
   ],
   "source": [
    "#Tanımladığımız bir listenin öğe sayısını, len() fonksiyonu yardımıyla elde edebiliriz:\n",
    "\n",
    "dagitimlar = [\"Ubuntu\", \"Debian\", \"Fedora\", \"Arch\", \"Gentoo\", \"SuSe\", \n",
    "\"Pardus\", \"RedHat\", \"Truva\", \"Gelecek\", \"Mint\", \"Mandriva\", \"PCLinuxOs\",\n",
    "\"Sabayon\", \"Mepis\", \"Puppy\", \"Slackware\", \"CentOS\", \"Knoppix\", \"Zenwalk\",\n",
    "\"Sidux\", \"Elive\", \"Nexenta\", \"GNewSense\", \"Ututo\", \"Vector\"]\n",
    "\n",
    "#Listelerde öğelerin sırası 0. öğeden başlayarak ilerler!\n",
    "\n",
    "print (dagitimlar [1]) #Yani, 1. öğe olan \"Debian\" öğesini ekranda görürüz \n",
    "print (len(dagitimlar)) #Listemizin uzunluğunu yani kaç öğeden oluştuğunu len() fonksiyonu ile öğrenebiliriz.\n"
   ]
  },
  {
   "cell_type": "code",
   "execution_count": 7,
   "metadata": {},
   "outputs": [
    {
     "name": "stdout",
     "output_type": "stream",
     "text": [
      "['Hale', 'Jale', 'Lale', 'Ahmet']\n",
      "['Hale', 'Jale', 'Lale', 'Ahmet', 'Mehmet', 'Kezban']\n"
     ]
    }
   ],
   "source": [
    "#Listede belirli bir aralıktaki öğeleri seçebilmek:\n",
    "a = [\"Hale\", \"Jale\", \"Lale\", \"Ahmet\", \"Mehmet\", \"Kezban\"]\n",
    "print (a[:4]) #0. öğeden 4. öğeye kadar ekrana gönderme\n",
    "print (a [:]) #0. öğeden listenin son öğesi dahil tüm öğeleri ekrana gönderme\n"
   ]
  },
  {
   "cell_type": "code",
   "execution_count": 8,
   "metadata": {},
   "outputs": [
    {
     "name": "stdout",
     "output_type": "stream",
     "text": [
      "['Hale', 'Jale', 'Lale', 'Ahmet', 'Mehmet', 'Kezban']\n",
      "\n",
      " ['Hale', 'Jale', 'Lale', 'Ahmet', 'Mehmet', 'Kezban']\n"
     ]
    }
   ],
   "source": [
    "#NOT: Aynı öğelere sahip iki farklı liste oluşturduk diyelim. Yalnız bu iki listenin birbirinden farklı olduğunu unutmayalım. Yani bir liste üzerinde yaptığınız değişiklik öteki listeyi etkilemeyecektir.\n",
    "\n",
    "liste = [\"Hale\", \"Jale\", \"Lale\", \"Ahmet\", \"Mehmet\", \"Kezban\"]\n",
    "liste2 = liste[:] #\"liste\" listemizi başından sonunda tüm öğelerini \"liste2\" listemize oluşturduk.\n",
    "\n",
    "#Her iki liste de aynı öğelere sahip mi kontrol edelim:\n",
    "\n",
    "print (liste2)\n",
    "print (\"\\n\",liste)"
   ]
  },
  {
   "cell_type": "code",
   "execution_count": 9,
   "metadata": {},
   "outputs": [
    {
     "name": "stdout",
     "output_type": "stream",
     "text": [
      "['Hale', 'Lale', 'Mehmet']\n"
     ]
    }
   ],
   "source": [
    "#Listelerdeki öğelere başlangıç ve bitiş sırası belirterek erişebilirken üçüncü bir sayı daha belirterek de erişebiliriz:\n",
    "\n",
    "#Listemizi baştan sona 2şer 2şer atlayarak öğeleri ekranda görüntüleyelim:\n",
    "\n",
    "print (liste [0:6:2])"
   ]
  },
  {
   "cell_type": "code",
   "execution_count": 10,
   "metadata": {},
   "outputs": [
    {
     "name": "stdout",
     "output_type": "stream",
     "text": [
      "['Hale', 'Lale', 'Mehmet']\n"
     ]
    }
   ],
   "source": [
    "#Hiçbir rakam belirtmezsek ilk ve son öğelerin sırası için listeyi baştan sona 2şer 2şer görüntüle anlamına gelir.\n",
    "\n",
    "print (liste2 [::2]) "
   ]
  },
  {
   "cell_type": "code",
   "execution_count": 11,
   "metadata": {},
   "outputs": [
    {
     "name": "stdout",
     "output_type": "stream",
     "text": [
      "['Kezban', 'Ahmet', 'Jale']\n"
     ]
    }
   ],
   "source": [
    "#Hiçbir rakam belirtmeyip son değere \"-\"li negatif bir değer verirsek bu sefer listemizi tersten yani sondan başa o değer kadar gerileyerek seçer:\n",
    "\n",
    "print (liste [::-2]) #Sondan başa 2'şer 2'şer görüntüle"
   ]
  },
  {
   "cell_type": "code",
   "execution_count": 12,
   "metadata": {},
   "outputs": [
    {
     "name": "stdout",
     "output_type": "stream",
     "text": [
      "['Kezban', 'Mehmet', 'Ahmet', 'Lale', 'Jale', 'Hale']\n"
     ]
    }
   ],
   "source": [
    "#Listemizi tersten ekrana çıkartmak istersek de teker teker ilerlemesi için son değerimizi 1 olarak belirtmemiz gerekir: \n",
    "\n",
    "print (liste[::-1])"
   ]
  },
  {
   "cell_type": "markdown",
   "metadata": {},
   "source": [
    "# LİSTE METOTLARI\n",
    "\n",
    "    \"append, count, extend, index, insert, pop, remove, reverse, sort\" meteotları sık kullanılan metotlardır!!!\n"
   ]
  },
  {
   "cell_type": "code",
   "execution_count": 13,
   "metadata": {},
   "outputs": [
    {
     "name": "stdout",
     "output_type": "stream",
     "text": [
      "['Python', 'Ruby', 'Perl']\n"
     ]
    }
   ],
   "source": [
    "#print dir([]) #Listelerin hangi metotlara sahip olduğunu ne gibi özelliklerinin olduğunu gösterir.\n",
    "\n",
    "\n",
    "#Append Metodu ile Listeye Bir Öğe Eklemek:\n",
    "\n",
    "programlama_dilleri = [\"Python\", \"Ruby\", \"Perl\"]\n",
    "print (programlama_dilleri)"
   ]
  },
  {
   "cell_type": "code",
   "execution_count": 14,
   "metadata": {},
   "outputs": [
    {
     "name": "stdout",
     "output_type": "stream",
     "text": [
      "['C#']\n"
     ]
    }
   ],
   "source": [
    "programlama_dilleri=[]\n",
    "programlama_dilleri.append(\"C#\") #Tek öğe ekliyor\n",
    "print (programlama_dilleri)"
   ]
  },
  {
   "cell_type": "code",
   "execution_count": 15,
   "metadata": {},
   "outputs": [
    {
     "name": "stdout",
     "output_type": "stream",
     "text": [
      "Fatih\n",
      "Umit\n",
      "Ferit\n",
      "Cihan\n",
      "Ufuk\n",
      "Baran\n",
      "Abdullah\n",
      "Suna\n",
      "UmitTamer\n"
     ]
    }
   ],
   "source": [
    "#For ile liste öğelerini tek tek ekrana gönderme:\n",
    "names = [\"Fatih\", \"Umit\", \"Ferit\", \"Cihan\", \"Ufuk\", \"Baran\", \"Abdullah\", \"Suna\", \"UmitTamer\"]\n",
    "\n",
    "for names_item in names:\n",
    "    print (names_item)"
   ]
  },
  {
   "cell_type": "code",
   "execution_count": 16,
   "metadata": {},
   "outputs": [
    {
     "name": "stdout",
     "output_type": "stream",
     "text": [
      "[['Ankara', 'Izmir', 'Samsun', 'Konya', '...vs.']]\n"
     ]
    }
   ],
   "source": [
    "#Append Metodu: ile listeye 1den fazla öğe ekleme ve ekrana gönderme... \n",
    "#Ancak bu yöntem iç içe liste oluştururduğundan pek de kullanışlı değildir...\n",
    "\n",
    "iller = []\n",
    "iller.append([\"Ankara\",\"Izmir\",\"Samsun\",\"Konya\",\"...vs.\"])\n",
    "print (iller)"
   ]
  },
  {
   "cell_type": "code",
   "execution_count": 17,
   "metadata": {},
   "outputs": [
    {
     "name": "stdout",
     "output_type": "stream",
     "text": [
      "['Adana', 'Mersin']\n"
     ]
    }
   ],
   "source": [
    "#For loop ile oluşturulmuş bir listeden bir başka listeye öğe ekleme:\n",
    "lst = [\"Adana\", \"Mersin\"]\n",
    "\n",
    "iller = []\n",
    "\n",
    "for i in lst:\n",
    "    iller.append(i)\n",
    "\n",
    "print (iller)"
   ]
  },
  {
   "cell_type": "code",
   "execution_count": 18,
   "metadata": {},
   "outputs": [
    {
     "name": "stdout",
     "output_type": "stream",
     "text": [
      "['Adana', 'Mersin']\n"
     ]
    }
   ],
   "source": [
    "#Extend Metodu: ile boş bir listeyi başka bir liste ile genişletme:\n",
    "vilayetler = []\n",
    "\n",
    "vilayetler.extend([\"Adana\", \"Mersin\"])\n",
    "print (vilayetler)"
   ]
  },
  {
   "cell_type": "code",
   "execution_count": 19,
   "metadata": {},
   "outputs": [
    {
     "name": "stdout",
     "output_type": "stream",
     "text": [
      "['Mac', 'Win', 'G', 'N', 'U', '/', 'L', 'i', 'n', 'u', 'x']\n"
     ]
    }
   ],
   "source": [
    "#\"extend()\" metodu ile içi dolu bir listeye bir öğe ekleme:\n",
    "os = ['Mac','Win']\n",
    "\n",
    "os.extend (\"GNU/Linux\") #Burada dikkat etmemiz gereken \"extend\" metodu ile listeye tek bir öğe ekleyebileceğimiz!!!\n",
    "print (os) #Listenin sonuna tek tek string'in harflarini ekleyerek ekrana çıkartır!\n"
   ]
  },
  {
   "cell_type": "code",
   "execution_count": 20,
   "metadata": {},
   "outputs": [
    {
     "name": "stdout",
     "output_type": "stream",
     "text": [
      "['Mac', 'Win', 'G', 'N', 'U', '/', 'L', 'i', 'n', 'u', 'x']\n"
     ]
    }
   ],
   "source": [
    "#for loop ile extend metodu yerine append metodu ile stringin harflerini ekrana gönderme:\n",
    "os = ['Mac','Win']\n",
    "\n",
    "for harf in \"GNU/Linux\":\n",
    "    os.append(harf)\n",
    "\n",
    "print (os)"
   ]
  },
  {
   "cell_type": "code",
   "execution_count": 21,
   "metadata": {},
   "outputs": [
    {
     "name": "stdout",
     "output_type": "stream",
     "text": [
      "['Ali', 'Ahmet', 'Mehmet', 'Salih']\n"
     ]
    }
   ],
   "source": [
    "#Insert Metodu: Öğeleri listeye belirli bir düzende ve sırada yerleştirmeye yarar:\n",
    "\n",
    "lst = [\"Ahmet\", \"Mehmet\", \"Salih\"]\n",
    "\n",
    "lst.insert(0, \"Ali\")\n",
    "\n",
    "print (lst)"
   ]
  },
  {
   "cell_type": "code",
   "execution_count": 22,
   "metadata": {},
   "outputs": [
    {
     "name": "stdout",
     "output_type": "stream",
     "text": [
      "['Ilkbahar', 'Yaz', 'Sonbahar', 'Kis']\n"
     ]
    }
   ],
   "source": [
    "#Listeden Öğe Silmek\n",
    "\n",
    "mevsimler = [\"Ilkbahar\", \"Yaz\", \"Sonbahar\", \"Kis\"]\n",
    "\n",
    "print (mevsimler)"
   ]
  },
  {
   "cell_type": "code",
   "execution_count": 23,
   "metadata": {},
   "outputs": [
    {
     "name": "stdout",
     "output_type": "stream",
     "text": [
      "['Yaz', 'Sonbahar', 'Kis']\n"
     ]
    }
   ],
   "source": [
    "#remove liste metodu ile belirlediğimiz öğeyi silebiliriz:\n",
    "\n",
    "mevsimler.remove(\"Ilkbahar\") \n",
    "\n",
    "print (mevsimler)"
   ]
  },
  {
   "cell_type": "code",
   "execution_count": 24,
   "metadata": {},
   "outputs": [
    {
     "name": "stdout",
     "output_type": "stream",
     "text": [
      "['Sonbahar', 'Kis']\n"
     ]
    }
   ],
   "source": [
    "#del fonksiyonu da benzer bir işleve sahiptir. Tek farkı ile listeden sırasını bildiğimiz belirli bir öğeyi silmemizi sağlar:\n",
    "\n",
    "del mevsimler [0]\n",
    "\n",
    "print (mevsimler)"
   ]
  },
  {
   "cell_type": "code",
   "execution_count": 25,
   "metadata": {},
   "outputs": [
    {
     "ename": "NameError",
     "evalue": "name 'mevsimler' is not defined",
     "output_type": "error",
     "traceback": [
      "\u001b[1;31m---------------------------------------------------------------------------\u001b[0m",
      "\u001b[1;31mNameError\u001b[0m                                 Traceback (most recent call last)",
      "Cell \u001b[1;32mIn[25], line 5\u001b[0m\n\u001b[0;32m      1\u001b[0m \u001b[39mdel\u001b[39;00m mevsimler\n\u001b[0;32m      3\u001b[0m \u001b[39m#Mevsimler listesi tamamen silindiği için print satırında hata verecektir:\u001b[39;00m\n\u001b[1;32m----> 5\u001b[0m \u001b[39mprint\u001b[39m (mevsimler )\n",
      "\u001b[1;31mNameError\u001b[0m: name 'mevsimler' is not defined"
     ]
    }
   ],
   "source": [
    "del mevsimler\n",
    "\n",
    "#Mevsimler listesi tamamen silindiği için print satırında hata verecektir:\n",
    "\n",
    "print (mevsimler )"
   ]
  },
  {
   "cell_type": "code",
   "execution_count": 26,
   "metadata": {},
   "outputs": [
    {
     "name": "stdout",
     "output_type": "stream",
     "text": [
      "['Monday', 'Tuesday', 'Wednesday', 'Thursday', 'Friday', 'Saturday']\n"
     ]
    }
   ],
   "source": [
    "#Pop Metodu: ile belirli bir öğeyi silip ekrana gönderme işlemi:\n",
    "\n",
    "days = [\"Monday\",\"Tuesday\",\"Wednesday\",\"Thursday\",\"Friday\",\"Saturday\",\"Sunday\"]\n",
    "\n",
    "days.pop() #days listemizin son öğesi olan \"Sunday\" günü silinip ekranda gösterilir.\n",
    "\n",
    "print (days) #days listesinin son öğesine kadar kalan öğeleri görüntüler."
   ]
  },
  {
   "cell_type": "code",
   "execution_count": 27,
   "metadata": {},
   "outputs": [
    {
     "name": "stdout",
     "output_type": "stream",
     "text": [
      "['Tuesday', 'Wednesday', 'Thursday', 'Friday', 'Saturday']\n"
     ]
    }
   ],
   "source": [
    "days.pop(0) #pop() metodunun içinde bir sayı belirtirsek o sayı sırasındaki öğeyi seçip siler ve ekranda görüntüler.\n",
    "\n",
    "print (days) #days listesinin ilk ve son öğeleri hariç kalan öğeleri görüntüleyecektir."
   ]
  },
  {
   "cell_type": "code",
   "execution_count": 28,
   "metadata": {},
   "outputs": [
    {
     "name": "stdout",
     "output_type": "stream",
     "text": [
      "[0, 1, 2, 3, 4, 5, 6, 7, 8, 9]\n"
     ]
    }
   ],
   "source": [
    "#range() fonksiyonu ile rakamlardan oluşan bir liste oluşturma\n",
    "\n",
    "liste = range(10) #0'dan 10'a kadar rakamlardan oluşan bir sayı listesi...\n",
    "sayilar=list(liste)\n",
    "print (sayilar)"
   ]
  },
  {
   "cell_type": "code",
   "execution_count": 29,
   "metadata": {},
   "outputs": [
    {
     "name": "stdout",
     "output_type": "stream",
     "text": [
      "[9, 8, 7, 6, 5, 4, 3, 2, 1, 0]\n"
     ]
    }
   ],
   "source": [
    "#Reverse Metodu: ile liste öğelerini ters sıralamada yeniden oluşturma:\n",
    "\n",
    "sayilar.reverse() \n",
    "\n",
    "print (sayilar)"
   ]
  },
  {
   "cell_type": "code",
   "execution_count": 30,
   "metadata": {},
   "outputs": [
    {
     "name": "stdout",
     "output_type": "stream",
     "text": [
      "['Ahmet', 'Doruk', 'Ege', 'Mehmet', 'Selami']\n"
     ]
    }
   ],
   "source": [
    "isimler = [\"Ahmet\", \"Mehmet\", \"Selami\", \"Doruk\", \"Ege\"]\n",
    "\n",
    "#Sort Metodu: eğer listenin öğeleri string ya da karakterlerden oluşuyorsa alfabe sırasına göre listeyi yeniden düzenler:\n",
    "\n",
    "isimler.sort() #alfabe sırasına göre sıralama yaptı.\n",
    "\n",
    "print (isimler)\n"
   ]
  },
  {
   "cell_type": "code",
   "execution_count": 31,
   "metadata": {},
   "outputs": [
    {
     "name": "stdout",
     "output_type": "stream",
     "text": [
      "0\n"
     ]
    }
   ],
   "source": [
    "#Index Metodu: Eğer bir liste içinde aynı öğeden birden fazla sayıda varsa, bu metot yalnızca ilk rastladığı öğeyi bulacaktır.\n",
    "\n",
    "meyveler = [\"elma\", \"erik\", \"elma\", \"çilek\",\"karpuz\", \"kavun\", \"su\", \"elma\"]\n",
    "\n",
    "print (meyveler.index(\"elma\")) #İlk \"elma\" öğesini bulduğu yerin indexini ekrana gönderir.\n"
   ]
  },
  {
   "cell_type": "code",
   "execution_count": 32,
   "metadata": {},
   "outputs": [
    {
     "name": "stdout",
     "output_type": "stream",
     "text": [
      "7\n"
     ]
    }
   ],
   "source": [
    "print (meyveler.index(\"elma\", 3)) #3. liste öğesinden başlayarak \"elma\" öğesini ilk gördüğü yerin indexini ekrana gönderir.\n"
   ]
  },
  {
   "cell_type": "code",
   "execution_count": 33,
   "metadata": {},
   "outputs": [
    {
     "name": "stdout",
     "output_type": "stream",
     "text": [
      "2\n"
     ]
    }
   ],
   "source": [
    "print (meyveler.index(\"elma\", 1)) #1. liste öğesinden başlayarak bulduğu ilk \"elma\" öğesinin sıra numarasını ekrana gönderir.\n"
   ]
  },
  {
   "cell_type": "code",
   "execution_count": 34,
   "metadata": {},
   "outputs": [
    {
     "name": "stdout",
     "output_type": "stream",
     "text": [
      "aranan öğe 0 konumunda bulundu!\n",
      "aranan öğe 2 konumunda bulundu!\n",
      "aranan öğe 7 konumunda bulundu!\n"
     ]
    }
   ],
   "source": [
    "#Bir liste içindeki öğelerin hangi konumlarda yer aldığını gösteren bir program\n",
    "\n",
    "#Meyveler listesini tanımlayalım...\n",
    "meyveler = [\"elma\", \"erik\", \"elma\", \"çilek\",\n",
    "            \"karpuz\", \"kavun\", \"su\", \"elma\"]\n",
    "\n",
    "#Bu sayı index() metodunun parantezi içindeki\n",
    "#ikinci değer olacak. Bu değeri bir while\n",
    "#döngüsü içinde birer birer arttıracağız.\n",
    "sira = 0\n",
    "\n",
    "#Bu liste, aranan öğenin listede bulunduğu\n",
    "#konumları tutuyor.\n",
    "liste = []\n",
    "\n",
    "#while döngümüzü yazıyoruz.\n",
    "while sira < len(meyveler):\n",
    "    #Bu try... except... bloğunun görevini anlamak\n",
    "    #için \"elma\" yerine başka bir öğe koyun ve try...\n",
    "    #except... bloklarını kaldırın.\n",
    "    try:\n",
    "        oge = meyveler.index(\"elma\", sira)\n",
    "    except ValueError:\n",
    "        pass\n",
    "\n",
    "    #sıra değişkeninin değerini birer birer\n",
    "    #arttırıyoruz. Böylece index() metodu listenin\n",
    "    #her noktasını tarayabiliyor.\n",
    "    sira += 1\n",
    "\n",
    "    #Burada amacımız aynı sayının listeye eklenmesini\n",
    "    #engellemek. Bunu tam olarak ne işe yaradığını\n",
    "    #anlamak için de \"if not oge in liste:\" satırını\n",
    "    #kaldırmayı deneyebilirsiniz.\n",
    "    if not oge in liste:\n",
    "        liste.append(oge)\n",
    "\n",
    "#listedeki değerleri bir karakter dizisi içine\n",
    "#alıp ekrana basıyoruz.\n",
    "for nmr in liste:\n",
    "    print (\"aranan öğe %s konumunda bulundu!\"%nmr)"
   ]
  },
  {
   "cell_type": "code",
   "execution_count": 35,
   "metadata": {},
   "outputs": [
    {
     "name": "stdout",
     "output_type": "stream",
     "text": [
      "2\n"
     ]
    }
   ],
   "source": [
    "#Count Metodu: Aranan liste öğesinin liste içinde ne kadar var olduğunu belirtir:\n",
    "\n",
    "lst = [\"erik\", \"çilek\", \"karpuz\", \"erik\", \"kavun\", \"karpuz\", \"çilek\"]\n",
    "\n",
    "print (lst.count(\"erik\"))"
   ]
  },
  {
   "cell_type": "code",
   "execution_count": 36,
   "metadata": {},
   "outputs": [
    {
     "name": "stdout",
     "output_type": "stream",
     "text": [
      "The sum of the numbers is:  1\n",
      "The sum of the numbers is:  3\n",
      "The sum of the numbers is:  6\n",
      "The sum of the numbers is:  10\n",
      "The sum of the numbers is:  15\n",
      "The sum of the numbers is:  21\n",
      "The sum of the numbers is:  28\n",
      "Goodbye!\n"
     ]
    }
   ],
   "source": [
    "#Kullanıcıdan aldığı sayıları birbiriyle toplayan bir program\n",
    "\n",
    "numbers = [] #numbers listesi tanımlandı.\n",
    "\n",
    "while True:\n",
    "    num = input(\"Number: \") #num değişkenine kullanıcıdan alınan sayı atandı\n",
    "    if num == \"q\": #Eğer kullanıcı \"q\" değerini girerse,\n",
    "        print (\"Goodbye!\") \n",
    "        break #Programdan çık\n",
    "    \n",
    "    else:\n",
    "        numbers.append(int(num)) #Yoksa kullanıcı listeye sayı eklemeye devam edene kadar...\n",
    "\n",
    "    print (\"The sum of the numbers is: \", sum(numbers)) #Toplama işlemine devam et!\n"
   ]
  },
  {
   "cell_type": "code",
   "execution_count": 37,
   "metadata": {},
   "outputs": [
    {
     "name": "stdout",
     "output_type": "stream",
     "text": [
      "['__add__', '__class__', '__class_getitem__', '__contains__', '__delattr__', '__delitem__', '__dir__', '__doc__', '__eq__', '__format__', '__ge__', '__getattribute__', '__getitem__', '__getstate__', '__gt__', '__hash__', '__iadd__', '__imul__', '__init__', '__init_subclass__', '__iter__', '__le__', '__len__', '__lt__', '__mul__', '__ne__', '__new__', '__reduce__', '__reduce_ex__', '__repr__', '__reversed__', '__rmul__', '__setattr__', '__setitem__', '__sizeof__', '__str__', '__subclasshook__', 'append', 'clear', 'copy', 'count', 'extend', 'index', 'insert', 'pop', 'remove', 'reverse', 'sort']\n"
     ]
    }
   ],
   "source": [
    "#dir() komutu ile listenin tüm metotları paragraf görünümde karışık olarak alınır:\n",
    "print (dir(list))"
   ]
  },
  {
   "cell_type": "code",
   "execution_count": 38,
   "metadata": {},
   "outputs": [
    {
     "name": "stdout",
     "output_type": "stream",
     "text": [
      "\n",
      " 48\n"
     ]
    }
   ],
   "source": [
    "#dir(list) listesinin uzunluğunu bularak Liste veri yapısının kaç metodu olduğunu sorgulama:\n",
    "print (\"\\n\",len(dir(list)))"
   ]
  },
  {
   "cell_type": "code",
   "execution_count": 39,
   "metadata": {},
   "outputs": [
    {
     "name": "stdout",
     "output_type": "stream",
     "text": [
      "\n",
      " (0, '__add__')\n",
      "\n",
      " (1, '__class__')\n",
      "\n",
      " (2, '__class_getitem__')\n",
      "\n",
      " (3, '__contains__')\n",
      "\n",
      " (4, '__delattr__')\n",
      "\n",
      " (5, '__delitem__')\n",
      "\n",
      " (6, '__dir__')\n",
      "\n",
      " (7, '__doc__')\n",
      "\n",
      " (8, '__eq__')\n",
      "\n",
      " (9, '__format__')\n",
      "\n",
      " (10, '__ge__')\n",
      "\n",
      " (11, '__getattribute__')\n",
      "\n",
      " (12, '__getitem__')\n",
      "\n",
      " (13, '__getstate__')\n",
      "\n",
      " (14, '__gt__')\n",
      "\n",
      " (15, '__hash__')\n",
      "\n",
      " (16, '__iadd__')\n",
      "\n",
      " (17, '__imul__')\n",
      "\n",
      " (18, '__init__')\n",
      "\n",
      " (19, '__init_subclass__')\n",
      "\n",
      " (20, '__iter__')\n",
      "\n",
      " (21, '__le__')\n",
      "\n",
      " (22, '__len__')\n",
      "\n",
      " (23, '__lt__')\n",
      "\n",
      " (24, '__mul__')\n",
      "\n",
      " (25, '__ne__')\n",
      "\n",
      " (26, '__new__')\n",
      "\n",
      " (27, '__reduce__')\n",
      "\n",
      " (28, '__reduce_ex__')\n",
      "\n",
      " (29, '__repr__')\n",
      "\n",
      " (30, '__reversed__')\n",
      "\n",
      " (31, '__rmul__')\n",
      "\n",
      " (32, '__setattr__')\n",
      "\n",
      " (33, '__setitem__')\n",
      "\n",
      " (34, '__sizeof__')\n",
      "\n",
      " (35, '__str__')\n",
      "\n",
      " (36, '__subclasshook__')\n",
      "\n",
      " (37, 'append')\n",
      "\n",
      " (38, 'clear')\n",
      "\n",
      " (39, 'copy')\n",
      "\n",
      " (40, 'count')\n",
      "\n",
      " (41, 'extend')\n",
      "\n",
      " (42, 'index')\n",
      "\n",
      " (43, 'insert')\n",
      "\n",
      " (44, 'pop')\n",
      "\n",
      " (45, 'remove')\n",
      "\n",
      " (46, 'reverse')\n",
      "\n",
      " (47, 'sort')\n"
     ]
    }
   ],
   "source": [
    "#enumerate() fonksiyonu ile bir for döngüsü yardımıyla listenin öğelerini alt alta sırasıyla ekrana gönderme:\n",
    "liste = dir(list)\n",
    "\n",
    "for i in enumerate(liste): #liste öğelerini numaralandırarak alt alta ekrana döküyor!\n",
    "    print (\"\\n\",i)"
   ]
  },
  {
   "cell_type": "code",
   "execution_count": 40,
   "metadata": {},
   "outputs": [
    {
     "name": "stdout",
     "output_type": "stream",
     "text": [
      "0. __add__\n",
      "1. __class__\n",
      "2. __class_getitem__\n",
      "3. __contains__\n",
      "4. __delattr__\n",
      "5. __delitem__\n",
      "6. __dir__\n",
      "7. __doc__\n",
      "8. __eq__\n",
      "9. __format__\n",
      "10. __ge__\n",
      "11. __getattribute__\n",
      "12. __getitem__\n",
      "13. __getstate__\n",
      "14. __gt__\n",
      "15. __hash__\n",
      "16. __iadd__\n",
      "17. __imul__\n",
      "18. __init__\n",
      "19. __init_subclass__\n",
      "20. __iter__\n",
      "21. __le__\n",
      "22. __len__\n",
      "23. __lt__\n",
      "24. __mul__\n",
      "25. __ne__\n",
      "26. __new__\n",
      "27. __reduce__\n",
      "28. __reduce_ex__\n",
      "29. __repr__\n",
      "30. __reversed__\n",
      "31. __rmul__\n",
      "32. __setattr__\n",
      "33. __setitem__\n",
      "34. __sizeof__\n",
      "35. __str__\n",
      "36. __subclasshook__\n",
      "37. append\n",
      "38. clear\n",
      "39. copy\n",
      "40. count\n",
      "41. extend\n",
      "42. index\n",
      "43. insert\n",
      "44. pop\n",
      "45. remove\n",
      "46. reverse\n",
      "47. sort\n"
     ]
    }
   ],
   "source": [
    "#Görünen metotların numaralandırılmış sıra sıra alt alta halini ekranda gösteren bir program segmenti:\n",
    "for sira_no, metot_adi in enumerate(liste):\n",
    "    print (\"%s. %s\" %(sira_no,metot_adi))"
   ]
  },
  {
   "cell_type": "code",
   "execution_count": 41,
   "metadata": {},
   "outputs": [
    {
     "name": "stdout",
     "output_type": "stream",
     "text": [
      "1. __add__\n",
      "2. __class__\n",
      "3. __class_getitem__\n",
      "4. __contains__\n",
      "5. __delattr__\n",
      "6. __delitem__\n",
      "7. __dir__\n",
      "8. __doc__\n",
      "9. __eq__\n",
      "10. __format__\n",
      "11. __ge__\n",
      "12. __getattribute__\n",
      "13. __getitem__\n",
      "14. __getstate__\n",
      "15. __gt__\n",
      "16. __hash__\n",
      "17. __iadd__\n",
      "18. __imul__\n",
      "19. __init__\n",
      "20. __init_subclass__\n",
      "21. __iter__\n",
      "22. __le__\n",
      "23. __len__\n",
      "24. __lt__\n",
      "25. __mul__\n",
      "26. __ne__\n",
      "27. __new__\n",
      "28. __reduce__\n",
      "29. __reduce_ex__\n",
      "30. __repr__\n",
      "31. __reversed__\n",
      "32. __rmul__\n",
      "33. __setattr__\n",
      "34. __setitem__\n",
      "35. __sizeof__\n",
      "36. __str__\n",
      "37. __subclasshook__\n",
      "38. append\n",
      "39. clear\n",
      "40. copy\n",
      "41. count\n",
      "42. extend\n",
      "43. index\n",
      "44. insert\n",
      "45. pop\n",
      "46. remove\n",
      "47. reverse\n",
      "48. sort\n"
     ]
    }
   ],
   "source": [
    "#enumerate() ile verdiğimiz numaralar sıfırdan başlıyor. Ancak, İstedğimiz sayıdan başlayarak listenin sıra numaralarını ayarlayabiliyoruz:\n",
    "liste = dir(list)\n",
    "for sira_no, metot_adi in enumerate(liste,1):\n",
    "    print (\"%s. %s\" %(sira_no,metot_adi))"
   ]
  },
  {
   "cell_type": "code",
   "execution_count": 42,
   "metadata": {},
   "outputs": [
    {
     "name": "stdout",
     "output_type": "stream",
     "text": [
      "2\n",
      "4\n",
      "6\n",
      "8\n",
      "10\n"
     ]
    }
   ],
   "source": [
    "# <<in>> Deyimi\n",
    "for i in range(1,10,2): #1'den başlayarak 10'a kadar, \n",
    "    print (i+1) #1'er artırarak 2'şer 2'şer ekranda göster."
   ]
  },
  {
   "cell_type": "code",
   "execution_count": 43,
   "metadata": {},
   "outputs": [
    {
     "name": "stdout",
     "output_type": "stream",
     "text": [
      "True\n"
     ]
    }
   ],
   "source": [
    "#Listelerde <<in>> in kullanımı ise\n",
    "#listede belirtilen öğenin olup olmadığını sorgulamaya ve sonunda da \n",
    "#\"True\" veya \"False\" döndürmeye yarıyor.\n",
    " \n",
    "liste = [\"elma\",\"armut\",\"cilek\",\"erik\",\"muz\"]\n",
    "\n",
    "print (\"elma\" in liste)"
   ]
  },
  {
   "cell_type": "code",
   "execution_count": 44,
   "metadata": {},
   "outputs": [
    {
     "name": "stdout",
     "output_type": "stream",
     "text": [
      "False\n"
     ]
    }
   ],
   "source": [
    "print (\"karpuz\" in liste)"
   ]
  },
  {
   "cell_type": "code",
   "execution_count": 47,
   "metadata": {},
   "outputs": [
    {
     "name": "stdout",
     "output_type": "stream",
     "text": [
      "Dosya 'seck' adiyla kaydedildi!\n"
     ]
    }
   ],
   "source": [
    "#Kullanıcıdan aldığı karakterlerle dosya adında Türkçe karakter olup olmadığını sorgulayarak uyaran ve ona göre dosya adını oluşturan bir program segmenti: \n",
    "\n",
    "#İzlenen Adımlar:\n",
    "#1) Türkçe harflerin tanımlandığı bir liste oluşturuyoruz. \n",
    "#2: Kullanıcıdan gelen dosya adına bakıp bunun içinde Türkçe karakter olup olmadığını denetliyoruz. \n",
    "#3) Eğer dosya adında Türkçe karakter varsa bunları kontrol listesine ekliyoruz. \n",
    "#4) Eğer kontrol listesinde en az bir tane öğe varsa dosya adı Türkçe karakter içeriyor demektir.\n",
    "\n",
    "turkce_harfler = \"ışğçüöİŞĞÇÜÖ\"\n",
    "kontrol_listesi = []\n",
    "\n",
    "dosya = input(\"Dosya icin bir ad secin: \")\n",
    "\n",
    "for hrf in dosya:\n",
    "    if hrf in turkce_harfler:\n",
    "        kontrol_listesi.append(hrf)\n",
    "\n",
    "if kontrol_listesi:\n",
    "    print (\"Dosya adında Turkce harf olmamali!\")\n",
    "\n",
    "elif len(dosya) > 8:\n",
    "    print (\"Dosya adi en fazla 8 karakter icerebilir!\")\n",
    "\n",
    "else:\n",
    "    print (\"Dosya '%s' adiyla kaydedildi!\" %dosya)"
   ]
  },
  {
   "cell_type": "code",
   "execution_count": 48,
   "metadata": {},
   "outputs": [
    {
     "name": "stdout",
     "output_type": "stream",
     "text": [
      "24\n",
      "100\n"
     ]
    }
   ],
   "source": [
    "#min() ve max() Fonksiyonları\n",
    "\n",
    "lst = [45, 24, 98, 71, 43, 94, 35, 90, 66, 39, 97, 96, 66, 26, 34, 61, 80, 77, 30, 92, 88, 59, 64, 50, 27, 63, 77, 48, 28, 52, 78, 56, 61, 35, 41, 53, 75, 93, 97, 58, 75, 73, 57, 73, 73, 46, 74, 31, 40, 100, 94, 73, 40, 25, 64, 96, 27, 33, 77, 62, 97, 25, 76, 33, 42, 99, 33, 54, 39, 99, 62, 99, 72, 90, 62, 78, 39, 92, 42, 58, 50, 41, 73, 27, 37, 75, 34, 63, 80, 100, 83, 32, 65, 49, 82, 64, 42, 30]\n",
    "\n",
    "print (min(lst)) #Listedeki en küçük sayıyı bulup gösterir\n",
    "print (max(lst)) #Listedeki en büyük sayı bulup gösterir"
   ]
  },
  {
   "cell_type": "code",
   "execution_count": 49,
   "metadata": {},
   "outputs": [
    {
     "name": "stdout",
     "output_type": "stream",
     "text": [
      "1) 20 Ekim 2004 - 4.10 - Warty Warthog: Siğilli Domuz\n",
      "2) 8 Nisan 2005 - 5.04 - Hoary Hedgehog: Saygıdeğer Kirpi\n",
      "3) 13 Ekim 2005 - 5.10 - Breezy Badger: Umursamaz Porsuk\n",
      "4) 1 Haziran 2006 - 6.06 - Dapper Drake: Zarif Suna\n",
      "5) 26 Eylül 2006 - 6.10 - Edgy Eft: Huysuz Semender\n",
      "6) 19 Nisan 2007 - 7.04 - Feisty Fawn: Atılgan Karaca\n",
      "7) 18 Ekim 2007 - 7.10 - Gutsy Gibbon: Yürekli Jibon\n",
      "8) 24 Nisan 2008 - 8.04 - Hardy Heron: Cüretkar Balıkçıl\n",
      "9) 30 Ekim 2008 - 8.10 - Intrepid Ibex: Yılmaz Dağ Keçisi\n",
      "10) 23 Nisan 2009 - 9.04 - Jaunty Jackalope: Neşeli Antilop Tavşanı\n",
      "11) 29 Ekim 2009 - 9.10 - Karmic Koala: Karma Keseli Ayı\n",
      "12) 29 Nisan 2010 - 10.04 - Lucid Lynx: Berrak Vaşak\n",
      "13) 10 Ekim 2010 - 10.10 - Maverick Meerkat: Asi Mirket\n",
      "14) 28 Nisan 2011 - 11.04 - Natty Narwhal: Süslü Deniz Gergedanı\n",
      "15) 13 Ekim 2011 - 11.10 - Oneiric Ocelot: Cüce Leopar\n",
      "16) 26 Nisan 2012 - 12.04 - Precise Pangolin: Hassas Pangolin\n",
      "17) 18 Ekim 2012 - 12.10 - Quantal Quetzal: Tutarlı Kuetzal\n",
      "18) 25 Nisan 2013 - 13.04 - Raring Ringtail: Can Atan Halkalı Kuyruk\n",
      "19) 17 Ekim 2013 - 13.30 - Saucy Salamander: Şımarık Semender\n",
      "20) 17 Nisan 2014 - 14.04 - Trusty Tahr: Güvenilir Keçi (Himalaya keçisi)\n",
      "21) 16 Ekim 2014 - 14.10 - Utopic Unicorn: Ütopik Boynuzlu At\n"
     ]
    }
   ],
   "source": [
    "liste = [\"20 Ekim 2004 - 4.10 - Warty Warthog: Siğilli Domuz\",\n",
    "\"8 Nisan 2005 - 5.04 - Hoary Hedgehog: Saygıdeğer Kirpi\",\n",
    "\"13 Ekim 2005 - 5.10 - Breezy Badger: Umursamaz Porsuk\",\n",
    "\"1 Haziran 2006 - 6.06 - Dapper Drake: Zarif Suna\",\n",
    "\"26 Eylül 2006 - 6.10 - Edgy Eft: Huysuz Semender\",\n",
    "\"19 Nisan 2007 - 7.04 - Feisty Fawn: Atılgan Karaca\",\n",
    "\"18 Ekim 2007 - 7.10 - Gutsy Gibbon: Yürekli Jibon\",\n",
    "\"24 Nisan 2008 - 8.04 - Hardy Heron: Cüretkar Balıkçıl\",\n",
    "\"30 Ekim 2008 - 8.10 - Intrepid Ibex: Yılmaz Dağ Keçisi\",\n",
    "\"23 Nisan 2009 - 9.04 - Jaunty Jackalope: Neşeli Antilop Tavşanı\",\n",
    "\"29 Ekim 2009 - 9.10 - Karmic Koala: Karma Keseli Ayı\",\n",
    "\"29 Nisan 2010 - 10.04 - Lucid Lynx: Berrak Vaşak\",\n",
    "\"10 Ekim 2010 - 10.10 - Maverick Meerkat: Asi Mirket\",\n",
    "\"28 Nisan 2011 - 11.04 - Natty Narwhal: Süslü Deniz Gergedanı\",\n",
    "\"13 Ekim 2011 - 11.10 - Oneiric Ocelot: Cüce Leopar\",\n",
    "\"26 Nisan 2012 - 12.04 - Precise Pangolin: Hassas Pangolin\",\n",
    "\"18 Ekim 2012 - 12.10 - Quantal Quetzal: Tutarlı Kuetzal\",\n",
    "\"25 Nisan 2013 - 13.04 - Raring Ringtail: Can Atan Halkalı Kuyruk\",\n",
    "\"17 Ekim 2013 - 13.30 - Saucy Salamander: Şımarık Semender\",\n",
    "\"17 Nisan 2014 - 14.04 - Trusty Tahr: Güvenilir Keçi (Himalaya keçisi)\",\n",
    "\"16 Ekim 2014 - 14.10 - Utopic Unicorn: Ütopik Boynuzlu At\"]\n",
    "\n",
    "sign = \"-:\"\n",
    "temp = []\n",
    "\n",
    "for i, version in enumerate(liste,1):\n",
    "\tprint (\"%s) %s\"%(i, version))"
   ]
  },
  {
   "cell_type": "code",
   "execution_count": 50,
   "metadata": {},
   "outputs": [
    {
     "name": "stdout",
     "output_type": "stream",
     "text": [
      "1) 20 Ekim 2004 - 4.10 - Warty Warthog: Siğilli Domuz\n",
      "2) 8 Nisan 2005 - 5.04 - Hoary Hedgehog: Saygıdeğer Kirpi\n",
      "3) 13 Ekim 2005 - 5.10 - Breezy Badger: Umursamaz Porsuk\n",
      "4) 1 Haziran 2006 - 6.06 - Dapper Drake: Zarif Suna\n",
      "5) 26 Eylül 2006 - 6.10 - Edgy Eft: Huysuz Semender\n",
      "6) 19 Nisan 2007 - 7.04 - Feisty Fawn: Atılgan Karaca\n",
      "7) 18 Ekim 2007 - 7.10 - Gutsy Gibbon: Yürekli Jibon\n",
      "8) 24 Nisan 2008 - 8.04 - Hardy Heron: Cüretkar Balıkçıl\n",
      "9) 30 Ekim 2008 - 8.10 - Intrepid Ibex: Yılmaz Dağ Keçisi\n",
      "10) 23 Nisan 2009 - 9.04 - Jaunty Jackalope: Neşeli Antilop Tavşanı\n",
      "11) 29 Ekim 2009 - 9.10 - Karmic Koala: Karma Keseli Ayı\n",
      "12) 29 Nisan 2010 - 10.04 - Lucid Lynx: Berrak Vaşak\n",
      "13) 10 Ekim 2010 - 10.10 - Maverick Meerkat: Asi Mirket\n",
      "14) 28 Nisan 2011 - 11.04 - Natty Narwhal: Süslü Deniz Gergedanı\n",
      "15) 13 Ekim 2011 - 11.10 - Oneiric Ocelot: Cüce Leopar\n",
      "16) 26 Nisan 2012 - 12.04 - Precise Pangolin: Hassas Pangolin\n",
      "17) 18 Ekim 2012 - 12.10 - Quantal Quetzal: Tutarlı Kuetzal\n",
      "18) 25 Nisan 2013 - 13.04 - Raring Ringtail: Can Atan Halkalı Kuyruk\n",
      "19) 17 Ekim 2013 - 13.30 - Saucy Salamander: Şımarık Semender\n",
      "20) 17 Nisan 2014 - 14.04 - Trusty Tahr: Güvenilir Keçi (Himalaya keçisi)\n",
      "21) 16 Ekim 2014 - 14.10 - Utopic Unicorn: Ütopik Boynuzlu At\n"
     ]
    }
   ],
   "source": [
    "liste = [\"20 Ekim 2004 - 4.10 - Warty Warthog: Siğilli Domuz\",\n",
    "\"8 Nisan 2005 - 5.04 - Hoary Hedgehog: Saygıdeğer Kirpi\",\n",
    "\"13 Ekim 2005 - 5.10 - Breezy Badger: Umursamaz Porsuk\",\n",
    "\"1 Haziran 2006 - 6.06 - Dapper Drake: Zarif Suna\",\n",
    "\"26 Eylül 2006 - 6.10 - Edgy Eft: Huysuz Semender\",\n",
    "\"19 Nisan 2007 - 7.04 - Feisty Fawn: Atılgan Karaca\",\n",
    "\"18 Ekim 2007 - 7.10 - Gutsy Gibbon: Yürekli Jibon\",\n",
    "\"24 Nisan 2008 - 8.04 - Hardy Heron: Cüretkar Balıkçıl\",\n",
    "\"30 Ekim 2008 - 8.10 - Intrepid Ibex: Yılmaz Dağ Keçisi\",\n",
    "\"23 Nisan 2009 - 9.04 - Jaunty Jackalope: Neşeli Antilop Tavşanı\",\n",
    "\"29 Ekim 2009 - 9.10 - Karmic Koala: Karma Keseli Ayı\",\n",
    "\"29 Nisan 2010 - 10.04 - Lucid Lynx: Berrak Vaşak\",\n",
    "\"10 Ekim 2010 - 10.10 - Maverick Meerkat: Asi Mirket\",\n",
    "\"28 Nisan 2011 - 11.04 - Natty Narwhal: Süslü Deniz Gergedanı\",\n",
    "\"13 Ekim 2011 - 11.10 - Oneiric Ocelot: Cüce Leopar\",\n",
    "\"26 Nisan 2012 - 12.04 - Precise Pangolin: Hassas Pangolin\",\n",
    "\"18 Ekim 2012 - 12.10 - Quantal Quetzal: Tutarlı Kuetzal\",\n",
    "\"25 Nisan 2013 - 13.04 - Raring Ringtail: Can Atan Halkalı Kuyruk\",\n",
    "\"17 Ekim 2013 - 13.30 - Saucy Salamander: Şımarık Semender\",\n",
    "\"17 Nisan 2014 - 14.04 - Trusty Tahr: Güvenilir Keçi (Himalaya keçisi)\",\n",
    "\"16 Ekim 2014 - 14.10 - Utopic Unicorn: Ütopik Boynuzlu At\"]\n",
    "\n",
    "sign = \"-:\"\n",
    "temp = []\n",
    "\n",
    "for i, version in enumerate(liste,1):\n",
    "\tprint (\"%s) %s\"%(i, version))"
   ]
  },
  {
   "cell_type": "markdown",
   "metadata": {},
   "source": [
    "# Tuple  << Demet >> Yapıları\n",
    "\n",
    "    \"tuple\" ile tanımlanır. Tuple kelimesi Türkçe \"Demet\" anlamına gelir. Listelere çok benzer.\n",
    "\n",
    "    Ancak aralarındaki fark; listeler üzerinde oynamalar yapılabilirken (Yani listelerde \"append([...]), extend([...]), insert(), pop(), remove() gibi metotlarla öğe ekleyebilir ve çıkarabilirken), tuple ile böyle işlemler yapılamaz."
   ]
  },
  {
   "cell_type": "code",
   "execution_count": 53,
   "metadata": {},
   "outputs": [
    {
     "data": {
      "text/plain": [
       "['__add__',\n",
       " '__class__',\n",
       " '__class_getitem__',\n",
       " '__contains__',\n",
       " '__delattr__',\n",
       " '__dir__',\n",
       " '__doc__',\n",
       " '__eq__',\n",
       " '__format__',\n",
       " '__ge__',\n",
       " '__getattribute__',\n",
       " '__getitem__',\n",
       " '__getnewargs__',\n",
       " '__getstate__',\n",
       " '__gt__',\n",
       " '__hash__',\n",
       " '__init__',\n",
       " '__init_subclass__',\n",
       " '__iter__',\n",
       " '__le__',\n",
       " '__len__',\n",
       " '__lt__',\n",
       " '__mul__',\n",
       " '__ne__',\n",
       " '__new__',\n",
       " '__reduce__',\n",
       " '__reduce_ex__',\n",
       " '__repr__',\n",
       " '__rmul__',\n",
       " '__setattr__',\n",
       " '__sizeof__',\n",
       " '__str__',\n",
       " '__subclasshook__',\n",
       " 'count',\n",
       " 'index']"
      ]
     },
     "execution_count": 53,
     "metadata": {},
     "output_type": "execute_result"
    }
   ],
   "source": [
    "#Tuple  Metotları\n",
    "#Bu metotlar aşağıdaki gibidir:\n",
    "#Bu metotları dir() metodu yardımıyla aşağıdaki gibi öğrenebiliriz:\n",
    "dir(tuple)"
   ]
  },
  {
   "cell_type": "code",
   "execution_count": 54,
   "metadata": {},
   "outputs": [
    {
     "name": "stdout",
     "output_type": "stream",
     "text": [
      "2\n",
      "3\n"
     ]
    }
   ],
   "source": [
    "#Ancak bunların arasında sıkça kullanılan iki metot vardır: \"insert()\" ve \"count()\" \n",
    "\n",
    "thistuple = (1, 3, 7, 8, 7, 5, 4, 6, 8, 5)\n",
    "x1 = thistuple.count(5)\n",
    "print(x1)\n",
    "x2 = thistuple.index(8)\n",
    "print(x2)"
   ]
  },
  {
   "cell_type": "markdown",
   "metadata": {},
   "source": [
    "# Dictionary  << Sözlük >> Yapıları\n",
    "\n",
    "\"dict\" ile tanımlanır. Sözlükleri kullanabilmek için öncelikle bir liste oluşturmamız gerekir. Python’da herhangi bir sözlük oluşturmak için önce sözlüğümüze bir ad verilmeli, ardından da küme parantezleri içinde bu listenin öğelerini belirlenmelidir.\n",
    "Yani sözlük oluştururken dikkat etmemiz gereken üç temel nokta var: \n",
    " \n",
    "    -Birincisi tıpkı değişkenlere isim veriyormuşuz gibi sözlüğe de isim vermek. Ancak bu isimler Türkçe karakter içermemelidir. \n",
    "    -İkincisi, sözlüğümüzü oluşturan öğeleri küme parantezleri \"{}\" içinde yazmak.\n",
    "    -Python'un dict yapısını ayırt edebilmesinin üçüncü temel kriteri ise, dict'in içindeki her bir öğenin (\"\") - tırnak işareti içinde belirtilmesi (ama eğer gireceğiniz sayı boşluklu değilse ve 0 ile başlamıyorsa bu sayıyı tırnaksız da yazabilirsiniz) ve de virgüllerle - (:) ayrılmasıdır.\n",
    "Sözlükler, anahtar-değer çiftlerinden oluşan bir veri tipidir. Python’da sözlük için “anahtar” ve “değer” arasında bağ kuran bir veri tipidir de denir."
   ]
  },
  {
   "cell_type": "code",
   "execution_count": 55,
   "metadata": {},
   "outputs": [
    {
     "name": "stdout",
     "output_type": "stream",
     "text": [
      "<class 'dict'>\n"
     ]
    }
   ],
   "source": [
    "#Boş Bir Sözlük Oluşturma:\n",
    "dictionary0 = {}\n",
    "#Oluşturduğumuz Yapının Hangi Tipte Olduğunu Öğrenme:\n",
    "print (type(dictionary0))"
   ]
  },
  {
   "cell_type": "code",
   "execution_count": 56,
   "metadata": {},
   "outputs": [
    {
     "name": "stdout",
     "output_type": "stream",
     "text": [
      "{'elma': 'meyve', 'domates': 'sebze', 1: 'sayi'}\n"
     ]
    }
   ],
   "source": [
    "#Anahtar - Değer Sözlük Açıklaması\n",
    "#Burada mesela, elma bir “anahtar”, meyve ise bu anahtarın “değeri”dir.\n",
    "sozluk = {\"elma\": \"meyve\", \"domates\": \"sebze\", 1: \"sayi\"}\n",
    "print (sozluk)"
   ]
  },
  {
   "cell_type": "code",
   "execution_count": 57,
   "metadata": {},
   "outputs": [
    {
     "name": "stdout",
     "output_type": "stream",
     "text": [
      "{'Python': 'programlama dili', 'Ingilizce': 'dil', 'elma': 'meyve'}\n"
     ]
    }
   ],
   "source": [
    "#Anahtarımız Nesne Adı, Değerimiz: Nesne Türü\n",
    "anahtar_deger = {\"Python\": \"programlama dili\", \"Ingilizce\": \"dil\", \"elma\": \"meyve\"}\n",
    "\n",
    "print (anahtar_deger)"
   ]
  },
  {
   "cell_type": "code",
   "execution_count": 58,
   "metadata": {},
   "outputs": [
    {
     "name": "stdout",
     "output_type": "stream",
     "text": [
      "{'Ankara': '06', 'Istanbul': '34', 'Izmir': '35'}\n"
     ]
    }
   ],
   "source": [
    "#İl - plaka örneği\n",
    "il_plaka = {\"Ankara\": \"06\", \"Istanbul\": \"34\", \"Izmir\": \"35\"}\n",
    "\n",
    "print (il_plaka)"
   ]
  },
  {
   "cell_type": "code",
   "execution_count": 59,
   "metadata": {},
   "outputs": [
    {
     "name": "stdout",
     "output_type": "stream",
     "text": [
      "3\n"
     ]
    }
   ],
   "source": [
    "#Bu sözlük 3 öğeden oluşuyor bunu daha net anlamak için \"len\" fonksiyonundan yardım alabiliriz:\n",
    "print (len(il_plaka))"
   ]
  },
  {
   "cell_type": "code",
   "execution_count": 60,
   "metadata": {},
   "outputs": [
    {
     "name": "stdout",
     "output_type": "stream",
     "text": [
      "{'a': 1, 'b': 2, 'c': 3}\n"
     ]
    }
   ],
   "source": [
    "#Sözlük Öğelerine Erişmek\n",
    "\n",
    "d = {\"a\": 1, \"b\": 2, \"c\": 3}\n",
    "print (d)"
   ]
  },
  {
   "cell_type": "code",
   "execution_count": 61,
   "metadata": {},
   "outputs": [
    {
     "name": "stdout",
     "output_type": "stream",
     "text": [
      "0533 123 45 67\n",
      "0533 333 33 33\n"
     ]
    }
   ],
   "source": [
    "#Dict Yapısı Sırasız Bir Veri Tipidir Bu Nedenle Anahtar Adlarına Göre Erişim Sağlanır:\n",
    "\n",
    "#Anahtarımız: İsim, Değerimiz: Telefon Numarası\n",
    "\n",
    "telefon_defteri = {\"Ahmet\": \"0533 123 45 67\",\n",
    "\"Salih\": \"0532 321 54 76\",\n",
    "\"Selin\": \"0533 333 33 33\"}\n",
    "\n",
    "print (telefon_defteri[\"Ahmet\"]) #\"Ahmet\" anahtarına kayıtlı telefon kaydı değerini ekrana aktarır!\n",
    "print (telefon_defteri[\"Selin\"]) #\"Selin\" anahtarına kayıtlı telefon kaydı değerini ekrana aktarır!\n"
   ]
  },
  {
   "cell_type": "code",
   "execution_count": 62,
   "metadata": {},
   "outputs": [
    {
     "name": "stdout",
     "output_type": "stream",
     "text": [
      "{'Adiniz: ': 'Umit', 'Soyadiniz: ': 'Sezgin'}\n"
     ]
    }
   ],
   "source": [
    "#Sözlüklere Öğe Eklemek\n",
    "\n",
    "ad_soyad = {} #boş bir sözlük\n",
    "\n",
    "#Yapı: sozluk [anahtar] = deger \n",
    "\n",
    "ad_soyad [\"Adiniz: \"] = \"Umit\" #sözlüğe öğe ekleme\n",
    "ad_soyad [\"Soyadiniz: \"] = \"Sezgin\"\n",
    "\n",
    "print (ad_soyad)"
   ]
  },
  {
   "cell_type": "code",
   "execution_count": 64,
   "metadata": {},
   "outputs": [
    {
     "name": "stdout",
     "output_type": "stream",
     "text": [
      "1 ) Ahmet : \t\t (0533) 455-4541\n",
      "2 ) Servet : \t\t (0542) 896-9594\n",
      "3 ) Salih : \t\t (0533) 333-3333\n",
      "4 ) Seckın : \t\t 0555-333-4455\n"
     ]
    }
   ],
   "source": [
    "#Telefon Defteri Örneği\n",
    "\n",
    "#1) Telefon Rehberi Sözlüğümüzü Oluşturalım:\n",
    "tel_rehberi = {\"Ahmet\": \"(0533) 455-4541\", \"Servet\": \"(0542) 896-9594\", \"Salih\": \"(0533) 333-3333\"}\n",
    "\n",
    "#2) Kullanıcıdan bir isim girmesini isteyelim:\n",
    "isim = input(\"Bir isim giriniz: \")\n",
    "\n",
    "#3) Eğer bu isim telefon rehberinin anahtarlarından biriyse\n",
    "#bulundu mesajı verip o kişiye ait telefon numarası değerini ekrana aktaralım:\n",
    "if isim in tel_rehberi.keys():\n",
    "\tprint (\"%s adinda bir telefon kaydi bulundu!\" %isim)\n",
    "\tprint (\"%s'in telefon numarasi: %s\" %(isim, tel_rehberi[isim]))\n",
    "\n",
    "#4) İsim anahtarlarla örtüşmüyorsa kullanıcıdan bu kişiye ait\n",
    "#bir telefon numarası girmesini isteyerek bu yeni anahtar-değer ikilisini sözlüğümüze ekleyelim:\n",
    "else:\n",
    "\ttel_rehberi [isim] = input(\"Telefon numarasini girin, ornegin; (05**) ***-****: \")\n",
    "\n",
    "#5) Son olarak ekrana sıra numarası vererek telefon rehberi sözlüğümüzdeki adları \n",
    "#büyük harflerle yanlarında da telefon numaraları olacak şekilde alt alta ekrana aktaralım:\n",
    "\tfor i, item in enumerate(tel_rehberi):\n",
    "\t\tprint ((i+1), \")\", item.capitalize(), \": \\t\\t\", tel_rehberi[item])\n"
   ]
  },
  {
   "cell_type": "code",
   "execution_count": 66,
   "metadata": {},
   "outputs": [
    {
     "name": "stdout",
     "output_type": "stream",
     "text": [
      "1 ) Kursun kalem : \t\t Pencil\n",
      "2 ) Tukenmez kalem : \t\t Pen\n",
      "3 ) Masa : \t\t Table\n",
      "4 ) Fare : \t\t Mouse\n",
      "5 ) Rehber : \t\t Guide\n",
      "6 ) Silgi : \t\t Eraser\n",
      "7 ) Araba  : \t\t Car\n"
     ]
    }
   ],
   "source": [
    "#Turkish - English Dictionary (Türkçe - İngilizce Sözlük Örneği)\n",
    "#1) Türkçe - İngilizc Sözlüğümüzü Oluşturalım:\n",
    "dictionary = {\"kursun kalem\": \"pencil\", \"tukenmez kalem\": \"pen\", \"masa\": \"table\",\n",
    "\"fare\": \"mouse\", \"rehber\": \"guide\", \"silgi\": \"eraser\"} \n",
    "#Anahtar: Türkçe Kelime, Değer: İngilizce Karşılığı\n",
    "\n",
    "#2) Kullanıcıdan bir Türkçe kelime girmesini isteyelim:\n",
    "turkish = input(\"\\nBir kelime giriniz: \")\n",
    "\n",
    "#3) Eğer bu kelime sözlüğün anahtarlarından biriyse\n",
    "#\"Türkçe kelime = İngilizce kelime\" şeklinde ekrana aktaralım: \n",
    "if turkish in dictionary.keys():\n",
    "\tprint (\"%s = %s (in English)\" %(turkish, dictionary[turkish]))\n",
    "\t#4) Sözlüğün tamamını aynı formatta ekrana aktaralım:\n",
    "\tfor i, item in enumerate(dictionary):\n",
    "\t\tprint (\"\\n\", (i+1), \")\", item, \": \\t\\t\", dictionary[item])\t\n",
    "\n",
    "#5) Türkçe kelime eğer sözlüğümüzdeki Türkçe kelimelerden biri değilse\n",
    "#Kullanıcıdan kelimenin İngilizce karşılığını isteyelim:\n",
    "else:\n",
    "\tdictionary [turkish] = input(\"English equivalent: \")\n",
    "\t#6) Sözlüğün tamamını aynı formatta ekrana aktaralım:\n",
    "\tfor i, item in enumerate(dictionary):\n",
    "\t\tprint ((i+1), \")\", item.capitalize(), \": \\t\\t\", dictionary[item].capitalize())\n"
   ]
  },
  {
   "cell_type": "code",
   "execution_count": 67,
   "metadata": {},
   "outputs": [
    {
     "name": "stdout",
     "output_type": "stream",
     "text": [
      "{'Aliye': '0544 444 01 00'}\n"
     ]
    }
   ],
   "source": [
    "#Dictionary Öğelerini Değiştirmek:\n",
    "\n",
    "rehber = {}\n",
    "\n",
    "rehber [\"Aliye\"] = \"0544 444 01 00\"\n",
    "\n",
    "print (rehber)"
   ]
  },
  {
   "cell_type": "code",
   "execution_count": 68,
   "metadata": {},
   "outputs": [
    {
     "name": "stdout",
     "output_type": "stream",
     "text": [
      "{'Aliye': '0555 555 55 55', 'aliye': '0555 555 55 55'}\n"
     ]
    }
   ],
   "source": [
    "#Böylece sözlükteki \"Aliye\" anahtarının değerini değiştirmiş olduk.\n",
    "rehber[\"Aliye\"] = \"0555 555 55 55\"\n",
    "\n",
    "rehber[\"aliye\"] = \"0555 555 55 55\"\n",
    "\n",
    "#Bu arada, sözlük öğelerinde büyük-küçük harfin önemli olduğuna dikkat edin:\n",
    "print (rehber)"
   ]
  },
  {
   "cell_type": "code",
   "execution_count": 69,
   "metadata": {},
   "outputs": [
    {
     "name": "stdout",
     "output_type": "stream",
     "text": [
      "{'Ahmet': '0533 123 45 67', 'Selin': '0533 333 33 33'}\n"
     ]
    }
   ],
   "source": [
    "#“Aliye” ve “aliye” aynı görünse de \n",
    "#aslında Python açısından bunların ikisi tamamen birbirinden farklıdır...\n",
    "\n",
    "#NOT:Buradan anladığımız şu: Bir sözlüğe yeni bir öğe eklerken de, \n",
    "#Varolan bir öğeyi değiştirirken de aynı komutu kullanıyoruz. \n",
    "#Demek ki bir öğeyi değiştirirken aslında öğeyi değiştirmiyor, \n",
    "#silip yerine yenisini koyuyoruz.\n",
    "\n",
    "#Dictionary Öğelerini Silmek:\n",
    "\n",
    "#Del Komutu ile Sözlükten Bir Öğe Silmek:\n",
    "\n",
    "tel_def = {\"Ahmet\": \"0533 123 45 67\",\n",
    "\"Salih\": \"0532 321 54 76\", \"Selin\": \"0533 333 33 33\"}\n",
    "\n",
    "del tel_def[\"Salih\"]\n",
    "print (tel_def) #Salih anahtarı ve kaydı silindi!"
   ]
  },
  {
   "cell_type": "code",
   "execution_count": 70,
   "metadata": {},
   "outputs": [
    {
     "name": "stdout",
     "output_type": "stream",
     "text": [
      "{}\n"
     ]
    }
   ],
   "source": [
    "#Clear Sözlük Metodu ile Sözlükteki Bütün Öğeleri Silmek:\n",
    "tel_def.clear()\n",
    "print (tel_def) #Boş bir sözlük elde etmiş olduk."
   ]
  },
  {
   "cell_type": "code",
   "execution_count": 71,
   "metadata": {},
   "outputs": [
    {
     "name": "stdout",
     "output_type": "stream",
     "text": [
      "clear\n",
      "copy\n",
      "fromkeys\n",
      "get\n",
      "items\n",
      "keys\n",
      "pop\n",
      "popitem\n",
      "setdefault\n",
      "update\n",
      "values\n"
     ]
    }
   ],
   "source": [
    "#print dir({}) #Sözlüklerin hangi metotlara sahip olduğunu ne gibi özelliklerinin olduğunu gösterir.\n",
    "for i in dir({}):\n",
    "\tif \"_\" not in i[0]: #Ama ihtiyacımız olan çokça kullanılanlar başında ve sonunda \"_\" karakter olmayanlardır!\n",
    "\t\t#Bilmemiz gereken Dict Yapısı Metotları:\n",
    "\t\tprint (i)"
   ]
  },
  {
   "cell_type": "code",
   "execution_count": 72,
   "metadata": {},
   "outputs": [
    {
     "name": "stdout",
     "output_type": "stream",
     "text": [
      "dict_keys(['Ahmet', 'Salih', 'Selin'])\n",
      "dict_values(['0533 123 45 67', '0532 321 54 76', '0533 333 33 33'])\n"
     ]
    }
   ],
   "source": [
    "#Keys ve Values metotları\n",
    "telefon_defteri = {\"Ahmet\": \"0533 123 45 67\",\n",
    "\"Salih\": \"0532 321 54 76\", \"Selin\": \"0533 333 33 33\"}\n",
    "\n",
    "#keys() metodu bir sözlükteki anahtarları,\n",
    "#values() metodu ise sözlükteki değerleri verir.\n",
    "print (telefon_defteri.keys())\n",
    "print (telefon_defteri.values())"
   ]
  },
  {
   "cell_type": "code",
   "execution_count": 73,
   "metadata": {},
   "outputs": [
    {
     "name": "stdout",
     "output_type": "stream",
     "text": [
      "0533 123 45 67\n"
     ]
    }
   ],
   "source": [
    "#Pop ve popitem metodu\n",
    "telefon_defteri = {\"Ahmet\": \"0533 123 45 67\",\n",
    "\"Salih\": \"0532 321 54 76\", \"Selin\": \"0533 333 33 33\"}\n",
    "\n",
    "#pop() metodu bir sözlükteki öğeleri adlarına göre siler ve ekrana basar:\n",
    "print (telefon_defteri.pop(\"Ahmet\"))"
   ]
  },
  {
   "cell_type": "code",
   "execution_count": 74,
   "metadata": {},
   "outputs": [
    {
     "name": "stdout",
     "output_type": "stream",
     "text": [
      "('Selin', '0533 333 33 33')\n",
      "{'Salih': '0532 321 54 76'}\n"
     ]
    }
   ],
   "source": [
    "#popitem() metodu ise bir sözlükteki rastgele bir anahtarı siler ve silinen anahtarın değerini ekrana basar:\n",
    "print (telefon_defteri.popitem())\n",
    "print (telefon_defteri)"
   ]
  },
  {
   "cell_type": "code",
   "execution_count": 75,
   "metadata": {},
   "outputs": [
    {
     "name": "stdout",
     "output_type": "stream",
     "text": [
      "dict_items([('Salih', '0532 321 54 76')])\n"
     ]
    }
   ],
   "source": [
    "#Items metodu\n",
    "print (telefon_defteri.items())"
   ]
  },
  {
   "cell_type": "code",
   "execution_count": 76,
   "metadata": {},
   "outputs": [
    {
     "name": "stdout",
     "output_type": "stream",
     "text": [
      "Salih 0532 321 54 76\n"
     ]
    }
   ],
   "source": [
    "#unpacking: Items() dict metodu tüm dict'in içindeki anahtar\n",
    "#ve değerleri bir liste içine almaya yarıyor. \n",
    "#Bu anahtar ve değer çiftleri birer demet biçiminde olduğundan \n",
    "#bunları tek tek alıp ekrana eçık halinde gönderme işlemine \"unpacking\" deniliyor!\n",
    "for anahtar, deger in telefon_defteri.items():\n",
    "\tprint (anahtar, deger)"
   ]
  },
  {
   "cell_type": "code",
   "execution_count": 77,
   "metadata": {},
   "outputs": [
    {
     "name": "stdout",
     "output_type": "stream",
     "text": [
      "dict_keys(['Salih'])\n",
      "dict_values(['0532 321 54 76'])\n"
     ]
    }
   ],
   "source": [
    "print (telefon_defteri.keys())\n",
    "print (telefon_defteri.values())"
   ]
  },
  {
   "cell_type": "code",
   "execution_count": 78,
   "metadata": {},
   "outputs": [
    {
     "name": "stdout",
     "output_type": "stream",
     "text": [
      "\n",
      "Yeni Sozluk: \n",
      "\n",
      "Salih 0532 321 54 76\n"
     ]
    }
   ],
   "source": [
    "#copy metodu sözlüğü başka bir sözlüğe kopyalamamızı sağlar\n",
    "yeni_rehber = telefon_defteri.copy()\n",
    "print (\"\\nYeni Sozluk: \\n\")\n",
    "for anahtar, deger in yeni_rehber.items():\n",
    "\tprint (anahtar, deger)"
   ]
  },
  {
   "cell_type": "markdown",
   "metadata": {},
   "source": [
    "# Dictionary Kullanımının Faydaları:\n",
    "Python’daki sözlük veri tipi ve bu veri tipinin get() adlı metodu ile kullanıcıdan aldığımız bilgileri dict yapısı içinde depoladığımız anahtar-değer çiflerinden anahtarlarda mevcut olup olmadığını denetleyememize imkan sağlıyor. Bunun yanısıra, adı geçen değerin sözlük içinde varolmaması durumunda kullanıcıya gösterilecek bir mesaj seçme olanağı da sunuyor. Bu sayede, Python sözlüklerinde bulunan bu get() metodu bizi else veya try-except blokları kullanarak hata yakalamaya uğraşma zahmetinden de kurtarıyor. if deyimleri yerine sözlüklerden yararlanmanın, get() metodu gib faydalarının dışında bir de şu yararları vardır:\n",
    "\n",
    "     -Öncelikle sözü geçen senaryo için sözlükleri kullanmak programcıya daha az kodla daha çok iş yapma olanağı sağlar.\n",
    "     -Sözlük programcının elle oluşturacağı “if-elif-else” bloklarından daha performanslıdır ve bize çok hızlı bir şekilde veri sorgulama imkânı sağlar.\n",
    "\n",
    "     -Kodların daha az yer kaplaması sayesinde programın bakımı da kolaylaşacaktır.\n",
    "     -Tek tek “if-elif-else” blokları içinde şehir adı ve buna ilişkin hava durumu bilgileri tanımlamaya kıyasla sözlük içinde yeni anahtar-değer çiftleri oluşturmak daha pratiktir."
   ]
  },
  {
   "cell_type": "code",
   "execution_count": null,
   "metadata": {},
   "outputs": [],
   "source": []
  }
 ],
 "metadata": {
  "kernelspec": {
   "display_name": "Python 3",
   "language": "python",
   "name": "python3"
  },
  "language_info": {
   "codemirror_mode": {
    "name": "ipython",
    "version": 3
   },
   "file_extension": ".py",
   "mimetype": "text/x-python",
   "name": "python",
   "nbconvert_exporter": "python",
   "pygments_lexer": "ipython3",
   "version": "3.11.4"
  },
  "orig_nbformat": 4
 },
 "nbformat": 4,
 "nbformat_minor": 2
}
